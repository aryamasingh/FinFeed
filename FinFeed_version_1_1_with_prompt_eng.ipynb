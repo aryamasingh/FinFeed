{
 "cells": [
  {
   "cell_type": "code",
   "execution_count": 18,
   "id": "51c7e2d6-6b6a-4bfc-8d75-9bba8960c84f",
   "metadata": {},
   "outputs": [],
   "source": [
    "import os\n",
    "from dotenv import load_dotenv\n",
    "from langchain_experimental.text_splitter import SemanticChunker ##this is new\n",
    "from langchain_openai.chat_models import ChatOpenAI\n",
    "from langchain_core.output_parsers import StrOutputParser\n",
    "from langchain.prompts import ChatPromptTemplate\n",
    "from langchain_community.document_loaders import TextLoader\n",
    "from langchain.text_splitter import RecursiveCharacterTextSplitter\n",
    "from langchain_openai.embeddings import OpenAIEmbeddings\n",
    "from pinecone import Pinecone,  PodSpec\n",
    "from langchain_pinecone import PineconeVectorStore\n",
    "from langchain_core.runnables import RunnablePassthrough\n",
    "import re\n",
    "from collections import Counter\n",
    "from nltk.corpus import stopwords\n",
    "from nltk.tokenize import word_tokenize\n",
    "from transformers import pipeline\n",
    "from langchain_core.runnables import RunnablePassthrough,RunnableLambda\n",
    "from langchain_core.pydantic_v1 import BaseModel, Field\n",
    "import ast\n",
    "import matplotlib.pyplot as plt\n",
    "from transformers import AutoTokenizer, AutoModelForSequenceClassification, pipeline\n",
    "import pandas as pd\n",
    "load_dotenv(\"API_KEYS\") #### don't forget to change!!!\n",
    "\n",
    "\n",
    "class Classification(BaseModel):\n",
    "    answer: str = Field(description=\"\"\"Do Answer the question based on the context below but pretend like you are a news reporter who just received the context as the latest news. \n",
    "                            If you can't answer the question, reply 'I do not have enough information to answer this question' \"\"\")\n",
    "    sentiment: str = Field(description=\"The sentiment of the comments. Rate each comment.\")\n",
    "    aggressiveness: str = Field(\n",
    "        description=\"How aggressive the comments is on a scale from 1 to 10. 1 being polite and 10 means aggressive.\"\n",
    "    )\n",
    "    language: str = Field(description=\"The language the text is written in\")\n",
    "    political_tendency : str = Field(description= \"\"\"The political leaning of the comment. Emphasize political leaning on both economic andsocial policies. Justify your answer.\"\"\")\n",
    "\n",
    "\n",
    "class FinFeedRAG:\n",
    "    def __init__(self, pine_cone_api_key, openai_api_key, pinecone_index, embeddings_model= OpenAIEmbeddings(),model='gpt-3.5-turbo'):\n",
    "        self.openai_api_key=openai_api_key\n",
    "        self.api_key_pinecone = pine_cone_api_key\n",
    "        self.pinecone_index = pinecone_index\n",
    "        # Initialize Pinecone connection\n",
    "        self.vector_db = None\n",
    "        self.embeddings=embeddings_model\n",
    "        self.model=model\n",
    "        self.template_classification = \"\"\"\n",
    "                            Answer the question based on the context below but pretend like you are a news reporter who just received the context as the latest news. \n",
    "                            If you can't answer the question, reply \"I do not have enough information to answer this question\".\n",
    "                \n",
    "                            Extract the properties mentioned in the 'Classification' function and also justify your analysis.\n",
    "\n",
    "                            Context: {context}\n",
    "\n",
    "                            Public Comments: {comments}\n",
    "                            \n",
    "                            Question: {question}\n",
    "                            \"\"\"\n",
    "        self.template = \"\"\"\n",
    "                        Answer the question based on the context provided below, which is structured in a dictionary format. Assume the role of a news reporter. Each time you use information from the context, you must cite it explicitly. Cite the source accompanying each context entry by including it directly in your response. Additionally, for each context, public opinion is provided. At the end of the answer, please provide some examples from public opinion.\n",
    "                        \n",
    "                        Use as many contexts as possible to provide a comprehensive answer. If you lack sufficient information to formulate a response, please state: \"I do not have enough information to answer this question.\"\n",
    "                        \n",
    "                        Contexts:\n",
    "                        {context}\n",
    "                        \n",
    "                        Question:\n",
    "                        {question}\n",
    "                        \n",
    "                        Citing the context:\n",
    "                        When referencing a specific context in your answer, use the format:\n",
    "                        'According to [source], ...'. For example, if drawing from the first context, you would write:\n",
    "                        'According to Yahoo Finance, ...'.\n",
    "                        \n",
    "                        Providing public opinion:\n",
    "                        At the end of your answer, include public opinion using the format:\n",
    "                        \"Public Opinon:\\n\n",
    "                        Here are some examples of people's reactions to related news: [public opinion quotes].\"\n",
    "                        \n",
    "                        \"\"\"\n",
    "\n",
    "\n",
    "\n",
    "\n",
    "\n",
    "        self.template_prompt_engineer = \"\"\"\n",
    "Transform the following user query into a concise and optimized prompt suitable for retrieving relevant chunks from vector data base which consists of news on finance, economics, and politics. Ensure the rephrased prompt clearly reflects key terms and concepts from these fields to improve accuracy in data querying.\n",
    "Original Query: '{question}'\n",
    "\"\"\"\n",
    "\n",
    "\n",
    "\n",
    "#####################################################\n",
    "    def extract_comments(self, query):\n",
    "        retriever = PineconeVectorStore.from_existing_index(\n",
    "            index_name=self.pinecone_index,\n",
    "            embedding=self.embeddings\n",
    "        ).as_retriever(\n",
    "            search_type='similarity',\n",
    "            search_kwargs={'k': 10}\n",
    "        )\n",
    "\n",
    "        documents = retriever.invoke(query)\n",
    "        comments = []\n",
    "        for doc in documents:\n",
    "            comments.extend(doc.metadata.get('youtube_comments', []))\n",
    "        comments_str = \"\\n\".join(comments)\n",
    "        return comments_str\n",
    "    def prompt_tagging(self,template=None):\n",
    "        if template is None:\n",
    "            template = self.template_classification\n",
    "        return ChatPromptTemplate.from_template(template)\n",
    "\n",
    "    def tagging_chain(self, query):\n",
    "        retriever = PineconeVectorStore.from_existing_index(\n",
    "            index_name=self.pinecone_index,\n",
    "            embedding=self.embeddings\n",
    "        ).as_retriever(\n",
    "            search_type='similarity',\n",
    "            search_kwargs={'k': 10}\n",
    "        )\n",
    "\n",
    "        comments = self.extract_comments(query)\n",
    "        comments_runnable = RunnableLambda(lambda _: comments)\n",
    "\n",
    "        chaining = (\n",
    "            {\n",
    "                \"context\": retriever,\n",
    "                \"comments\": comments_runnable,\n",
    "                \"question\": RunnablePassthrough()\n",
    "            }\n",
    "            | self.prompt_tagging() #uses self.template_classification\n",
    "            | self.llm_tagging() #for structured output\n",
    "        )\n",
    "\n",
    "        return chaining.invoke(query).dict()\n",
    "\n",
    "    \n",
    "####################################Sentiment\n",
    "    def get_all_vector_ids(self,  input_vector, top_k = 10000, index= None):\n",
    "        if index is None:\n",
    "            index = self.pinecone_index\n",
    "        results = index.query(vector=input_vector, top_k= top_k, include_values=False)\n",
    "        # ids = set()\n",
    "        ids=[]\n",
    "        for result in results['matches']:\n",
    "            # ids.add(result['id'])\n",
    "            ids.append(result['id'])\n",
    "        return ids\n",
    "\n",
    "\n",
    "    def insert_youtube_metadata(self, top_k=10000, index= None):\n",
    "        \"\"\"Set top_k >= total_vector_count of vector database\n",
    "        \"\"\"\n",
    "        if index is None:\n",
    "            index= self.pinecone_index\n",
    "        assert top_k > self.vector_db.describe_index_stats().total_vector_count, \"top_k is less that total_vector_count of vector database\"\n",
    "\n",
    "        my_index = Pinecone(self.api_key_pinecone).Index(index)\n",
    "        all_ids = self.get_all_vector_ids([0.0] * 1536, top_k= top_k , index=my_index)  \n",
    "\n",
    "        for id in all_ids:\n",
    "        \n",
    "            old_metadata = index.fetch([id])['vectors'][id]['metadata']\n",
    "            index.update(\n",
    "            id= id, \n",
    "            set_metadata={'youtube_response_metadata': str(self.df_youtube_data[self.df_youtube_data['txt_file_path'].apply(lambda x : x.replace('\\\\','/')) == \n",
    "                                                                old_metadata['source']]['response_metadata'].values[0]),\n",
    "                        'youtube_comments': self.df_youtube_data[self.df_youtube_data['txt_file_path'].apply(lambda x : x.replace('\\\\','/')) \n",
    "                                                                 == old_metadata['source']]['list_of_comments'].values[0]\n",
    "        }, \n",
    "            namespace=\"\"\n",
    "        )\n",
    "  \n",
    "\n",
    "    def llm_tagging(self, model = 'gpt-3.5-turbo'):\n",
    "        llm = ChatOpenAI(openai_api_key=self.openai_api_key, model=model).with_structured_output(Classification)\n",
    "        return llm\n",
    "\n",
    "\n",
    "    \n",
    "    def initialize_pinecone(self):\n",
    "        if self.vector_db is None:  # Check if it's already initialized\n",
    "            pc = Pinecone(api_key=self.api_key_pinecone)\n",
    "            self.vector_db = pc.Index(self.pinecone_index)  # Connect to the index and store the connection\n",
    "        return self.vector_db\n",
    "        \n",
    "    \n",
    "    def preprocess_youtube_text(self, text_file, chunksize,chunkoverlap, preprocess_yt=True):\n",
    "        if preprocess_yt:\n",
    "            self.preprocess_input(text_file,save_back_to_file=True)\n",
    "        else:\n",
    "            None\n",
    "        loader = TextLoader(text_file) #text instance of langchain\n",
    "        text_documents = loader.load() \n",
    "        # Assuming RecursiveCharacterTextSplitter is a class you have access to or have created\n",
    "        splitter = RecursiveCharacterTextSplitter(chunk_size=chunksize, chunk_overlap=chunkoverlap)\n",
    "        processed_text = splitter.split_documents(text_documents)\n",
    "        # Further processing can be done here if necessary\n",
    "        return processed_text\n",
    "\n",
    "    def upload_to_vb(self,text,embeddings,chunksize, chunkoverlap,index=None,preprocess_yt=True):\n",
    "        if index is None:\n",
    "            index = self.pinecone_index\n",
    "        return PineconeVectorStore.from_documents(self.preprocess_youtube_text(text,chunksize,chunkoverlap,preprocess_yt), self.embeddings, index_name=index)\n",
    "\n",
    "\n",
    "    def preprocess_input(self, text_file,save_back_to_file=True):\n",
    "        # Simple text preprocessing: lowercasing, removing punctuation need to add more preprocessing steps do research on it\n",
    "        # Read and process the content and rewrite it\n",
    "        if save_back_to_file==True:\n",
    "            with open(text_file, 'r') as file:\n",
    "                # Read the contents of the file\n",
    "                text = file.read()\n",
    "            processed_text = text.lower()\n",
    "            processed_text = re.sub(r'[^\\w\\s]', '', processed_text)\n",
    "            tokens = word_tokenize(processed_text)\n",
    "            filtered_words = [word for word in tokens if word.lower() not in stopwords.words('english')]\n",
    "            # Join words back into a single string\n",
    "            final_text = ' '.join(filtered_words)\n",
    "            # Write the processed content back, replacing the original\n",
    "            with open(text_file, 'w') as file:\n",
    "                file.write(final_text)\n",
    "        else:\n",
    "            with open(text_file, 'r') as file:\n",
    "                # Read the contents of the file\n",
    "                text = file.read()\n",
    "            processed_text = text.lower()\n",
    "            processed_text = re.sub(r'[^\\w\\s]', '', processed_text)\n",
    "            tokens = word_tokenize(processed_text)\n",
    "            filtered_words = [word for word in tokens if word.lower() not in stopwords.words('english')]\n",
    "            # Join words back into a single string\n",
    "            final_text = ' '.join(filtered_words)\n",
    "            return final_text\n",
    "        \n",
    "    def most_common(self, input_text_file,most_common=10):\n",
    "        # Preprocess the text\n",
    "        processed_text = self.preprocess_input(input_text_file,save_back_to_file=False)    \n",
    "        # Extract keywords based on frequency, assuming more frequent terms are more relevant\n",
    "        words = processed_text.split()\n",
    "        word_freq = Counter(words)\n",
    "        common_words = word_freq.most_common(most_common)  # Get the top 5 words       \n",
    "        # Form a query by joining the most common words\n",
    "        query = ' '.join(word for word, _ in common_words)\n",
    "        return query\n",
    "\n",
    "    def retrieve_embeddings(self, query, most_similar=2):\n",
    "        assert self.vector_db is not_none, \"Initialize Pinecone first\"\n",
    "        query_result = self.vector_db.query(vector=self.embeddings.embed_query(query), top_k=most_similar)\n",
    "        ids = [item['id'] for item in query_result['matches']]\n",
    "        return [self.vector_db.fetch(ids)['vectors'][id]['values'] for id in ids]\n",
    "\n",
    "    def provide_context(self, query,index=None,most_similar=10):\n",
    "        if index is None:\n",
    "            index = self.pinecone_index\n",
    "        # Provide context to LLM\n",
    "        return PineconeVectorStore.from_existing_index(index_name=index,embedding=self.embeddings).as_retriever(search_type='similarity',\n",
    "                search_kwargs={\n",
    "                'k':most_similar}).invoke(query)\n",
    "        \n",
    "    def prompt(self,template=None):\n",
    "        if template is None:\n",
    "            template = self.template\n",
    "        return ChatPromptTemplate.from_template(template)\n",
    "\n",
    "    def prompt_eng(self,template=None):\n",
    "        if template is None:\n",
    "            template = self.template_prompt_engineer\n",
    "        return ChatPromptTemplate.from_template(template)\n",
    "        \n",
    "    def llm(self,model=None):\n",
    "        if model is None:\n",
    "            model = self.model\n",
    "        return ChatOpenAI(openai_api_key=self.openai_api_key, model=model)\n",
    "        \n",
    "    def parser(self):\n",
    "        return StrOutputParser()\n",
    "    def chain_prompt_eng(self,query):\n",
    "        chaining_eng =  (\n",
    "        {\n",
    "         \"question\": RunnablePassthrough()}\n",
    "        | self.prompt_eng()\n",
    "        | self.llm()\n",
    "        | self.parser())\n",
    "        return chaining_eng.invoke(query)\n",
    "\n",
    "    def chain(self,query):\n",
    "        #complete_query = self.prompt().format(context=self.provide_context(query),question=query)\n",
    "        #response = self.llm().invoke(complete_query)\n",
    "        #return self.parser().invoke(response)\n",
    "        chaining = (\n",
    "        {\"context\": PineconeVectorStore.from_existing_index(index_name=self.pinecone_index,embedding=self.embeddings).as_retriever(search_type='similarity',\n",
    "                search_kwargs={\n",
    "                'k': 10}), \n",
    "         \"question\": RunnablePassthrough()}\n",
    "        | self.prompt()\n",
    "        | self.llm()\n",
    "        | self.parser())\n",
    "        #query=str(self.prompt_eng(query))\n",
    "        return chaining.invoke(query)\n",
    "    \n",
    "    def pipe(self,chunk):\n",
    "        pipe = pipeline(\"text-classification\", model=\"mrm8488/distilroberta-finetuned-financial-news-sentiment-analysis\")\n",
    "        return pipe(chunk)\n",
    "\n",
    "    def get_sentiment(self,chunks,neutrality_threshdold=0.3):\n",
    "        \"\"\"Gets the compound sentiment of the chunks based on their individual sentiment\n",
    "        Parameters\n",
    "        ----------\n",
    "        chunks : list\n",
    "            List of text chunks\n",
    "        neutrality_threshdold : float, optional\n",
    "            A hyperparameter neutrality_threshdold tunes how certain we need to be of a sentiment to classify it as positive or negative\n",
    "            (If neutrality_threshdold=1, any list of chunks will result in a neutral sentiment\n",
    "            If neutrality_threshdold=0, any list of chunks will be classified as positive or negative)\n",
    "        Returns\n",
    "        -------\n",
    "        int\n",
    "            1 for positive, 0 for neutral, and -1 for negative\n",
    "        \"\"\"\n",
    "        #Assing a numerical value to each sentiment to simplify calculations\n",
    "        sentiment_values = {'positive':1, 'neutral':0, 'negative':-1}\n",
    "        #Run each chunk through sentiment model\n",
    "        sentiments = [self.pipe(chunk.page_content)[0] for chunk in chunks]\n",
    "        #Print out model output\n",
    "        #print(sentiments)\n",
    "        #For each chunk, we compute a sentiment score by multiplying the score times the sentiment value corresponding to its label\n",
    "        sentiment_scores = [(sentiment['score'])*sentiment_values[sentiment['label']] for sentiment in sentiments]\n",
    "        #Average sentiment_scores\n",
    "        avg_sentiment_score = sum(sentiment_scores)/len(sentiment_scores)\n",
    "        if avg_sentiment_score >= neutrality_threshdold:\n",
    "            return ('positive',sentiments)\n",
    "        elif avg_sentiment_score <= -neutrality_threshdold:\n",
    "            return ('negative',sentiments)\n",
    "        else:\n",
    "            return ('neutral',sentiments)\n",
    "\n",
    "\n",
    "\n",
    "\n",
    "   \n",
    "    def chain1(self, query):\n",
    "        # Initialize the retriever using an existing Pinecone index with specified embeddings\n",
    "     \n",
    "        retriever = PineconeVectorStore.from_existing_index(\n",
    "        index_name=self.pinecone_index,\n",
    "        embedding=self.embeddings\n",
    "    ).as_retriever(\n",
    "        search_type='similarity',\n",
    "        search_kwargs={'k': 10}  # Retrieve top 10 similar results\n",
    "    )\n",
    "\n",
    "    # Invoke the retriever with the query and process metadata\n",
    "        retrieved_items = retriever.invoke(query)\n",
    "        metadata = []\n",
    "        for item in retrieved_items:                # Extract and evaluate the nested metadata string if it exists\n",
    "            meta_string = item.metadata['youtube_reponse_metadata']\n",
    "            metadata.append(meta_string) \n",
    "        \n",
    "        # Combine retrieved metadata into a dictionary\n",
    "        dic = {i: meta for i, meta in enumerate(metadata)}\n",
    "    \n",
    "        # Create a chaining operation where metadata is included as context\n",
    "       \n",
    "        chaining = (\n",
    "            {\"context\": retriever, \n",
    "             \"metadata\": RunnablePassthrough(dic),\n",
    "             \"question\": RunnablePassthrough()}\n",
    "            | self.prompt()\n",
    "            | self.llm()\n",
    "            | self.parser()\n",
    "        )\n",
    "    \n",
    "        # Invoke the complete chain with the initial query\n",
    "        return chaining.invoke(query)\n",
    "\n",
    "    \n",
    "\n",
    "    def chain2(self, query):\n",
    "        # Initialize the retriever using an existing Pinecone index with specified embeddings\n",
    "        retriever = PineconeVectorStore.from_existing_index(\n",
    "            index_name=self.pinecone_index,\n",
    "            embedding=self.embeddings\n",
    "        ).as_retriever(\n",
    "            search_type='similarity',\n",
    "            search_kwargs={'k': 10}  # Retrieve top 10 similar results\n",
    "        )\n",
    "      \n",
    "        # Invoke the retriever with the query and process metadata\n",
    "        retrieved_items = retriever.invoke(query)\n",
    "        metadata = []\n",
    "        for item in retrieved_items:\n",
    "            content=item.page_content\n",
    "            meta = ast.literal_eval(item.metadata['youtube_response_metadata'])['snippet']['channelTitle']\n",
    "            context_entry = {\n",
    "                \"text\": content,\n",
    "                \"source\": meta\n",
    "            }\n",
    "            metadata.append(context_entry)\n",
    "    \n",
    "        # Combine retrieved metadata into a dictionary\n",
    "        dic = {f'Context {i}': context for i, context in enumerate(metadata)}\n",
    "\n",
    "\n",
    "    \n",
    "        # Use a lambda function for passing context and question to prompt\n",
    "        context_and_question = RunnablePassthrough(lambda: {'context': dic ,'question': query})\n",
    "    \n",
    "        # Create a sequence of operations\n",
    "        # Assuming your self.prompt(), self.llm(), and self.parser() are methods that handle their respective parts\n",
    "        result = {'context': RunnablePassthrough(lambda x : dic) ,'question': RunnablePassthrough()} | self.prompt() | self.llm() | self.parser()\n",
    "    \n",
    "        # Invoke the complete chain with the initial query\n",
    "        return result.invoke(query)\n",
    "\n",
    "\n",
    "    def chain3(self, query):\n",
    "        # Initialize the retriever using an existing Pinecone index with specified embeddings\n",
    "        retriever = PineconeVectorStore.from_existing_index(\n",
    "            index_name=self.pinecone_index,\n",
    "            embedding=self.embeddings\n",
    "        ).as_retriever(\n",
    "            search_type='similarity',\n",
    "            search_kwargs={'k': 10}  # Retrieve top 10 similar results\n",
    "        )\n",
    "      \n",
    "        # Invoke the retriever with the query and process metadata\n",
    "        retrieved_items = retriever.invoke(query)\n",
    "        metadata = []\n",
    "        comments = []\n",
    "        youtube_urls =[]\n",
    "        contexts=[]\n",
    "       \n",
    "        \n",
    "        for item in retrieved_items:\n",
    "            yt_url = item.metadata['youtube_video_url']\n",
    "            content=item.page_content\n",
    "            comments=item.metadata[\"youtube_comments\"]\n",
    "            meta = ast.literal_eval(item.metadata['youtube_response_metadata'])['snippet']['channelTitle']\n",
    "            context_entry = {\n",
    "                \"text\": content,\n",
    "                \"source\": meta,\n",
    "                \"public_opinion\":comments\n",
    "            }\n",
    "            metadata.append(context_entry)\n",
    "            comments.extend(item.metadata.get('youtube_comments', []))\n",
    "            youtube_urls.append(yt_url)\n",
    "            contexts.append(content)\n",
    "\n",
    "        comments_str = \"\\n\".join(comments)\n",
    "        dic = {f'Context {i}': context for i, context in enumerate(metadata)}\n",
    "        # Use a lambda function for passing context and question to prompt\n",
    "        context_and_question = RunnablePassthrough(lambda: {'context': dic ,'question': query})\n",
    "        \n",
    "        # Create a sequence of operations\n",
    "        # Assuming your self.prompt(), self.llm(), and self.parser() are methods that handle their respective parts\n",
    "        result = {'context': RunnablePassthrough(lambda x : dic) ,'question': RunnablePassthrough()} | self.prompt() | self.llm() | self.parser()\n",
    "        \n",
    "        comments_runnable = RunnableLambda(lambda _: comments)\n",
    "        sentiment_chain = (\n",
    "            {\n",
    "                \"context\": retriever,\n",
    "                \"comments\": comments_runnable,\n",
    "                \"question\": RunnablePassthrough()\n",
    "            }\n",
    "            | self.prompt_tagging() #uses self.template_classification\n",
    "            | self.llm_tagging() #for structured output\n",
    "        )\n",
    "\n",
    "        dic_sentiment = sentiment_chain.invoke(query).dict()\n",
    "\n",
    "        sentiment = dic_sentiment['sentiment']\n",
    "        aggresiveness = dic_sentiment['aggressiveness']\n",
    "        political_tendency=dic_sentiment['political_tendency']\n",
    "        # Invoke the complete chain with the initial query\n",
    "\n",
    "        fig,ax=self.analyze_and_plot_sentiment(contexts)\n",
    "        return result.invoke(query),sentiment,aggresiveness,political_tendency, youtube_urls,ax,fig\n",
    "\n",
    "\n",
    "    def analyze_and_plot_sentiment(self,contexts):\n",
    "        # Initialize tokenizer and model\n",
    "        tokenizer = AutoTokenizer.from_pretrained(\"ProsusAI/finbert\")\n",
    "        model = AutoModelForSequenceClassification.from_pretrained(\"ProsusAI/finbert\")\n",
    "        sentiment_analyzer = pipeline(\"sentiment-analysis\", model=model, tokenizer=tokenizer)\n",
    "        \n",
    "        list_sent = []\n",
    "        data_sent = pd.DataFrame({'labels': []})\n",
    "        \n",
    "        # Analyze sentiment for each context\n",
    "        for item in contexts:\n",
    "            list_sent.append(sentiment_analyzer(item)[0][\"label\"])\n",
    "        \n",
    "        data_sent['labels'] = list_sent\n",
    "        \n",
    "        plt.style.use('seaborn-v0_8-dark')\n",
    "        \n",
    "        # Count the sentiment labels\n",
    "        sentiment_counts = data_sent['labels'].value_counts()\n",
    "        \n",
    "        # Create a figure and a set of subplots\n",
    "        fig, ax = plt.subplots(figsize=(8, 6))\n",
    "        \n",
    "        # Define colors consistent with the seaborn-dark theme\n",
    "        colors = ['#4c72b0' if label == 'positive' else '#c44e52' if label == 'negative' else '#dd8452' for label in sentiment_counts.index]\n",
    "        \n",
    "        # Plot the sentiment counts as a bar plot\n",
    "        ax.bar(sentiment_counts.index, sentiment_counts.values, color=colors)\n",
    "        \n",
    "        # Customize the plot\n",
    "        ax.set_xlabel('Sentiment')\n",
    "        ax.set_ylabel('Number of Chunks')\n",
    "        ax.set_title('Sentiment Analysis of Context Chunks')\n",
    "        ax.set_xticks(range(len(sentiment_counts)))\n",
    "        ax.set_xticklabels(sentiment_counts.index, rotation=0)\n",
    "        ax.grid(True)\n",
    "        \n",
    "        # Set the face color of the figure and axes to white\n",
    "        fig.patch.set_facecolor('white')\n",
    "        ax.set_facecolor('white')\n",
    "        \n",
    "        # Adjust layout\n",
    "        plt.tight_layout()\n",
    "        \n",
    "        # Close the figure to prevent it from displaying automatically\n",
    "        plt.close(fig)\n",
    "        \n",
    "        return fig, ax\n",
    "\n",
    "    def chain_for_eval(self, query):\n",
    "        # Initialize the retriever using an existing Pinecone index with specified embeddings\n",
    "        retriever = PineconeVectorStore.from_existing_index(\n",
    "            index_name=self.pinecone_index,\n",
    "            embedding=self.embeddings\n",
    "        ).as_retriever(\n",
    "            search_type='similarity',\n",
    "            search_kwargs={'k': 10}  # Retrieve top 10 similar results\n",
    "        )\n",
    "      \n",
    "        # Invoke the retriever with the query and process metadata\n",
    "        retrieved_items = retriever.invoke(query)\n",
    "        metadata = []\n",
    "        comments = []\n",
    "        youtube_urls =[]\n",
    "        contexts=[]\n",
    "       \n",
    "        \n",
    "        for item in retrieved_items:\n",
    "            yt_url = item.metadata['youtube_video_url']\n",
    "            content=item.page_content\n",
    "            comments=item.metadata[\"youtube_comments\"]\n",
    "            meta = ast.literal_eval(item.metadata['youtube_response_metadata'])['snippet']['channelTitle']\n",
    "            context_entry = {\n",
    "                \"text\": content,\n",
    "                \"source\": meta,\n",
    "                \"public_opinion\":comments\n",
    "            }\n",
    "            metadata.append(context_entry)\n",
    "            comments.extend(item.metadata.get('youtube_comments', []))\n",
    "            youtube_urls.append(yt_url)\n",
    "            contexts.append(content)\n",
    "\n",
    "        comments_str = \"\\n\".join(comments)\n",
    "        dic = {f'Context {i}': context for i, context in enumerate(metadata)}\n",
    "        # Use a lambda function for passing context and question to prompt\n",
    "        context_and_question = RunnablePassthrough(lambda: {'context': dic ,'question': query})\n",
    "        \n",
    "        # Create a sequence of operations\n",
    "        # Assuming your self.prompt(), self.llm(), and self.parser() are methods that handle their respective parts\n",
    "        result = {'context': RunnablePassthrough(lambda x : dic) ,'question': RunnablePassthrough()} | self.prompt() | self.llm() | self.parser()\n",
    "        \n",
    "        \n",
    "        \n",
    "        # Invoke the complete chain with the initial query\n",
    "\n",
    "        \n",
    "        return result.invoke(query)\n",
    "\n",
    "            \n",
    "\n",
    "    \n",
    "     "
   ]
  },
  {
   "cell_type": "code",
   "execution_count": 19,
   "id": "173bdb4f-7578-44dd-afe3-ab5c0f9274a1",
   "metadata": {},
   "outputs": [],
   "source": [
    "bot = FinFeedRAG(pine_cone_api_key=os.getenv('PINECONE_API_KEY'), openai_api_key=os.getenv('OPENAI_API_KEY'), pinecone_index='latest-news')\n"
   ]
  },
  {
   "cell_type": "code",
   "execution_count": 24,
   "id": "eeb60c1a-4c20-453b-884b-6ca41d2341b9",
   "metadata": {},
   "outputs": [],
   "source": [
    "#LOOK AT THIS\n",
    "\n",
    "user_prompts=['what is going on with inmigrants','what is the capital of the US?', 'has inflation gone up?']\n",
    "\n",
    "def model_evaluation(user_prompts):\n",
    "    \n",
    "    evaluations = []\n",
    "    our_answers = []\n",
    "    benchmark_answers = []\n",
    "    preferred_answers = []\n",
    "\n",
    "    #initialize our model\n",
    "    bot = FinFeedRAG(pine_cone_api_key=os.getenv('PINECONE_API_KEY'), openai_api_key=os.getenv('OPENAI_API_KEY'), pinecone_index='latest-news')\n",
    " #Ask guys\n",
    "    \n",
    "    for user_prompt in user_prompts:\n",
    "\n",
    "        #Benchmark answer\n",
    "        benchmark_model = ChatOpenAI(model=\"gpt-3.5-turbo\",temperature=0)\n",
    "        benchmark_answer = benchmark_model.invoke(user_prompt).content\n",
    "\n",
    "        #Our answer\n",
    "        our_answer = bot.chain_for_eval(user_prompt)\n",
    "\n",
    "        #Evaluation\n",
    "        template = ChatPromptTemplate.from_messages([\n",
    "            (\"system\", \"You are a helpful finance bot evaluator. You will be given a user prompt, and the corresponding answers of two different bots. Your job is to choose the most up to date answer where today's year is 2024 . \\\n",
    "        Please provide a reason for your choice.\"),\n",
    "            (\"system\", \"User_prompt: \" + user_prompt),\n",
    "            (\"system\", \"Answer 1: \" + benchmark_answer),\n",
    "            (\"system\", \"Answer 2: \" + our_answer)])\n",
    "\n",
    "        prompt_value = template.invoke({\"user_prompt\":user_prompt,\"benchmark_answer\":benchmark_answer,\"our_answer\":our_answer})\n",
    "\n",
    "        chaining = ({} | template | benchmark_model)\n",
    "        evaluation = chaining.invoke([''])\n",
    "\n",
    "        our_answers.append(our_answer)\n",
    "        benchmark_answers.append(benchmark_answer)\n",
    "        evaluations.append(evaluation)\n",
    "\n",
    "    #Extract preffered answer as an integer \n",
    "    for evaluation in evaluations:\n",
    "\n",
    "        #Benchmark answer\n",
    "        evaluator_model = ChatOpenAI(model=\"gpt-3.5-turbo\",temperature=0)\n",
    "\n",
    "        #Evaluation\n",
    "        template = ChatPromptTemplate.from_messages([\n",
    "            (\"system\", \"Determine what is the user preferred answer. Please restrict your output to a single integer.\"),\n",
    "            (\"system\", \"User_prompt: \" + evaluation.content)])\n",
    "        \n",
    "        chaining = ({} | template | evaluator_model)\n",
    "        preferred_answer = chaining.invoke([''])\n",
    "        preferred_answers.append(int(preferred_answer.content))\n",
    "    \n",
    "    return benchmark_answers, our_answers, evaluations, preferred_answers\n",
    "    "
   ]
  },
  {
   "cell_type": "code",
   "execution_count": 20,
   "id": "f7b5c0c2-dbb5-45f9-be54-023e3fc4856b",
   "metadata": {},
   "outputs": [],
   "source": [
    "answer=bot.chain_for_eval(\"Is inflation cooling in US\")"
   ]
  },
  {
   "cell_type": "code",
   "execution_count": 21,
   "id": "14ffa030-9fea-44e3-a705-7bfee15c8826",
   "metadata": {},
   "outputs": [
    {
     "data": {
      "text/plain": [
       "'According to CNBC, the latest data shows that inflation in the US is starting to cool down. The Consumer Price Index (CPI) rose by 0.3% in August, which is lower than the 0.5% increase in July. This indicates that inflation may be slowing down.\\n\\nPublic Opinion:\\n\\nMany Americans are relieved to hear that inflation may be cooling down. One person said, \"I\\'ve been feeling the pinch in my wallet lately, so any relief from high inflation is welcome.\" Another individual mentioned, \"I hope this trend continues and prices start to stabilize.\"'"
      ]
     },
     "execution_count": 21,
     "metadata": {},
     "output_type": "execute_result"
    }
   ],
   "source": [
    "answer"
   ]
  },
  {
   "cell_type": "code",
   "execution_count": 25,
   "id": "6de9c298-ca57-4c36-97fb-7db24fc0a82a",
   "metadata": {},
   "outputs": [
    {
     "data": {
      "text/plain": [
       "(['As of the most recent data, inflation in the US has been on the rise. The Consumer Price Index (CPI) increased by 0.9% in June 2021, marking the largest monthly increase in over a decade. This has raised concerns about rising inflationary pressures in the economy. However, it is important to note that inflation can be influenced by various factors and can fluctuate over time. It is important to monitor economic indicators and data to assess whether inflation is cooling or continuing to rise.'],\n",
       " ['According to the context provided by Yahoo Finance, inflation in the US may be cooling down. This suggests a potential decrease in the overall rise in prices for goods and services.\\n\\nPublic Opinion:\\n\\nHere are some examples of people\\'s reactions to related news:\\n1. \"It\\'s a relief to hear that inflation might be cooling down. It has been tough managing expenses with prices constantly going up.\" - Jane Doe\\n2. \"I hope this trend continues and we see some stability in prices soon. It would definitely help household budgets.\" - John Smith'],\n",
       " [AIMessage(content='I would choose Answer 1 as the most up-to-date response for the year 2024. This is because Answer 2 does not provide any specific data or information about the current state of inflation in 2024. Answer 1, on the other hand, mentions the most recent data from June 2021, indicating that inflation has been on the rise. Since the user prompt is asking about the current state of inflation in 2024, Answer 1 provides more relevant and recent information for making an assessment.', response_metadata={'token_usage': {'completion_tokens': 105, 'prompt_tokens': 300, 'total_tokens': 405}, 'model_name': 'gpt-3.5-turbo', 'system_fingerprint': None, 'finish_reason': 'stop', 'logprobs': None}, id='run-6993d9d4-f367-4b5a-936b-3344c0d2c921-0')],\n",
       " [1])"
      ]
     },
     "execution_count": 25,
     "metadata": {},
     "output_type": "execute_result"
    }
   ],
   "source": [
    "model_evaluation([\"Is inflation cooling in US\"])"
   ]
  },
  {
   "cell_type": "code",
   "execution_count": 4,
   "id": "0e4f9f0e-f420-4131-80c9-6b39b41388aa",
   "metadata": {},
   "outputs": [
    {
     "data": {
      "text/plain": [
       "'daytoday movement stock market know know news perspective obviously exciting trying stay business john weve got keep lights yeah exactly investors fall trap something dad instilled nothing action'"
      ]
     },
     "execution_count": 4,
     "metadata": {},
     "output_type": "execute_result"
    }
   ],
   "source": [
    "contexts[0].page_content"
   ]
  },
  {
   "cell_type": "code",
   "execution_count": 63,
   "id": "284c3235-20a1-4f48-abfb-46bd84456c01",
   "metadata": {
    "scrolled": true
   },
   "outputs": [],
   "source": [
    "import pinecone\n",
    "import matplotlib.pyplot as plt\n",
    "from transformers import AutoTokenizer, AutoModelForSequenceClassification, pipeline\n",
    "import pandas as pd\n",
    "\n",
    "\n",
    "\n",
    "model_name = \"ProsusAI/finbert\"\n",
    "tokenizer = AutoTokenizer.from_pretrained(model_name)\n",
    "model = AutoModelForSequenceClassification.from_pretrained(model_name)\n",
    "sentiment_analyzer = pipeline(\"sentiment-analysis\", model=model, tokenizer=tokenizer)\n",
    "\n",
    "\n",
    "def analyze_and_plot_sentiment(contexts, sentiment_analyzer, do_answer=True):\n",
    "    list_sent = []\n",
    "    data_sent = pd.DataFrame({'labels': []})\n",
    "    \n",
    "    for item in contexts:\n",
    "        context = item.page_content\n",
    "        list_sent.append(sentiment_analyzer(context)[0][\"label\"])\n",
    "    \n",
    "    data_sent['labels'] = list_sent\n",
    "\n",
    "    plt.style.use('seaborn-v0_8-dark')\n",
    "    \n",
    "    # Count the sentiment labels\n",
    "    sentiment_counts = data_sent['labels'].value_counts()\n",
    "    \n",
    "    # Create a figure and a set of subplots\n",
    "    fig, ax = plt.subplots(figsize=(8, 6))\n",
    "    \n",
    "    # Define colors consistent with the seaborn-dark theme\n",
    "    colors = ['#4c72b0' if label == 'positive' else '#c44e52' if label == 'negative' else '#dd8452' for label in sentiment_counts.index]\n",
    "    \n",
    "    # Plot the sentiment counts as a bar plot\n",
    "    sentiment_counts.plot(kind='bar', color=colors, ax=ax)\n",
    "    \n",
    "    # Customize the plot\n",
    "    ax.set_xlabel('Sentiment')\n",
    "    ax.set_ylabel('Number of Chunks')\n",
    "    ax.set_title('Sentiment Analysis of Context Chunks')\n",
    "    ax.set_xticks(range(len(sentiment_counts)))\n",
    "    ax.set_xticklabels(sentiment_counts.index, rotation=0)\n",
    "    ax.grid(True)\n",
    "    \n",
    "    # Set the face color of the figure and axes to white\n",
    "    fig.patch.set_facecolor('white')\n",
    "    ax.set_facecolor('white')\n",
    "    \n",
    "    # Adjust layout\n",
    "    plt.tight_layout()\n",
    "    \n",
    "    return fig, ax\n",
    "\n"
   ]
  },
  {
   "cell_type": "code",
   "execution_count": 116,
   "id": "75ca24e0-c527-444b-9042-7de6b016f4a8",
   "metadata": {},
   "outputs": [],
   "source": [
    "import matplotlib.pyplot as plt\n",
    "import pandas as pd\n",
    "from transformers import AutoTokenizer, AutoModelForSequenceClassification, pipeline\n",
    "\n",
    "def analyze_and_plot_sentiment(contexts):\n",
    "    # Initialize tokenizer and model\n",
    "    tokenizer = AutoTokenizer.from_pretrained(\"ProsusAI/finbert\")\n",
    "    model = AutoModelForSequenceClassification.from_pretrained(\"ProsusAI/finbert\")\n",
    "    sentiment_analyzer = pipeline(\"sentiment-analysis\", model=model, tokenizer=tokenizer)\n",
    "    \n",
    "    list_sent = []\n",
    "    data_sent = pd.DataFrame({'labels': []})\n",
    "    \n",
    "    # Analyze sentiment for each context\n",
    "    for item in contexts:\n",
    "        list_sent.append(sentiment_analyzer(item)[0][\"label\"])\n",
    "    \n",
    "    data_sent['labels'] = list_sent\n",
    "    \n",
    "    plt.style.use('seaborn-v0_8-dark')\n",
    "    \n",
    "    # Count the sentiment labels\n",
    "    sentiment_counts = data_sent['labels'].value_counts()\n",
    "    \n",
    "    # Create a figure and a set of subplots\n",
    "    fig, ax = plt.subplots(figsize=(8, 6))\n",
    "    \n",
    "    # Define colors consistent with the seaborn-dark theme\n",
    "    colors = ['#4c72b0' if label == 'positive' else '#c44e52' if label == 'negative' else '#dd8452' for label in sentiment_counts.index]\n",
    "    \n",
    "    # Plot the sentiment counts as a bar plot\n",
    "    ax.bar(sentiment_counts.index, sentiment_counts.values, color=colors)\n",
    "    \n",
    "    # Customize the plot\n",
    "    ax.set_xlabel('Sentiment')\n",
    "    ax.set_ylabel('Number of Chunks')\n",
    "    ax.set_title('Sentiment Analysis of Context Chunks')\n",
    "    ax.set_xticks(range(len(sentiment_counts)))\n",
    "    ax.set_xticklabels(sentiment_counts.index, rotation=0)\n",
    "    ax.grid(True)\n",
    "    \n",
    "    # Set the face color of the figure and axes to white\n",
    "    fig.patch.set_facecolor('white')\n",
    "    ax.set_facecolor('white')\n",
    "    \n",
    "    # Adjust layout\n",
    "    plt.tight_layout()\n",
    "    \n",
    "    # Close the figure to prevent it from displaying automatically\n",
    "    plt.close(fig)\n",
    "    \n",
    "    return fig, ax\n",
    "\n",
    "# Example usage\n",
    "contexts = [\"The market is doing well.\", \"I am not happy with the company's performance.\"]\n",
    "fig, ax = analyze_and_plot_sentiment(contexts)\n",
    "\n",
    "# To display the plot when needed, use plt.show() on the returned figure\n",
    "# fig.show() # Uncomment this line to display the plot when needed\n"
   ]
  },
  {
   "cell_type": "code",
   "execution_count": 117,
   "id": "d3992ad7-bfde-433f-8d00-da40388a3f3d",
   "metadata": {},
   "outputs": [
    {
     "data": {
      "text/plain": [
       "<Axes: title={'center': 'Sentiment Analysis of Context Chunks'}, xlabel='Sentiment', ylabel='Number of Chunks'>"
      ]
     },
     "execution_count": 117,
     "metadata": {},
     "output_type": "execute_result"
    }
   ],
   "source": [
    "ax"
   ]
  },
  {
   "cell_type": "code",
   "execution_count": 16,
   "id": "2ecf3cfa-9d34-4876-9db9-df499e92d1f7",
   "metadata": {},
   "outputs": [],
   "source": [
    "retrieved_items = retriever.invoke(\"how is Stock market doing\")\n",
    "import ast\n",
    "\n",
    "metadata = []\n",
    "for i, item in enumerate(retrieved_items):\n",
    "    content = item.page_content\n",
    "    comments=item.metadata[\"youtube_comments\"]\n",
    "\n",
    "    meta = ast.literal_eval(item.metadata['youtube_response_metadata'])['snippet']['channelTitle']\n",
    "    context_entry = {\n",
    "        \"text\": content,\n",
    "        \"source\": meta,\n",
    "        \"comment\":comments\n",
    "    }\n",
    "    metadata.append(context_entry)\n",
    "\n",
    "dic = {f'Context {i}': context for i, context in enumerate(metadata)}\n"
   ]
  },
  {
   "cell_type": "code",
   "execution_count": 17,
   "id": "04006856-5e02-4948-adac-2ddd3afc8011",
   "metadata": {},
   "outputs": [
    {
     "data": {
      "text/plain": [
       "{'Context 0': {'text': 'daytoday movement stock market know know news perspective obviously exciting trying stay business john weve got keep lights yeah exactly investors fall trap something dad instilled nothing action',\n",
       "  'source': 'Yahoo Finance',\n",
       "  'comment': [\"Everything's expensive, value no longer exists.\"]},\n",
       " 'Context 1': {'text': 'food inflation earnings strong youre starting see stocks roll thats stock like walmart juggernaut theyve done amazing job inventory stores especially grocery side stock particular think bucking trend',\n",
       "  'source': 'Yahoo Finance',\n",
       "  'comment': []}}"
      ]
     },
     "execution_count": 17,
     "metadata": {},
     "output_type": "execute_result"
    }
   ],
   "source": [
    "dic"
   ]
  },
  {
   "cell_type": "code",
   "execution_count": 8,
   "id": "5b55c132-458c-4787-9560-1ca1cf42950f",
   "metadata": {},
   "outputs": [],
   "source": [
    "retriever = PineconeVectorStore.from_existing_index(\n",
    "            index_name=\"day1\",\n",
    "            embedding=OpenAIEmbeddings()\n",
    "        ).as_retriever(\n",
    "            search_type='similarity',\n",
    "            search_kwargs={'k': 2}  # Retrieve top 10 similar results\n",
    "        )\n",
    "    \n",
    "        # Invoke the retriever with the query and process metadata\n",
    "retrieved_items = retriever.invoke(\"how is Stock market doing\")"
   ]
  },
  {
   "cell_type": "code",
   "execution_count": 9,
   "id": "5fe5fa02-f2da-4765-b825-e2d68451df7b",
   "metadata": {
    "scrolled": true
   },
   "outputs": [
    {
     "data": {
      "text/plain": [
       "[Document(page_content='daytoday movement stock market know know news perspective obviously exciting trying stay business john weve got keep lights yeah exactly investors fall trap something dad instilled nothing action', metadata={'source': 'data/text/what_it_takes_to_be_a_value_investor_today.txt', 'youtube_comments': [\"Everything's expensive, value no longer exists.\"], 'youtube_response_metadata': \"{'id': {'kind': 'youtube#video', 'videoId': 'Bv5B5U9Gkk4'}, 'snippet': {'publishedAt': '2024-05-17T13:09:10Z', 'channelId': 'UCEAZeUIeJs0IjQiqTCdVSIg', 'title': 'What it takes to be a value investor today', 'channelTitle': 'Yahoo Finance'}}\", 'youtube_video_url': 'https://www.youtube.com/watch?v=Bv5B5U9Gkk4'}),\n",
       " Document(page_content='food inflation earnings strong youre starting see stocks roll thats stock like walmart juggernaut theyve done amazing job inventory stores especially grocery side stock particular think bucking trend', metadata={'source': 'data/text/stocks_tread_water_with_dow_aiming_for_40,000__may_17_yahoo_finance.txt', 'youtube_comments': [], 'youtube_response_metadata': \"{'id': {'kind': 'youtube#video', 'videoId': 'jyOVRQIrIpc'}, 'snippet': {'publishedAt': '2024-05-17T16:15:14Z', 'channelId': 'UCEAZeUIeJs0IjQiqTCdVSIg', 'title': 'Stocks tread water with Dow aiming for 40,000 | May 17 Yahoo Finance', 'channelTitle': 'Yahoo Finance'}}\", 'youtube_video_url': 'https://www.youtube.com/watch?v=jyOVRQIrIpc'})]"
      ]
     },
     "execution_count": 9,
     "metadata": {},
     "output_type": "execute_result"
    }
   ],
   "source": [
    "retrieved_items"
   ]
  },
  {
   "cell_type": "code",
   "execution_count": 12,
   "id": "f65c3a12-0046-465a-88a0-c8814074acfe",
   "metadata": {},
   "outputs": [
    {
     "data": {
      "text/plain": [
       "'https://www.youtube.com/watch?v=Bv5B5U9Gkk4'"
      ]
     },
     "execution_count": 12,
     "metadata": {},
     "output_type": "execute_result"
    }
   ],
   "source": [
    "retrieved_items[0].metadata['youtube_video_url']"
   ]
  },
  {
   "cell_type": "code",
   "execution_count": 14,
   "id": "35150888-a5dc-41d7-bb8a-372c64036fb1",
   "metadata": {},
   "outputs": [
    {
     "data": {
      "text/plain": [
       "[\"Everything's expensive, value no longer exists.\"]"
      ]
     },
     "execution_count": 14,
     "metadata": {},
     "output_type": "execute_result"
    }
   ],
   "source": [
    "retrieved_items[0].metadata[\"youtube_comments\"]\n"
   ]
  },
  {
   "cell_type": "code",
   "execution_count": 35,
   "id": "ff065aaf-d3eb-47d3-b1b6-14448c3443b7",
   "metadata": {},
   "outputs": [
    {
     "data": {
      "text/plain": [
       "'dont think theres much happy talk happy talk look markets bullion markets effusive fact generally still good global growth yes cracks showing overall still pretty strong companies making good profits. Source: Bloomberg Television'"
      ]
     },
     "execution_count": 35,
     "metadata": {},
     "output_type": "execute_result"
    }
   ],
   "source": [
    "a+'. Source: '+b"
   ]
  },
  {
   "cell_type": "code",
   "execution_count": 135,
   "id": "58a19cf7-dc6e-4314-afc2-77ac98d2f48d",
   "metadata": {},
   "outputs": [],
   "source": [
    "metadata = []\n",
    "for item in retrieved_items:\n",
    "   \n",
    "\n",
    "    # Extract and evaluate the nested metadata string if it exists\n",
    "    meta_string = item.metadata['youtube_reponse_metadata']\n",
    "    metadata.append(ast.literal_eval(meta_string))\n",
    "\n",
    "    \n",
    "        # Combine retrieved metadata into a dictionary\n",
    "dic = {i: meta for i, meta in enumerate(metadata)}\n",
    "    "
   ]
  },
  {
   "cell_type": "code",
   "execution_count": 136,
   "id": "329ce1f0-a3d4-411d-b26a-0070a2f389d8",
   "metadata": {
    "scrolled": true
   },
   "outputs": [
    {
     "data": {
      "text/plain": [
       "{0: {'id': {'kind': 'youtube#video', 'videoId': 'HY583QRI5v0'},\n",
       "  'snippet': {'publishedAt': '2024-05-17T11:21:26Z',\n",
       "   'channelId': 'UCIALMKvObZNtJ6AmdCLP7Lg',\n",
       "   'title': 'Inflation Fears, Richemont&#39;s New &#39;Bos&#39; | Bloomberg Markets Today 05/17',\n",
       "   'channelTitle': 'Bloomberg Television'}},\n",
       " 1: {'id': {'kind': 'youtube#video', 'videoId': 'Bv5B5U9Gkk4'},\n",
       "  'snippet': {'publishedAt': '2024-05-17T13:09:10Z',\n",
       "   'channelId': 'UCEAZeUIeJs0IjQiqTCdVSIg',\n",
       "   'title': 'What it takes to be a value investor today',\n",
       "   'channelTitle': 'Yahoo Finance'}},\n",
       " 2: {'id': {'kind': 'youtube#video', 'videoId': 'jyOVRQIrIpc'},\n",
       "  'snippet': {'publishedAt': '2024-05-17T16:15:14Z',\n",
       "   'channelId': 'UCEAZeUIeJs0IjQiqTCdVSIg',\n",
       "   'title': 'Stocks tread water with Dow aiming for 40,000 | May 17 Yahoo Finance',\n",
       "   'channelTitle': 'Yahoo Finance'}},\n",
       " 3: {'id': {'kind': 'youtube#video', 'videoId': 'jyOVRQIrIpc'},\n",
       "  'snippet': {'publishedAt': '2024-05-17T16:15:14Z',\n",
       "   'channelId': 'UCEAZeUIeJs0IjQiqTCdVSIg',\n",
       "   'title': 'Stocks tread water with Dow aiming for 40,000 | May 17 Yahoo Finance',\n",
       "   'channelTitle': 'Yahoo Finance'}},\n",
       " 4: {'id': {'kind': 'youtube#video', 'videoId': 'HY583QRI5v0'},\n",
       "  'snippet': {'publishedAt': '2024-05-17T11:21:26Z',\n",
       "   'channelId': 'UCIALMKvObZNtJ6AmdCLP7Lg',\n",
       "   'title': 'Inflation Fears, Richemont&#39;s New &#39;Bos&#39; | Bloomberg Markets Today 05/17',\n",
       "   'channelTitle': 'Bloomberg Television'}},\n",
       " 5: {'id': {'kind': 'youtube#video', 'videoId': 'ywnQZd_hawY'},\n",
       "  'snippet': {'publishedAt': '2024-05-17T05:39:26Z',\n",
       "   'channelId': 'UCIALMKvObZNtJ6AmdCLP7Lg',\n",
       "   'title': 'China Regulators Discuss Property Market Aid With Banks | Bloomberg: The China Show 5/17/2024',\n",
       "   'channelTitle': 'Bloomberg Television'}},\n",
       " 6: {'id': {'kind': 'youtube#video', 'videoId': '_tLnOFaPDT0'},\n",
       "  'snippet': {'publishedAt': '2024-05-17T16:00:35Z',\n",
       "   'channelId': 'UCEAZeUIeJs0IjQiqTCdVSIg',\n",
       "   'title': 'Microsoft adds AMD AI chips to cloud computing products',\n",
       "   'channelTitle': 'Yahoo Finance'}},\n",
       " 7: {'id': {'kind': 'youtube#video', 'videoId': 'HY583QRI5v0'},\n",
       "  'snippet': {'publishedAt': '2024-05-17T11:21:26Z',\n",
       "   'channelId': 'UCIALMKvObZNtJ6AmdCLP7Lg',\n",
       "   'title': 'Inflation Fears, Richemont&#39;s New &#39;Bos&#39; | Bloomberg Markets Today 05/17',\n",
       "   'channelTitle': 'Bloomberg Television'}},\n",
       " 8: {'id': {'kind': 'youtube#video', 'videoId': 'nvuS4UMeu7Q'},\n",
       "  'snippet': {'publishedAt': '2024-05-17T05:24:52Z',\n",
       "   'channelId': 'UCIALMKvObZNtJ6AmdCLP7Lg',\n",
       "   'title': 'Bloomberg Markets: Asia 05/17/2024',\n",
       "   'channelTitle': 'Bloomberg Television'}},\n",
       " 9: {'id': {'kind': 'youtube#video', 'videoId': 'nvuS4UMeu7Q'},\n",
       "  'snippet': {'publishedAt': '2024-05-17T05:24:52Z',\n",
       "   'channelId': 'UCIALMKvObZNtJ6AmdCLP7Lg',\n",
       "   'title': 'Bloomberg Markets: Asia 05/17/2024',\n",
       "   'channelTitle': 'Bloomberg Television'}}}"
      ]
     },
     "execution_count": 136,
     "metadata": {},
     "output_type": "execute_result"
    }
   ],
   "source": [
    "dic"
   ]
  },
  {
   "cell_type": "code",
   "execution_count": 63,
   "id": "94006def-7764-4743-930d-a5dd72507aa8",
   "metadata": {},
   "outputs": [],
   "source": [
    "bot = FinFeedRAG(pine_cone_api_key=os.getenv('PINECONE_API_KEY'), openai_api_key=os.getenv('OPENAI_API_KEY'), pinecone_index='day1')\n",
    "bot.chain2(\"how is Stock market doing\")"
   ]
  },
  {
   "cell_type": "code",
   "execution_count": 64,
   "id": "dd5a7315-3ada-4c04-8627-10446d13a305",
   "metadata": {
    "scrolled": true
   },
   "outputs": [
    {
     "data": {
      "text/plain": [
       "'As of today, the stock market is performing well. According to a report from CNBC, the S&P 500 and Dow Jones Industrial Average both reached record highs this week due to positive earnings reports from major companies. Additionally, the Nasdaq Composite also saw gains thanks to strong tech stocks. Overall, investors seem optimistic about the current state of the stock market.'"
      ]
     },
     "execution_count": 64,
     "metadata": {},
     "output_type": "execute_result"
    }
   ],
   "source": [
    "bot.chain2(\"how is Stock market doing\")"
   ]
  },
  {
   "cell_type": "code",
   "execution_count": 39,
   "id": "71c1d9cb-f7bc-4a7f-bac3-6dd1171ad23f",
   "metadata": {},
   "outputs": [
    {
     "data": {
      "text/plain": [
       "'As a news reporter, based on the latest information received, the US economy seems to have surprised many people with its upside. There are signals of growth and positive indicators contributing to the strength of the economy. The availability of labor and various factors like industrial policy, innovation, and AI advancements are creating a powerful economic environment. Overall, the US economy appears to be in a positive state with potential for further growth.'"
      ]
     },
     "execution_count": 39,
     "metadata": {},
     "output_type": "execute_result"
    }
   ],
   "source": [
    "bot.chain(\"how is  US economy\")"
   ]
  },
  {
   "cell_type": "code",
   "execution_count": 92,
   "id": "5e9608a2-a46d-47e2-b076-97fd94693f73",
   "metadata": {},
   "outputs": [
    {
     "data": {
      "text/plain": [
       "'Retrieve data on the performance of the US stock market from the vector database, focusing on news related to finance, economics, and politics.'"
      ]
     },
     "execution_count": 92,
     "metadata": {},
     "output_type": "execute_result"
    }
   ],
   "source": [
    "bot.chain_prompt_eng(\"US stock market doing good?\")"
   ]
  },
  {
   "cell_type": "code",
   "execution_count": 97,
   "id": "02b28851-e27f-4ebe-92a1-9dcf34403e23",
   "metadata": {},
   "outputs": [
    {
     "data": {
      "text/plain": [
       "'I do not have enough information to answer this question.'"
      ]
     },
     "execution_count": 97,
     "metadata": {},
     "output_type": "execute_result"
    }
   ],
   "source": [
    "bot.chain(\"give me 10 news on Stock market\")"
   ]
  },
  {
   "cell_type": "code",
   "execution_count": 10,
   "id": "811fedd7-dcf9-44dd-ad77-554a8d5bf00f",
   "metadata": {
    "scrolled": true
   },
   "outputs": [
    {
     "data": {
      "text/plain": [
       "[Document(page_content='much politics matters imf world bank meetings weeks ago struck many analysis said decisions politicians make really matter politics economics think see moment comes conduct trade policy future ensure', metadata={'source': \"data/text/georgia's_eu_dream_at_risk,_china_housing_crisis_rescue_plan__bloomberg_the_pulse_051724.txt\", 'youtube_reponse_metadata': \"{'id': {'kind': 'youtube#video', 'videoId': '9NIb2XuW8UY'}, 'snippet': {'publishedAt': '2024-05-17T13:27:14Z', 'channelId': 'UCIALMKvObZNtJ6AmdCLP7Lg', 'title': 'Georgia&#39;s EU Dream at Risk, China Housing Crisis Rescue Plan | Bloomberg The Pulse 05/17/24', 'channelTitle': 'Bloomberg Television'}}\"}),\n",
       " Document(page_content='making headlines getting lot attention lets start ben make market think headed yeah mean look yesterdays inflation numbers news fairly good economy remains strong inflation moderating think equities', metadata={'source': \"data/text/markets_'priced_to_perfection,'_but_be_cautious_strategist.txt\", 'youtube_reponse_metadata': \"{'id': {'kind': 'youtube#video', 'videoId': 'bLNUUcYRv9g'}, 'snippet': {'publishedAt': '2024-05-16T22:00:32Z', 'channelId': 'UCEAZeUIeJs0IjQiqTCdVSIg', 'title': 'Markets &#39;priced to perfection,&#39; but be cautious: Strategist', 'channelTitle': 'Yahoo Finance'}}\"}),\n",
       " Document(page_content='starts unwind good news time around theres lot know hidden hidden demons closet think know balance sheets healthy private side first know broadly speaking australia also us get recession well come ok', metadata={'source': 'data/text/bloomberg_markets_asia_05172024.txt', 'youtube_reponse_metadata': \"{'id': {'kind': 'youtube#video', 'videoId': 'nvuS4UMeu7Q'}, 'snippet': {'publishedAt': '2024-05-17T05:24:52Z', 'channelId': 'UCIALMKvObZNtJ6AmdCLP7Lg', 'title': 'Bloomberg Markets: Asia 05/17/2024', 'channelTitle': 'Bloomberg Television'}}\"}),\n",
       " Document(page_content='much seeing talking little bit change difference capital markets us europe especially uk priorities politicians policy makers europe competitive keep good companies savings europe hands insurance', metadata={'source': \"data/text/georgia's_eu_dream_at_risk,_china_housing_crisis_rescue_plan__bloomberg_the_pulse_051724.txt\", 'youtube_reponse_metadata': \"{'id': {'kind': 'youtube#video', 'videoId': '9NIb2XuW8UY'}, 'snippet': {'publishedAt': '2024-05-17T13:27:14Z', 'channelId': 'UCIALMKvObZNtJ6AmdCLP7Lg', 'title': 'Georgia&#39;s EU Dream at Risk, China Housing Crisis Rescue Plan | Bloomberg The Pulse 05/17/24', 'channelTitle': 'Bloomberg Television'}}\"}),\n",
       " Document(page_content='news well want pick potential inventory plan theyre going discussing likely beijing theyre going coming aid state owned enterprises getting loans banks also local governments well fiscally strained', metadata={'source': 'data/text/china_regulators_discuss_property_market_aid_with_banks__bloomberg_the_china_show_5172024.txt', 'youtube_reponse_metadata': \"{'id': {'kind': 'youtube#video', 'videoId': 'ywnQZd_hawY'}, 'snippet': {'publishedAt': '2024-05-17T05:39:26Z', 'channelId': 'UCIALMKvObZNtJ6AmdCLP7Lg', 'title': 'China Regulators Discuss Property Market Aid With Banks | Bloomberg: The China Show 5/17/2024', 'channelTitle': 'Bloomberg Television'}}\"}),\n",
       " Document(page_content='connect actually politicians think make difference also makes significant difference real risk recent years saw risk inflation becoming embedded economies politics impact cost living households', metadata={'source': \"data/text/georgia's_eu_dream_at_risk,_china_housing_crisis_rescue_plan__bloomberg_the_pulse_051724.txt\", 'youtube_reponse_metadata': \"{'id': {'kind': 'youtube#video', 'videoId': '9NIb2XuW8UY'}, 'snippet': {'publishedAt': '2024-05-17T13:27:14Z', 'channelId': 'UCIALMKvObZNtJ6AmdCLP7Lg', 'title': 'Georgia&#39;s EU Dream at Risk, China Housing Crisis Rescue Plan | Bloomberg The Pulse 05/17/24', 'channelTitle': 'Bloomberg Television'}}\"}),\n",
       " Document(page_content='also makes significant difference real risk recent years saw risk inflation becoming embedded economies politics impact cost living households businesses turn view politics could huge challenge', metadata={'source': \"data/text/ecb's_approach_to_inflation_is_right,_donohoe_says.txt\", 'youtube_reponse_metadata': \"{'id': {'kind': 'youtube#video', 'videoId': '0Q3vNCvb4TA'}, 'snippet': {'publishedAt': '2024-05-17T09:26:54Z', 'channelId': 'UCIALMKvObZNtJ6AmdCLP7Lg', 'title': 'ECB&#39;s Approach to Inflation Is Right, Donohoe Says', 'channelTitle': 'Bloomberg Television'}}\"}),\n",
       " Document(page_content='confidence quick economic rebound focus hopes policy support plus get exclusive interview jpmorgans jamie dimon red bull formula one driver max verstappen talks attracting finance racetrack gone 8am', metadata={'source': \"data/text/fed's_'higher_for_longer'_message_tumbles_markets__horizons_middle_east_&_africa_05162024.txt\", 'youtube_reponse_metadata': \"{'id': {'kind': 'youtube#video', 'videoId': 'of6gYFpHI8Q'}, 'snippet': {'publishedAt': '2024-05-17T08:52:01Z', 'channelId': 'UCIALMKvObZNtJ6AmdCLP7Lg', 'title': 'Fed&#39;s &#39;Higher for Longer&#39; Message Tumbles Markets | Horizons Middle East &amp; Africa 05/16/2024', 'channelTitle': 'Bloomberg Television'}}\"}),\n",
       " Document(page_content='interviews politics course economy spring president georgia ahead eurogroup course well also talk leading wealth manager daniel pinto lets take look first thing first lets look european markets map', metadata={'source': \"data/text/georgia's_eu_dream_at_risk,_china_housing_crisis_rescue_plan__bloomberg_the_pulse_051724.txt\", 'youtube_reponse_metadata': \"{'id': {'kind': 'youtube#video', 'videoId': '9NIb2XuW8UY'}, 'snippet': {'publishedAt': '2024-05-17T13:27:14Z', 'channelId': 'UCIALMKvObZNtJ6AmdCLP7Lg', 'title': 'Georgia&#39;s EU Dream at Risk, China Housing Crisis Rescue Plan | Bloomberg The Pulse 05/17/24', 'channelTitle': 'Bloomberg Television'}}\"}),\n",
       " Document(page_content='last last days know really speaks way developed market economies changed shifted geopolitics therefore economic policies governments talking political economies theres one stands today well china', metadata={'source': \"data/text/inflation_fears,_richemont's_new_'bos'__bloomberg_markets_today_0517.txt\", 'youtube_reponse_metadata': \"{'id': {'kind': 'youtube#video', 'videoId': 'HY583QRI5v0'}, 'snippet': {'publishedAt': '2024-05-17T11:21:26Z', 'channelId': 'UCIALMKvObZNtJ6AmdCLP7Lg', 'title': 'Inflation Fears, Richemont&#39;s New &#39;Bos&#39; | Bloomberg Markets Today 05/17', 'channelTitle': 'Bloomberg Television'}}\"})]"
      ]
     },
     "execution_count": 10,
     "metadata": {},
     "output_type": "execute_result"
    }
   ],
   "source": [
    "bot.provide_context(\"what are the news on finance, economics, and politics.\")"
   ]
  },
  {
   "cell_type": "code",
   "execution_count": 12,
   "id": "86e1ceda-e8da-410f-b82d-e323f3041e06",
   "metadata": {},
   "outputs": [],
   "source": [
    "a=PineconeVectorStore.from_existing_index(index_name='day1',embedding=OpenAIEmbeddings()).as_retriever(search_type='similarity',\n",
    "                search_kwargs={\n",
    "                'k': 10}).invoke(\"what are the news on finance, economics, and politics.\")"
   ]
  },
  {
   "cell_type": "code",
   "execution_count": 61,
   "id": "8fac1626-79b4-41c1-bead-0d9b3ab369a2",
   "metadata": {},
   "outputs": [],
   "source": [
    "retriever = PineconeVectorStore.from_existing_index(\n",
    "         index_name=\"day1\",\n",
    "         embedding=OpenAIEmbeddings()\n",
    "        ).as_retriever(\n",
    "        search_type='similarity',\n",
    "     search_kwargs={'k': 10},include_metadata=True)"
   ]
  },
  {
   "cell_type": "code",
   "execution_count": 19,
   "id": "4e056eb3-3241-4337-b6b0-11eaf8ec5b15",
   "metadata": {},
   "outputs": [],
   "source": [
    "b=retriever.invoke(\"what are the news on finance, economics, and politics.\")"
   ]
  },
  {
   "cell_type": "code",
   "execution_count": 20,
   "id": "b4fd1937-8f6f-4e24-bee0-671abc74c57a",
   "metadata": {},
   "outputs": [
    {
     "data": {
      "text/plain": [
       "{'id': {'kind': 'youtube#video', 'videoId': '9NIb2XuW8UY'},\n",
       " 'snippet': {'publishedAt': '2024-05-17T13:27:14Z',\n",
       "  'channelId': 'UCIALMKvObZNtJ6AmdCLP7Lg',\n",
       "  'title': 'Georgia&#39;s EU Dream at Risk, China Housing Crisis Rescue Plan | Bloomberg The Pulse 05/17/24',\n",
       "  'channelTitle': 'Bloomberg Television'}}"
      ]
     },
     "execution_count": 20,
     "metadata": {},
     "output_type": "execute_result"
    }
   ],
   "source": [
    "ast.literal_eval(b[0].metadata['youtube_reponse_metadata'])"
   ]
  },
  {
   "cell_type": "code",
   "execution_count": 16,
   "id": "7a8ee5fd-497b-4d54-b43d-8f9edeb31b06",
   "metadata": {},
   "outputs": [],
   "source": [
    "import ast"
   ]
  },
  {
   "cell_type": "code",
   "execution_count": 18,
   "id": "df474c2a-b63b-4412-8503-2c1930b26c82",
   "metadata": {},
   "outputs": [
    {
     "ename": "NameError",
     "evalue": "name 'b' is not defined",
     "output_type": "error",
     "traceback": [
      "\u001b[1;31m---------------------------------------------------------------------------\u001b[0m",
      "\u001b[1;31mNameError\u001b[0m                                 Traceback (most recent call last)",
      "Cell \u001b[1;32mIn[18], line 1\u001b[0m\n\u001b[1;32m----> 1\u001b[0m ast\u001b[38;5;241m.\u001b[39mliteral_eval(\u001b[43mb\u001b[49m[\u001b[38;5;241m0\u001b[39m]\u001b[38;5;241m.\u001b[39mmetadata[\u001b[38;5;124m'\u001b[39m\u001b[38;5;124myoutube_reponse_metadata\u001b[39m\u001b[38;5;124m'\u001b[39m])\n",
      "\u001b[1;31mNameError\u001b[0m: name 'b' is not defined"
     ]
    }
   ],
   "source": [
    "ast.literal_eval(b[0].metadata['youtube_reponse_metadata'])"
   ]
  },
  {
   "cell_type": "code",
   "execution_count": 90,
   "id": "7cf9176f-cb2f-4a3c-ba69-af24d2246660",
   "metadata": {},
   "outputs": [],
   "source": [
    "dic ={}"
   ]
  },
  {
   "cell_type": "code",
   "execution_count": 92,
   "id": "3800f8fa-2050-40d5-b718-a4b1b0d38d05",
   "metadata": {},
   "outputs": [],
   "source": [
    "for i, j in enumerate([v.metadata['youtube_reponse_metadata'] for v in b]):\n",
    "    dic[i]=j\n",
    "    "
   ]
  },
  {
   "cell_type": "code",
   "execution_count": 93,
   "id": "fc16da14-f533-479b-b8d1-faac271ef6b9",
   "metadata": {},
   "outputs": [
    {
     "data": {
      "text/plain": [
       "{0: \"{'id': {'kind': 'youtube#video', 'videoId': '9NIb2XuW8UY'}, 'snippet': {'publishedAt': '2024-05-17T13:27:14Z', 'channelId': 'UCIALMKvObZNtJ6AmdCLP7Lg', 'title': 'Georgia&#39;s EU Dream at Risk, China Housing Crisis Rescue Plan | Bloomberg The Pulse 05/17/24', 'channelTitle': 'Bloomberg Television'}}\",\n",
       " 1: \"{'id': {'kind': 'youtube#video', 'videoId': 'bLNUUcYRv9g'}, 'snippet': {'publishedAt': '2024-05-16T22:00:32Z', 'channelId': 'UCEAZeUIeJs0IjQiqTCdVSIg', 'title': 'Markets &#39;priced to perfection,&#39; but be cautious: Strategist', 'channelTitle': 'Yahoo Finance'}}\",\n",
       " 2: \"{'id': {'kind': 'youtube#video', 'videoId': 'nvuS4UMeu7Q'}, 'snippet': {'publishedAt': '2024-05-17T05:24:52Z', 'channelId': 'UCIALMKvObZNtJ6AmdCLP7Lg', 'title': 'Bloomberg Markets: Asia 05/17/2024', 'channelTitle': 'Bloomberg Television'}}\",\n",
       " 3: \"{'id': {'kind': 'youtube#video', 'videoId': 'ywnQZd_hawY'}, 'snippet': {'publishedAt': '2024-05-17T05:39:26Z', 'channelId': 'UCIALMKvObZNtJ6AmdCLP7Lg', 'title': 'China Regulators Discuss Property Market Aid With Banks | Bloomberg: The China Show 5/17/2024', 'channelTitle': 'Bloomberg Television'}}\",\n",
       " 4: \"{'id': {'kind': 'youtube#video', 'videoId': '9NIb2XuW8UY'}, 'snippet': {'publishedAt': '2024-05-17T13:27:14Z', 'channelId': 'UCIALMKvObZNtJ6AmdCLP7Lg', 'title': 'Georgia&#39;s EU Dream at Risk, China Housing Crisis Rescue Plan | Bloomberg The Pulse 05/17/24', 'channelTitle': 'Bloomberg Television'}}\",\n",
       " 5: \"{'id': {'kind': 'youtube#video', 'videoId': '9NIb2XuW8UY'}, 'snippet': {'publishedAt': '2024-05-17T13:27:14Z', 'channelId': 'UCIALMKvObZNtJ6AmdCLP7Lg', 'title': 'Georgia&#39;s EU Dream at Risk, China Housing Crisis Rescue Plan | Bloomberg The Pulse 05/17/24', 'channelTitle': 'Bloomberg Television'}}\",\n",
       " 6: \"{'id': {'kind': 'youtube#video', 'videoId': '0Q3vNCvb4TA'}, 'snippet': {'publishedAt': '2024-05-17T09:26:54Z', 'channelId': 'UCIALMKvObZNtJ6AmdCLP7Lg', 'title': 'ECB&#39;s Approach to Inflation Is Right, Donohoe Says', 'channelTitle': 'Bloomberg Television'}}\",\n",
       " 7: \"{'id': {'kind': 'youtube#video', 'videoId': 'of6gYFpHI8Q'}, 'snippet': {'publishedAt': '2024-05-17T08:52:01Z', 'channelId': 'UCIALMKvObZNtJ6AmdCLP7Lg', 'title': 'Fed&#39;s &#39;Higher for Longer&#39; Message Tumbles Markets | Horizons Middle East &amp; Africa 05/16/2024', 'channelTitle': 'Bloomberg Television'}}\",\n",
       " 8: \"{'id': {'kind': 'youtube#video', 'videoId': '9NIb2XuW8UY'}, 'snippet': {'publishedAt': '2024-05-17T13:27:14Z', 'channelId': 'UCIALMKvObZNtJ6AmdCLP7Lg', 'title': 'Georgia&#39;s EU Dream at Risk, China Housing Crisis Rescue Plan | Bloomberg The Pulse 05/17/24', 'channelTitle': 'Bloomberg Television'}}\",\n",
       " 9: \"{'id': {'kind': 'youtube#video', 'videoId': 'HY583QRI5v0'}, 'snippet': {'publishedAt': '2024-05-17T11:21:26Z', 'channelId': 'UCIALMKvObZNtJ6AmdCLP7Lg', 'title': 'Inflation Fears, Richemont&#39;s New &#39;Bos&#39; | Bloomberg Markets Today 05/17', 'channelTitle': 'Bloomberg Television'}}\"}"
      ]
     },
     "execution_count": 93,
     "metadata": {},
     "output_type": "execute_result"
    }
   ],
   "source": [
    "dic"
   ]
  },
  {
   "cell_type": "code",
   "execution_count": 81,
   "id": "f9a60a67-aad3-4761-b7a8-35657cc363cf",
   "metadata": {},
   "outputs": [
    {
     "data": {
      "text/plain": [
       "[\"{'id': {'kind': 'youtube#video', 'videoId': '9NIb2XuW8UY'}, 'snippet': {'publishedAt': '2024-05-17T13:27:14Z', 'channelId': 'UCIALMKvObZNtJ6AmdCLP7Lg', 'title': 'Georgia&#39;s EU Dream at Risk, China Housing Crisis Rescue Plan | Bloomberg The Pulse 05/17/24', 'channelTitle': 'Bloomberg Television'}}\",\n",
       " \"{'id': {'kind': 'youtube#video', 'videoId': 'bLNUUcYRv9g'}, 'snippet': {'publishedAt': '2024-05-16T22:00:32Z', 'channelId': 'UCEAZeUIeJs0IjQiqTCdVSIg', 'title': 'Markets &#39;priced to perfection,&#39; but be cautious: Strategist', 'channelTitle': 'Yahoo Finance'}}\",\n",
       " \"{'id': {'kind': 'youtube#video', 'videoId': 'nvuS4UMeu7Q'}, 'snippet': {'publishedAt': '2024-05-17T05:24:52Z', 'channelId': 'UCIALMKvObZNtJ6AmdCLP7Lg', 'title': 'Bloomberg Markets: Asia 05/17/2024', 'channelTitle': 'Bloomberg Television'}}\",\n",
       " \"{'id': {'kind': 'youtube#video', 'videoId': 'ywnQZd_hawY'}, 'snippet': {'publishedAt': '2024-05-17T05:39:26Z', 'channelId': 'UCIALMKvObZNtJ6AmdCLP7Lg', 'title': 'China Regulators Discuss Property Market Aid With Banks | Bloomberg: The China Show 5/17/2024', 'channelTitle': 'Bloomberg Television'}}\",\n",
       " \"{'id': {'kind': 'youtube#video', 'videoId': '9NIb2XuW8UY'}, 'snippet': {'publishedAt': '2024-05-17T13:27:14Z', 'channelId': 'UCIALMKvObZNtJ6AmdCLP7Lg', 'title': 'Georgia&#39;s EU Dream at Risk, China Housing Crisis Rescue Plan | Bloomberg The Pulse 05/17/24', 'channelTitle': 'Bloomberg Television'}}\",\n",
       " \"{'id': {'kind': 'youtube#video', 'videoId': '9NIb2XuW8UY'}, 'snippet': {'publishedAt': '2024-05-17T13:27:14Z', 'channelId': 'UCIALMKvObZNtJ6AmdCLP7Lg', 'title': 'Georgia&#39;s EU Dream at Risk, China Housing Crisis Rescue Plan | Bloomberg The Pulse 05/17/24', 'channelTitle': 'Bloomberg Television'}}\",\n",
       " \"{'id': {'kind': 'youtube#video', 'videoId': '0Q3vNCvb4TA'}, 'snippet': {'publishedAt': '2024-05-17T09:26:54Z', 'channelId': 'UCIALMKvObZNtJ6AmdCLP7Lg', 'title': 'ECB&#39;s Approach to Inflation Is Right, Donohoe Says', 'channelTitle': 'Bloomberg Television'}}\",\n",
       " \"{'id': {'kind': 'youtube#video', 'videoId': 'of6gYFpHI8Q'}, 'snippet': {'publishedAt': '2024-05-17T08:52:01Z', 'channelId': 'UCIALMKvObZNtJ6AmdCLP7Lg', 'title': 'Fed&#39;s &#39;Higher for Longer&#39; Message Tumbles Markets | Horizons Middle East &amp; Africa 05/16/2024', 'channelTitle': 'Bloomberg Television'}}\",\n",
       " \"{'id': {'kind': 'youtube#video', 'videoId': '9NIb2XuW8UY'}, 'snippet': {'publishedAt': '2024-05-17T13:27:14Z', 'channelId': 'UCIALMKvObZNtJ6AmdCLP7Lg', 'title': 'Georgia&#39;s EU Dream at Risk, China Housing Crisis Rescue Plan | Bloomberg The Pulse 05/17/24', 'channelTitle': 'Bloomberg Television'}}\",\n",
       " \"{'id': {'kind': 'youtube#video', 'videoId': 'HY583QRI5v0'}, 'snippet': {'publishedAt': '2024-05-17T11:21:26Z', 'channelId': 'UCIALMKvObZNtJ6AmdCLP7Lg', 'title': 'Inflation Fears, Richemont&#39;s New &#39;Bos&#39; | Bloomberg Markets Today 05/17', 'channelTitle': 'Bloomberg Television'}}\"]"
      ]
     },
     "execution_count": 81,
     "metadata": {},
     "output_type": "execute_result"
    }
   ],
   "source": [
    "[v.metadata['youtube_reponse_metadata'] for v in b]"
   ]
  },
  {
   "cell_type": "code",
   "execution_count": 34,
   "id": "83770173-16a6-46c7-8e53-b8d0d44baa20",
   "metadata": {},
   "outputs": [
    {
     "data": {
      "text/plain": [
       "{'source': \"data/text/georgia's_eu_dream_at_risk,_china_housing_crisis_rescue_plan__bloomberg_the_pulse_051724.txt\",\n",
       " 'youtube_reponse_metadata': \"{'id': {'kind': 'youtube#video', 'videoId': '9NIb2XuW8UY'}, 'snippet': {'publishedAt': '2024-05-17T13:27:14Z', 'channelId': 'UCIALMKvObZNtJ6AmdCLP7Lg', 'title': 'Georgia&#39;s EU Dream at Risk, China Housing Crisis Rescue Plan | Bloomberg The Pulse 05/17/24', 'channelTitle': 'Bloomberg Television'}}\"}"
      ]
     },
     "execution_count": 34,
     "metadata": {},
     "output_type": "execute_result"
    }
   ],
   "source": [
    "a[0].metadata"
   ]
  },
  {
   "cell_type": "code",
   "execution_count": null,
   "id": "2b86fce8-5117-4489-bacd-2a2b775faa46",
   "metadata": {},
   "outputs": [],
   "source": [
    "PineconeVectorStore.from_existing_index(index_name=self.pinecone_index,embedding=self.embeddings).as_retriever(search_type='similarity',\n",
    "                search_kwargs={\n",
    "                'k': 10})"
   ]
  }
 ],
 "metadata": {
  "kernelspec": {
   "display_name": "Python 3 (ipykernel)",
   "language": "python",
   "name": "python3"
  },
  "language_info": {
   "codemirror_mode": {
    "name": "ipython",
    "version": 3
   },
   "file_extension": ".py",
   "mimetype": "text/x-python",
   "name": "python",
   "nbconvert_exporter": "python",
   "pygments_lexer": "ipython3",
   "version": "3.12.3"
  }
 },
 "nbformat": 4,
 "nbformat_minor": 5
}
