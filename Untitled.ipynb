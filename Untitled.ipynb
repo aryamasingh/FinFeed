{
 "cells": [
  {
   "cell_type": "code",
   "execution_count": 24,
   "id": "cf54d69a-3ed0-4165-9f07-388abb0049ac",
   "metadata": {},
   "outputs": [],
   "source": [
    "import os\n",
    "from dotenv import load_dotenv\n",
    "\n",
    "# Load the environment variables from API_KEYS.env'\n",
    "load_dotenv(\"API_KEYS.env'\")\n",
    "# Accessing the OPENAI_API_KEY variable\n",
    "openai_api_key = os.getenv('OPENAI_API_KEY')\n",
    "\n"
   ]
  },
  {
   "cell_type": "code",
   "execution_count": 25,
   "id": "1080d495-2986-4fe0-9fe4-dd8046200ef0",
   "metadata": {},
   "outputs": [],
   "source": [
    "#!pip install langchain_openai\n",
    "from langchain_openai.chat_models import ChatOpenAI\n",
    "\n",
    "model = ChatOpenAI(openai_api_key=OPENAI_API_KEY, model=\"gpt-3.5-turbo\")"
   ]
  },
  {
   "cell_type": "code",
   "execution_count": 241,
   "id": "cef0251c-bd75-48af-9983-63f4db39c617",
   "metadata": {},
   "outputs": [
    {
     "data": {
      "text/plain": [
       "AIMessage(content='It is subjective to determine the most important news of the day as it can vary depending on individual interests and perspectives. However, some of the current significant news stories include updates on the COVID-19 pandemic, political developments, environmental issues, and global events. It is recommended to check reputable news sources for the latest updates on important news stories.', response_metadata={'token_usage': {'completion_tokens': 68, 'prompt_tokens': 14, 'total_tokens': 82}, 'model_name': 'gpt-3.5-turbo', 'system_fingerprint': None, 'finish_reason': 'stop', 'logprobs': None}, id='run-e2466e09-714e-4c35-9f39-ec58a648abb6-0')"
      ]
     },
     "execution_count": 241,
     "metadata": {},
     "output_type": "execute_result"
    }
   ],
   "source": [
    "model.invoke('what is the most important news today')"
   ]
  },
  {
   "cell_type": "code",
   "execution_count": 243,
   "id": "535664da-eb5c-4d03-b942-55925130fbe1",
   "metadata": {},
   "outputs": [],
   "source": [
    "from langchain_core.output_parsers import StrOutputParser\n",
    "\n",
    "parser = StrOutputParser()"
   ]
  },
  {
   "cell_type": "code",
   "execution_count": 244,
   "id": "6edb7348-e09b-4123-976f-067131a656e9",
   "metadata": {},
   "outputs": [
    {
     "data": {
      "text/plain": [
       "'As an AI, I do not have the ability to provide real-time news updates. The most important news of the day can vary depending on the region and individual interests. It is recommended to check reputable news sources for the latest updates on important events happening around the world.'"
      ]
     },
     "execution_count": 244,
     "metadata": {},
     "output_type": "execute_result"
    }
   ],
   "source": [
    "chain = model | parser\n",
    "chain.invoke('what is the most important news today')"
   ]
  },
  {
   "cell_type": "code",
   "execution_count": null,
   "id": "48d6c05e-882c-45d7-88dd-41f835f141ab",
   "metadata": {},
   "outputs": [],
   "source": [
    "#!pip install langchain"
   ]
  },
  {
   "cell_type": "code",
   "execution_count": 245,
   "id": "ce2ff622-a259-4695-83ae-5b4d69b35936",
   "metadata": {},
   "outputs": [
    {
     "data": {
      "text/plain": [
       "'Human: \\nAnswer the question based on the context below. If you can\\'t\\nanswer the question, reply \"I don\\'t know\".\\n\\nContext: Today is the day... Trump died\\n\\nQuestion: what is the most important news today\\n'"
      ]
     },
     "execution_count": 245,
     "metadata": {},
     "output_type": "execute_result"
    }
   ],
   "source": [
    "from langchain.prompts import ChatPromptTemplate\n",
    "\n",
    "template = \"\"\"\n",
    "Answer the question based on the context below. If you can't\n",
    "answer the question, reply \"I don't know\".\n",
    "\n",
    "Context: {context}\n",
    "\n",
    "Question: {question}\n",
    "\"\"\"\n",
    "\n",
    "prompt = ChatPromptTemplate.from_template(template)\n",
    "prompt.format(context=\"Today is the day... Trump died\", question=\"what is the most important news today\")"
   ]
  },
  {
   "cell_type": "code",
   "execution_count": 246,
   "id": "75d81f11-9baa-4bf3-bd3b-f700dcff124e",
   "metadata": {},
   "outputs": [],
   "source": [
    "chain =prompt | model | parser"
   ]
  },
  {
   "cell_type": "code",
   "execution_count": 247,
   "id": "96775859-e508-47d8-be1c-1c90d2966f26",
   "metadata": {},
   "outputs": [
    {
     "data": {
      "text/plain": [
       "'The most important news today is that Trump has died.'"
      ]
     },
     "execution_count": 247,
     "metadata": {},
     "output_type": "execute_result"
    }
   ],
   "source": [
    "chain.invoke({\n",
    "    \"context\": \"Today is the day... Trump died\",\n",
    "    \"question\": \"what is the most important news today\"\n",
    "})"
   ]
  },
  {
   "cell_type": "code",
   "execution_count": 208,
   "id": "86042c54-0992-4099-aa0e-98ba48a19104",
   "metadata": {},
   "outputs": [],
   "source": [
    "import tempfile\n",
    "import whisper\n",
    "from pytube import YouTube"
   ]
  },
  {
   "cell_type": "code",
   "execution_count": 42,
   "id": "3a9069a3-df28-494c-85df-ee2f51c8f027",
   "metadata": {},
   "outputs": [],
   "source": [
    "YOUTUBE_VIDEO = 'https://www.youtube.com/watch?v=Qe57hvOr2RI'\n",
    "youtube = YouTube(YOUTUBE_VIDEO)\n",
    "audio = youtube.streams.filter(only_audio=True) # This is iterable (like list) of different streams"
   ]
  },
  {
   "cell_type": "code",
   "execution_count": 57,
   "id": "d86f9a25-09d4-4582-9382-4db234b84e7d",
   "metadata": {},
   "outputs": [
    {
     "data": {
      "text/plain": [
       "[<Stream: itag=\"139\" mime_type=\"audio/mp4\" abr=\"48kbps\" acodec=\"mp4a.40.5\" progressive=\"False\" type=\"audio\">,\n",
       " <Stream: itag=\"140\" mime_type=\"audio/mp4\" abr=\"128kbps\" acodec=\"mp4a.40.2\" progressive=\"False\" type=\"audio\">,\n",
       " <Stream: itag=\"249\" mime_type=\"audio/webm\" abr=\"50kbps\" acodec=\"opus\" progressive=\"False\" type=\"audio\">,\n",
       " <Stream: itag=\"250\" mime_type=\"audio/webm\" abr=\"70kbps\" acodec=\"opus\" progressive=\"False\" type=\"audio\">,\n",
       " <Stream: itag=\"251\" mime_type=\"audio/webm\" abr=\"160kbps\" acodec=\"opus\" progressive=\"False\" type=\"audio\">]"
      ]
     },
     "execution_count": 57,
     "metadata": {},
     "output_type": "execute_result"
    }
   ],
   "source": [
    "list(audio)"
   ]
  },
  {
   "cell_type": "code",
   "execution_count": 60,
   "id": "77436c7a-4cd2-426c-b4f0-eeec80d2c168",
   "metadata": {},
   "outputs": [
    {
     "name": "stdout",
     "output_type": "stream",
     "text": [
      "50\n"
     ]
    }
   ],
   "source": [
    "print(audio[2].abr.split(\"kbps\")[0])"
   ]
  },
  {
   "cell_type": "code",
   "execution_count": 67,
   "id": "b72384a0-8782-4928-9bf5-41d3becce8ad",
   "metadata": {},
   "outputs": [],
   "source": [
    "sorted_audio = sorted(audio, key=lambda x: int(x.abr.split('kbps')[0])) # Here, we sort by abr (audio bit rate) and pick a lower quality stream, later we can pick optimal one"
   ]
  },
  {
   "cell_type": "code",
   "execution_count": 211,
   "id": "2872b99c-a31d-4829-80fa-e104d3111496",
   "metadata": {},
   "outputs": [],
   "source": [
    "YOUTUBE_VIDEO = 'https://www.youtube.com/watch?v=Qe57hvOr2RI'\n",
    "if not os.path.exists(\"transcription1.txt\"):\n",
    "    youtube = YouTube(YOUTUBE_VIDEO)\n",
    "    audio = youtube.streams.filter(only_audio=True)\n",
    "    sorted_audio = sorted(audio, key=lambda x: int(x.abr.split('kbps')[0])) # Here, we sort by abr (audio bit rate) and pick a lower quality stream, later we can pick optimal one\n",
    "    lowest_quality_audio=sorted_audio[0]\n",
    "    # Let's load the base model. This is not the most accurate\n",
    "    # model but it's fast.\n",
    "    whisper_model = whisper.load_model(\"base\")\n",
    "\n",
    "    with tempfile.TemporaryDirectory() as tmpdir:\n",
    "        file = lowest_quality_audio.download(output_path=tmpdir)\n",
    "        transcription = whisper_model.transcribe(file, fp16=False)[\"text\"].strip()\n",
    "\n",
    "        with open(\"transcription1.txt\", \"w\") as file:\n",
    "            file.write(transcription)"
   ]
  },
  {
   "cell_type": "code",
   "execution_count": 212,
   "id": "757f826e-ed42-4f5a-bc3d-cf2ce0ae73de",
   "metadata": {},
   "outputs": [
    {
     "name": "stdout",
     "output_type": "stream",
     "text": [
      "This news is funded by viewers like you. Please support our work at democracynow.org slash give. Welcome to democracynow.org, the Warren Peace Report. I'm Amy Goodman. In Gaza, Israeli bombs came down on the News State out refugee camp in central Gaza overnight landing on a house and an unawas schoo\n"
     ]
    }
   ],
   "source": [
    "with open(\"transcription1.txt\") as file:\n",
    "    print(file.read()[:300])\n",
    "\n",
    "\n",
    "with open(\"transcription1.txt\") as file:\n",
    "    transcribed=file.read()"
   ]
  },
  {
   "cell_type": "code",
   "execution_count": 248,
   "id": "0f32027b-c05a-4a42-bc6e-a3d30ebb5f4e",
   "metadata": {},
   "outputs": [
    {
     "ename": "BadRequestError",
     "evalue": "Error code: 400 - {'error': {'message': \"This model's maximum context length is 16385 tokens. However, your messages resulted in 17566 tokens. Please reduce the length of the messages.\", 'type': 'invalid_request_error', 'param': 'messages', 'code': 'context_length_exceeded'}}",
     "output_type": "error",
     "traceback": [
      "\u001b[1;31m---------------------------------------------------------------------------\u001b[0m",
      "\u001b[1;31mBadRequestError\u001b[0m                           Traceback (most recent call last)",
      "Cell \u001b[1;32mIn[248], line 1\u001b[0m\n\u001b[1;32m----> 1\u001b[0m \u001b[43mchain\u001b[49m\u001b[38;5;241;43m.\u001b[39;49m\u001b[43minvoke\u001b[49m\u001b[43m(\u001b[49m\u001b[43m{\u001b[49m\u001b[38;5;124;43m\"\u001b[39;49m\u001b[38;5;124;43mcontext\u001b[39;49m\u001b[38;5;124;43m\"\u001b[39;49m\u001b[43m:\u001b[49m\u001b[43mtranscribed\u001b[49m\u001b[38;5;241;43m*\u001b[39;49m\u001b[38;5;241;43m10\u001b[39;49m\u001b[43m,\u001b[49m\n\u001b[0;32m      2\u001b[0m \u001b[43m             \u001b[49m\u001b[38;5;124;43m\"\u001b[39;49m\u001b[38;5;124;43mquestion\u001b[39;49m\u001b[38;5;124;43m\"\u001b[39;49m\u001b[43m:\u001b[49m\u001b[38;5;124;43m\"\u001b[39;49m\u001b[38;5;124;43mwhat is the most important news today\u001b[39;49m\u001b[38;5;124;43m\"\u001b[39;49m\u001b[43m}\u001b[49m\u001b[43m)\u001b[49m\n",
      "File \u001b[1;32m~\\anaconda3\\envs\\finfeed_env\\Lib\\site-packages\\langchain_core\\runnables\\base.py:2499\u001b[0m, in \u001b[0;36mRunnableSequence.invoke\u001b[1;34m(self, input, config)\u001b[0m\n\u001b[0;32m   2497\u001b[0m \u001b[38;5;28;01mtry\u001b[39;00m:\n\u001b[0;32m   2498\u001b[0m     \u001b[38;5;28;01mfor\u001b[39;00m i, step \u001b[38;5;129;01min\u001b[39;00m \u001b[38;5;28menumerate\u001b[39m(\u001b[38;5;28mself\u001b[39m\u001b[38;5;241m.\u001b[39msteps):\n\u001b[1;32m-> 2499\u001b[0m         \u001b[38;5;28minput\u001b[39m \u001b[38;5;241m=\u001b[39m \u001b[43mstep\u001b[49m\u001b[38;5;241;43m.\u001b[39;49m\u001b[43minvoke\u001b[49m\u001b[43m(\u001b[49m\n\u001b[0;32m   2500\u001b[0m \u001b[43m            \u001b[49m\u001b[38;5;28;43minput\u001b[39;49m\u001b[43m,\u001b[49m\n\u001b[0;32m   2501\u001b[0m \u001b[43m            \u001b[49m\u001b[38;5;66;43;03m# mark each step as a child run\u001b[39;49;00m\n\u001b[0;32m   2502\u001b[0m \u001b[43m            \u001b[49m\u001b[43mpatch_config\u001b[49m\u001b[43m(\u001b[49m\n\u001b[0;32m   2503\u001b[0m \u001b[43m                \u001b[49m\u001b[43mconfig\u001b[49m\u001b[43m,\u001b[49m\u001b[43m \u001b[49m\u001b[43mcallbacks\u001b[49m\u001b[38;5;241;43m=\u001b[39;49m\u001b[43mrun_manager\u001b[49m\u001b[38;5;241;43m.\u001b[39;49m\u001b[43mget_child\u001b[49m\u001b[43m(\u001b[49m\u001b[38;5;124;43mf\u001b[39;49m\u001b[38;5;124;43m\"\u001b[39;49m\u001b[38;5;124;43mseq:step:\u001b[39;49m\u001b[38;5;132;43;01m{\u001b[39;49;00m\u001b[43mi\u001b[49m\u001b[38;5;241;43m+\u001b[39;49m\u001b[38;5;241;43m1\u001b[39;49m\u001b[38;5;132;43;01m}\u001b[39;49;00m\u001b[38;5;124;43m\"\u001b[39;49m\u001b[43m)\u001b[49m\n\u001b[0;32m   2504\u001b[0m \u001b[43m            \u001b[49m\u001b[43m)\u001b[49m\u001b[43m,\u001b[49m\n\u001b[0;32m   2505\u001b[0m \u001b[43m        \u001b[49m\u001b[43m)\u001b[49m\n\u001b[0;32m   2506\u001b[0m \u001b[38;5;66;03m# finish the root run\u001b[39;00m\n\u001b[0;32m   2507\u001b[0m \u001b[38;5;28;01mexcept\u001b[39;00m \u001b[38;5;167;01mBaseException\u001b[39;00m \u001b[38;5;28;01mas\u001b[39;00m e:\n",
      "File \u001b[1;32m~\\anaconda3\\envs\\finfeed_env\\Lib\\site-packages\\langchain_core\\language_models\\chat_models.py:158\u001b[0m, in \u001b[0;36mBaseChatModel.invoke\u001b[1;34m(self, input, config, stop, **kwargs)\u001b[0m\n\u001b[0;32m    147\u001b[0m \u001b[38;5;28;01mdef\u001b[39;00m \u001b[38;5;21minvoke\u001b[39m(\n\u001b[0;32m    148\u001b[0m     \u001b[38;5;28mself\u001b[39m,\n\u001b[0;32m    149\u001b[0m     \u001b[38;5;28minput\u001b[39m: LanguageModelInput,\n\u001b[1;32m   (...)\u001b[0m\n\u001b[0;32m    153\u001b[0m     \u001b[38;5;241m*\u001b[39m\u001b[38;5;241m*\u001b[39mkwargs: Any,\n\u001b[0;32m    154\u001b[0m ) \u001b[38;5;241m-\u001b[39m\u001b[38;5;241m>\u001b[39m BaseMessage:\n\u001b[0;32m    155\u001b[0m     config \u001b[38;5;241m=\u001b[39m ensure_config(config)\n\u001b[0;32m    156\u001b[0m     \u001b[38;5;28;01mreturn\u001b[39;00m cast(\n\u001b[0;32m    157\u001b[0m         ChatGeneration,\n\u001b[1;32m--> 158\u001b[0m         \u001b[38;5;28;43mself\u001b[39;49m\u001b[38;5;241;43m.\u001b[39;49m\u001b[43mgenerate_prompt\u001b[49m\u001b[43m(\u001b[49m\n\u001b[0;32m    159\u001b[0m \u001b[43m            \u001b[49m\u001b[43m[\u001b[49m\u001b[38;5;28;43mself\u001b[39;49m\u001b[38;5;241;43m.\u001b[39;49m\u001b[43m_convert_input\u001b[49m\u001b[43m(\u001b[49m\u001b[38;5;28;43minput\u001b[39;49m\u001b[43m)\u001b[49m\u001b[43m]\u001b[49m\u001b[43m,\u001b[49m\n\u001b[0;32m    160\u001b[0m \u001b[43m            \u001b[49m\u001b[43mstop\u001b[49m\u001b[38;5;241;43m=\u001b[39;49m\u001b[43mstop\u001b[49m\u001b[43m,\u001b[49m\n\u001b[0;32m    161\u001b[0m \u001b[43m            \u001b[49m\u001b[43mcallbacks\u001b[49m\u001b[38;5;241;43m=\u001b[39;49m\u001b[43mconfig\u001b[49m\u001b[38;5;241;43m.\u001b[39;49m\u001b[43mget\u001b[49m\u001b[43m(\u001b[49m\u001b[38;5;124;43m\"\u001b[39;49m\u001b[38;5;124;43mcallbacks\u001b[39;49m\u001b[38;5;124;43m\"\u001b[39;49m\u001b[43m)\u001b[49m\u001b[43m,\u001b[49m\n\u001b[0;32m    162\u001b[0m \u001b[43m            \u001b[49m\u001b[43mtags\u001b[49m\u001b[38;5;241;43m=\u001b[39;49m\u001b[43mconfig\u001b[49m\u001b[38;5;241;43m.\u001b[39;49m\u001b[43mget\u001b[49m\u001b[43m(\u001b[49m\u001b[38;5;124;43m\"\u001b[39;49m\u001b[38;5;124;43mtags\u001b[39;49m\u001b[38;5;124;43m\"\u001b[39;49m\u001b[43m)\u001b[49m\u001b[43m,\u001b[49m\n\u001b[0;32m    163\u001b[0m \u001b[43m            \u001b[49m\u001b[43mmetadata\u001b[49m\u001b[38;5;241;43m=\u001b[39;49m\u001b[43mconfig\u001b[49m\u001b[38;5;241;43m.\u001b[39;49m\u001b[43mget\u001b[49m\u001b[43m(\u001b[49m\u001b[38;5;124;43m\"\u001b[39;49m\u001b[38;5;124;43mmetadata\u001b[39;49m\u001b[38;5;124;43m\"\u001b[39;49m\u001b[43m)\u001b[49m\u001b[43m,\u001b[49m\n\u001b[0;32m    164\u001b[0m \u001b[43m            \u001b[49m\u001b[43mrun_name\u001b[49m\u001b[38;5;241;43m=\u001b[39;49m\u001b[43mconfig\u001b[49m\u001b[38;5;241;43m.\u001b[39;49m\u001b[43mget\u001b[49m\u001b[43m(\u001b[49m\u001b[38;5;124;43m\"\u001b[39;49m\u001b[38;5;124;43mrun_name\u001b[39;49m\u001b[38;5;124;43m\"\u001b[39;49m\u001b[43m)\u001b[49m\u001b[43m,\u001b[49m\n\u001b[0;32m    165\u001b[0m \u001b[43m            \u001b[49m\u001b[43mrun_id\u001b[49m\u001b[38;5;241;43m=\u001b[39;49m\u001b[43mconfig\u001b[49m\u001b[38;5;241;43m.\u001b[39;49m\u001b[43mpop\u001b[49m\u001b[43m(\u001b[49m\u001b[38;5;124;43m\"\u001b[39;49m\u001b[38;5;124;43mrun_id\u001b[39;49m\u001b[38;5;124;43m\"\u001b[39;49m\u001b[43m,\u001b[49m\u001b[43m \u001b[49m\u001b[38;5;28;43;01mNone\u001b[39;49;00m\u001b[43m)\u001b[49m\u001b[43m,\u001b[49m\n\u001b[0;32m    166\u001b[0m \u001b[43m            \u001b[49m\u001b[38;5;241;43m*\u001b[39;49m\u001b[38;5;241;43m*\u001b[39;49m\u001b[43mkwargs\u001b[49m\u001b[43m,\u001b[49m\n\u001b[0;32m    167\u001b[0m \u001b[43m        \u001b[49m\u001b[43m)\u001b[49m\u001b[38;5;241m.\u001b[39mgenerations[\u001b[38;5;241m0\u001b[39m][\u001b[38;5;241m0\u001b[39m],\n\u001b[0;32m    168\u001b[0m     )\u001b[38;5;241m.\u001b[39mmessage\n",
      "File \u001b[1;32m~\\anaconda3\\envs\\finfeed_env\\Lib\\site-packages\\langchain_core\\language_models\\chat_models.py:560\u001b[0m, in \u001b[0;36mBaseChatModel.generate_prompt\u001b[1;34m(self, prompts, stop, callbacks, **kwargs)\u001b[0m\n\u001b[0;32m    552\u001b[0m \u001b[38;5;28;01mdef\u001b[39;00m \u001b[38;5;21mgenerate_prompt\u001b[39m(\n\u001b[0;32m    553\u001b[0m     \u001b[38;5;28mself\u001b[39m,\n\u001b[0;32m    554\u001b[0m     prompts: List[PromptValue],\n\u001b[1;32m   (...)\u001b[0m\n\u001b[0;32m    557\u001b[0m     \u001b[38;5;241m*\u001b[39m\u001b[38;5;241m*\u001b[39mkwargs: Any,\n\u001b[0;32m    558\u001b[0m ) \u001b[38;5;241m-\u001b[39m\u001b[38;5;241m>\u001b[39m LLMResult:\n\u001b[0;32m    559\u001b[0m     prompt_messages \u001b[38;5;241m=\u001b[39m [p\u001b[38;5;241m.\u001b[39mto_messages() \u001b[38;5;28;01mfor\u001b[39;00m p \u001b[38;5;129;01min\u001b[39;00m prompts]\n\u001b[1;32m--> 560\u001b[0m     \u001b[38;5;28;01mreturn\u001b[39;00m \u001b[38;5;28;43mself\u001b[39;49m\u001b[38;5;241;43m.\u001b[39;49m\u001b[43mgenerate\u001b[49m\u001b[43m(\u001b[49m\u001b[43mprompt_messages\u001b[49m\u001b[43m,\u001b[49m\u001b[43m \u001b[49m\u001b[43mstop\u001b[49m\u001b[38;5;241;43m=\u001b[39;49m\u001b[43mstop\u001b[49m\u001b[43m,\u001b[49m\u001b[43m \u001b[49m\u001b[43mcallbacks\u001b[49m\u001b[38;5;241;43m=\u001b[39;49m\u001b[43mcallbacks\u001b[49m\u001b[43m,\u001b[49m\u001b[43m \u001b[49m\u001b[38;5;241;43m*\u001b[39;49m\u001b[38;5;241;43m*\u001b[39;49m\u001b[43mkwargs\u001b[49m\u001b[43m)\u001b[49m\n",
      "File \u001b[1;32m~\\anaconda3\\envs\\finfeed_env\\Lib\\site-packages\\langchain_core\\language_models\\chat_models.py:421\u001b[0m, in \u001b[0;36mBaseChatModel.generate\u001b[1;34m(self, messages, stop, callbacks, tags, metadata, run_name, run_id, **kwargs)\u001b[0m\n\u001b[0;32m    419\u001b[0m         \u001b[38;5;28;01mif\u001b[39;00m run_managers:\n\u001b[0;32m    420\u001b[0m             run_managers[i]\u001b[38;5;241m.\u001b[39mon_llm_error(e, response\u001b[38;5;241m=\u001b[39mLLMResult(generations\u001b[38;5;241m=\u001b[39m[]))\n\u001b[1;32m--> 421\u001b[0m         \u001b[38;5;28;01mraise\u001b[39;00m e\n\u001b[0;32m    422\u001b[0m flattened_outputs \u001b[38;5;241m=\u001b[39m [\n\u001b[0;32m    423\u001b[0m     LLMResult(generations\u001b[38;5;241m=\u001b[39m[res\u001b[38;5;241m.\u001b[39mgenerations], llm_output\u001b[38;5;241m=\u001b[39mres\u001b[38;5;241m.\u001b[39mllm_output)  \u001b[38;5;66;03m# type: ignore[list-item]\u001b[39;00m\n\u001b[0;32m    424\u001b[0m     \u001b[38;5;28;01mfor\u001b[39;00m res \u001b[38;5;129;01min\u001b[39;00m results\n\u001b[0;32m    425\u001b[0m ]\n\u001b[0;32m    426\u001b[0m llm_output \u001b[38;5;241m=\u001b[39m \u001b[38;5;28mself\u001b[39m\u001b[38;5;241m.\u001b[39m_combine_llm_outputs([res\u001b[38;5;241m.\u001b[39mllm_output \u001b[38;5;28;01mfor\u001b[39;00m res \u001b[38;5;129;01min\u001b[39;00m results])\n",
      "File \u001b[1;32m~\\anaconda3\\envs\\finfeed_env\\Lib\\site-packages\\langchain_core\\language_models\\chat_models.py:411\u001b[0m, in \u001b[0;36mBaseChatModel.generate\u001b[1;34m(self, messages, stop, callbacks, tags, metadata, run_name, run_id, **kwargs)\u001b[0m\n\u001b[0;32m    408\u001b[0m \u001b[38;5;28;01mfor\u001b[39;00m i, m \u001b[38;5;129;01min\u001b[39;00m \u001b[38;5;28menumerate\u001b[39m(messages):\n\u001b[0;32m    409\u001b[0m     \u001b[38;5;28;01mtry\u001b[39;00m:\n\u001b[0;32m    410\u001b[0m         results\u001b[38;5;241m.\u001b[39mappend(\n\u001b[1;32m--> 411\u001b[0m             \u001b[38;5;28;43mself\u001b[39;49m\u001b[38;5;241;43m.\u001b[39;49m\u001b[43m_generate_with_cache\u001b[49m\u001b[43m(\u001b[49m\n\u001b[0;32m    412\u001b[0m \u001b[43m                \u001b[49m\u001b[43mm\u001b[49m\u001b[43m,\u001b[49m\n\u001b[0;32m    413\u001b[0m \u001b[43m                \u001b[49m\u001b[43mstop\u001b[49m\u001b[38;5;241;43m=\u001b[39;49m\u001b[43mstop\u001b[49m\u001b[43m,\u001b[49m\n\u001b[0;32m    414\u001b[0m \u001b[43m                \u001b[49m\u001b[43mrun_manager\u001b[49m\u001b[38;5;241;43m=\u001b[39;49m\u001b[43mrun_managers\u001b[49m\u001b[43m[\u001b[49m\u001b[43mi\u001b[49m\u001b[43m]\u001b[49m\u001b[43m \u001b[49m\u001b[38;5;28;43;01mif\u001b[39;49;00m\u001b[43m \u001b[49m\u001b[43mrun_managers\u001b[49m\u001b[43m \u001b[49m\u001b[38;5;28;43;01melse\u001b[39;49;00m\u001b[43m \u001b[49m\u001b[38;5;28;43;01mNone\u001b[39;49;00m\u001b[43m,\u001b[49m\n\u001b[0;32m    415\u001b[0m \u001b[43m                \u001b[49m\u001b[38;5;241;43m*\u001b[39;49m\u001b[38;5;241;43m*\u001b[39;49m\u001b[43mkwargs\u001b[49m\u001b[43m,\u001b[49m\n\u001b[0;32m    416\u001b[0m \u001b[43m            \u001b[49m\u001b[43m)\u001b[49m\n\u001b[0;32m    417\u001b[0m         )\n\u001b[0;32m    418\u001b[0m     \u001b[38;5;28;01mexcept\u001b[39;00m \u001b[38;5;167;01mBaseException\u001b[39;00m \u001b[38;5;28;01mas\u001b[39;00m e:\n\u001b[0;32m    419\u001b[0m         \u001b[38;5;28;01mif\u001b[39;00m run_managers:\n",
      "File \u001b[1;32m~\\anaconda3\\envs\\finfeed_env\\Lib\\site-packages\\langchain_core\\language_models\\chat_models.py:632\u001b[0m, in \u001b[0;36mBaseChatModel._generate_with_cache\u001b[1;34m(self, messages, stop, run_manager, **kwargs)\u001b[0m\n\u001b[0;32m    630\u001b[0m \u001b[38;5;28;01melse\u001b[39;00m:\n\u001b[0;32m    631\u001b[0m     \u001b[38;5;28;01mif\u001b[39;00m inspect\u001b[38;5;241m.\u001b[39msignature(\u001b[38;5;28mself\u001b[39m\u001b[38;5;241m.\u001b[39m_generate)\u001b[38;5;241m.\u001b[39mparameters\u001b[38;5;241m.\u001b[39mget(\u001b[38;5;124m\"\u001b[39m\u001b[38;5;124mrun_manager\u001b[39m\u001b[38;5;124m\"\u001b[39m):\n\u001b[1;32m--> 632\u001b[0m         result \u001b[38;5;241m=\u001b[39m \u001b[38;5;28;43mself\u001b[39;49m\u001b[38;5;241;43m.\u001b[39;49m\u001b[43m_generate\u001b[49m\u001b[43m(\u001b[49m\n\u001b[0;32m    633\u001b[0m \u001b[43m            \u001b[49m\u001b[43mmessages\u001b[49m\u001b[43m,\u001b[49m\u001b[43m \u001b[49m\u001b[43mstop\u001b[49m\u001b[38;5;241;43m=\u001b[39;49m\u001b[43mstop\u001b[49m\u001b[43m,\u001b[49m\u001b[43m \u001b[49m\u001b[43mrun_manager\u001b[49m\u001b[38;5;241;43m=\u001b[39;49m\u001b[43mrun_manager\u001b[49m\u001b[43m,\u001b[49m\u001b[43m \u001b[49m\u001b[38;5;241;43m*\u001b[39;49m\u001b[38;5;241;43m*\u001b[39;49m\u001b[43mkwargs\u001b[49m\n\u001b[0;32m    634\u001b[0m \u001b[43m        \u001b[49m\u001b[43m)\u001b[49m\n\u001b[0;32m    635\u001b[0m     \u001b[38;5;28;01melse\u001b[39;00m:\n\u001b[0;32m    636\u001b[0m         result \u001b[38;5;241m=\u001b[39m \u001b[38;5;28mself\u001b[39m\u001b[38;5;241m.\u001b[39m_generate(messages, stop\u001b[38;5;241m=\u001b[39mstop, \u001b[38;5;241m*\u001b[39m\u001b[38;5;241m*\u001b[39mkwargs)\n",
      "File \u001b[1;32m~\\anaconda3\\envs\\finfeed_env\\Lib\\site-packages\\langchain_openai\\chat_models\\base.py:522\u001b[0m, in \u001b[0;36mBaseChatOpenAI._generate\u001b[1;34m(self, messages, stop, run_manager, **kwargs)\u001b[0m\n\u001b[0;32m    520\u001b[0m message_dicts, params \u001b[38;5;241m=\u001b[39m \u001b[38;5;28mself\u001b[39m\u001b[38;5;241m.\u001b[39m_create_message_dicts(messages, stop)\n\u001b[0;32m    521\u001b[0m params \u001b[38;5;241m=\u001b[39m {\u001b[38;5;241m*\u001b[39m\u001b[38;5;241m*\u001b[39mparams, \u001b[38;5;241m*\u001b[39m\u001b[38;5;241m*\u001b[39mkwargs}\n\u001b[1;32m--> 522\u001b[0m response \u001b[38;5;241m=\u001b[39m \u001b[38;5;28;43mself\u001b[39;49m\u001b[38;5;241;43m.\u001b[39;49m\u001b[43mclient\u001b[49m\u001b[38;5;241;43m.\u001b[39;49m\u001b[43mcreate\u001b[49m\u001b[43m(\u001b[49m\u001b[43mmessages\u001b[49m\u001b[38;5;241;43m=\u001b[39;49m\u001b[43mmessage_dicts\u001b[49m\u001b[43m,\u001b[49m\u001b[43m \u001b[49m\u001b[38;5;241;43m*\u001b[39;49m\u001b[38;5;241;43m*\u001b[39;49m\u001b[43mparams\u001b[49m\u001b[43m)\u001b[49m\n\u001b[0;32m    523\u001b[0m \u001b[38;5;28;01mreturn\u001b[39;00m \u001b[38;5;28mself\u001b[39m\u001b[38;5;241m.\u001b[39m_create_chat_result(response)\n",
      "File \u001b[1;32m~\\anaconda3\\envs\\finfeed_env\\Lib\\site-packages\\openai\\_utils\\_utils.py:277\u001b[0m, in \u001b[0;36mrequired_args.<locals>.inner.<locals>.wrapper\u001b[1;34m(*args, **kwargs)\u001b[0m\n\u001b[0;32m    275\u001b[0m             msg \u001b[38;5;241m=\u001b[39m \u001b[38;5;124mf\u001b[39m\u001b[38;5;124m\"\u001b[39m\u001b[38;5;124mMissing required argument: \u001b[39m\u001b[38;5;132;01m{\u001b[39;00mquote(missing[\u001b[38;5;241m0\u001b[39m])\u001b[38;5;132;01m}\u001b[39;00m\u001b[38;5;124m\"\u001b[39m\n\u001b[0;32m    276\u001b[0m     \u001b[38;5;28;01mraise\u001b[39;00m \u001b[38;5;167;01mTypeError\u001b[39;00m(msg)\n\u001b[1;32m--> 277\u001b[0m \u001b[38;5;28;01mreturn\u001b[39;00m \u001b[43mfunc\u001b[49m\u001b[43m(\u001b[49m\u001b[38;5;241;43m*\u001b[39;49m\u001b[43margs\u001b[49m\u001b[43m,\u001b[49m\u001b[43m \u001b[49m\u001b[38;5;241;43m*\u001b[39;49m\u001b[38;5;241;43m*\u001b[39;49m\u001b[43mkwargs\u001b[49m\u001b[43m)\u001b[49m\n",
      "File \u001b[1;32m~\\anaconda3\\envs\\finfeed_env\\Lib\\site-packages\\openai\\resources\\chat\\completions.py:590\u001b[0m, in \u001b[0;36mCompletions.create\u001b[1;34m(self, messages, model, frequency_penalty, function_call, functions, logit_bias, logprobs, max_tokens, n, presence_penalty, response_format, seed, stop, stream, stream_options, temperature, tool_choice, tools, top_logprobs, top_p, user, extra_headers, extra_query, extra_body, timeout)\u001b[0m\n\u001b[0;32m    558\u001b[0m \u001b[38;5;129m@required_args\u001b[39m([\u001b[38;5;124m\"\u001b[39m\u001b[38;5;124mmessages\u001b[39m\u001b[38;5;124m\"\u001b[39m, \u001b[38;5;124m\"\u001b[39m\u001b[38;5;124mmodel\u001b[39m\u001b[38;5;124m\"\u001b[39m], [\u001b[38;5;124m\"\u001b[39m\u001b[38;5;124mmessages\u001b[39m\u001b[38;5;124m\"\u001b[39m, \u001b[38;5;124m\"\u001b[39m\u001b[38;5;124mmodel\u001b[39m\u001b[38;5;124m\"\u001b[39m, \u001b[38;5;124m\"\u001b[39m\u001b[38;5;124mstream\u001b[39m\u001b[38;5;124m\"\u001b[39m])\n\u001b[0;32m    559\u001b[0m \u001b[38;5;28;01mdef\u001b[39;00m \u001b[38;5;21mcreate\u001b[39m(\n\u001b[0;32m    560\u001b[0m     \u001b[38;5;28mself\u001b[39m,\n\u001b[1;32m   (...)\u001b[0m\n\u001b[0;32m    588\u001b[0m     timeout: \u001b[38;5;28mfloat\u001b[39m \u001b[38;5;241m|\u001b[39m httpx\u001b[38;5;241m.\u001b[39mTimeout \u001b[38;5;241m|\u001b[39m \u001b[38;5;28;01mNone\u001b[39;00m \u001b[38;5;241m|\u001b[39m NotGiven \u001b[38;5;241m=\u001b[39m NOT_GIVEN,\n\u001b[0;32m    589\u001b[0m ) \u001b[38;5;241m-\u001b[39m\u001b[38;5;241m>\u001b[39m ChatCompletion \u001b[38;5;241m|\u001b[39m Stream[ChatCompletionChunk]:\n\u001b[1;32m--> 590\u001b[0m     \u001b[38;5;28;01mreturn\u001b[39;00m \u001b[38;5;28;43mself\u001b[39;49m\u001b[38;5;241;43m.\u001b[39;49m\u001b[43m_post\u001b[49m\u001b[43m(\u001b[49m\n\u001b[0;32m    591\u001b[0m \u001b[43m        \u001b[49m\u001b[38;5;124;43m\"\u001b[39;49m\u001b[38;5;124;43m/chat/completions\u001b[39;49m\u001b[38;5;124;43m\"\u001b[39;49m\u001b[43m,\u001b[49m\n\u001b[0;32m    592\u001b[0m \u001b[43m        \u001b[49m\u001b[43mbody\u001b[49m\u001b[38;5;241;43m=\u001b[39;49m\u001b[43mmaybe_transform\u001b[49m\u001b[43m(\u001b[49m\n\u001b[0;32m    593\u001b[0m \u001b[43m            \u001b[49m\u001b[43m{\u001b[49m\n\u001b[0;32m    594\u001b[0m \u001b[43m                \u001b[49m\u001b[38;5;124;43m\"\u001b[39;49m\u001b[38;5;124;43mmessages\u001b[39;49m\u001b[38;5;124;43m\"\u001b[39;49m\u001b[43m:\u001b[49m\u001b[43m \u001b[49m\u001b[43mmessages\u001b[49m\u001b[43m,\u001b[49m\n\u001b[0;32m    595\u001b[0m \u001b[43m                \u001b[49m\u001b[38;5;124;43m\"\u001b[39;49m\u001b[38;5;124;43mmodel\u001b[39;49m\u001b[38;5;124;43m\"\u001b[39;49m\u001b[43m:\u001b[49m\u001b[43m \u001b[49m\u001b[43mmodel\u001b[49m\u001b[43m,\u001b[49m\n\u001b[0;32m    596\u001b[0m \u001b[43m                \u001b[49m\u001b[38;5;124;43m\"\u001b[39;49m\u001b[38;5;124;43mfrequency_penalty\u001b[39;49m\u001b[38;5;124;43m\"\u001b[39;49m\u001b[43m:\u001b[49m\u001b[43m \u001b[49m\u001b[43mfrequency_penalty\u001b[49m\u001b[43m,\u001b[49m\n\u001b[0;32m    597\u001b[0m \u001b[43m                \u001b[49m\u001b[38;5;124;43m\"\u001b[39;49m\u001b[38;5;124;43mfunction_call\u001b[39;49m\u001b[38;5;124;43m\"\u001b[39;49m\u001b[43m:\u001b[49m\u001b[43m \u001b[49m\u001b[43mfunction_call\u001b[49m\u001b[43m,\u001b[49m\n\u001b[0;32m    598\u001b[0m \u001b[43m                \u001b[49m\u001b[38;5;124;43m\"\u001b[39;49m\u001b[38;5;124;43mfunctions\u001b[39;49m\u001b[38;5;124;43m\"\u001b[39;49m\u001b[43m:\u001b[49m\u001b[43m \u001b[49m\u001b[43mfunctions\u001b[49m\u001b[43m,\u001b[49m\n\u001b[0;32m    599\u001b[0m \u001b[43m                \u001b[49m\u001b[38;5;124;43m\"\u001b[39;49m\u001b[38;5;124;43mlogit_bias\u001b[39;49m\u001b[38;5;124;43m\"\u001b[39;49m\u001b[43m:\u001b[49m\u001b[43m \u001b[49m\u001b[43mlogit_bias\u001b[49m\u001b[43m,\u001b[49m\n\u001b[0;32m    600\u001b[0m \u001b[43m                \u001b[49m\u001b[38;5;124;43m\"\u001b[39;49m\u001b[38;5;124;43mlogprobs\u001b[39;49m\u001b[38;5;124;43m\"\u001b[39;49m\u001b[43m:\u001b[49m\u001b[43m \u001b[49m\u001b[43mlogprobs\u001b[49m\u001b[43m,\u001b[49m\n\u001b[0;32m    601\u001b[0m \u001b[43m                \u001b[49m\u001b[38;5;124;43m\"\u001b[39;49m\u001b[38;5;124;43mmax_tokens\u001b[39;49m\u001b[38;5;124;43m\"\u001b[39;49m\u001b[43m:\u001b[49m\u001b[43m \u001b[49m\u001b[43mmax_tokens\u001b[49m\u001b[43m,\u001b[49m\n\u001b[0;32m    602\u001b[0m \u001b[43m                \u001b[49m\u001b[38;5;124;43m\"\u001b[39;49m\u001b[38;5;124;43mn\u001b[39;49m\u001b[38;5;124;43m\"\u001b[39;49m\u001b[43m:\u001b[49m\u001b[43m \u001b[49m\u001b[43mn\u001b[49m\u001b[43m,\u001b[49m\n\u001b[0;32m    603\u001b[0m \u001b[43m                \u001b[49m\u001b[38;5;124;43m\"\u001b[39;49m\u001b[38;5;124;43mpresence_penalty\u001b[39;49m\u001b[38;5;124;43m\"\u001b[39;49m\u001b[43m:\u001b[49m\u001b[43m \u001b[49m\u001b[43mpresence_penalty\u001b[49m\u001b[43m,\u001b[49m\n\u001b[0;32m    604\u001b[0m \u001b[43m                \u001b[49m\u001b[38;5;124;43m\"\u001b[39;49m\u001b[38;5;124;43mresponse_format\u001b[39;49m\u001b[38;5;124;43m\"\u001b[39;49m\u001b[43m:\u001b[49m\u001b[43m \u001b[49m\u001b[43mresponse_format\u001b[49m\u001b[43m,\u001b[49m\n\u001b[0;32m    605\u001b[0m \u001b[43m                \u001b[49m\u001b[38;5;124;43m\"\u001b[39;49m\u001b[38;5;124;43mseed\u001b[39;49m\u001b[38;5;124;43m\"\u001b[39;49m\u001b[43m:\u001b[49m\u001b[43m \u001b[49m\u001b[43mseed\u001b[49m\u001b[43m,\u001b[49m\n\u001b[0;32m    606\u001b[0m \u001b[43m                \u001b[49m\u001b[38;5;124;43m\"\u001b[39;49m\u001b[38;5;124;43mstop\u001b[39;49m\u001b[38;5;124;43m\"\u001b[39;49m\u001b[43m:\u001b[49m\u001b[43m \u001b[49m\u001b[43mstop\u001b[49m\u001b[43m,\u001b[49m\n\u001b[0;32m    607\u001b[0m \u001b[43m                \u001b[49m\u001b[38;5;124;43m\"\u001b[39;49m\u001b[38;5;124;43mstream\u001b[39;49m\u001b[38;5;124;43m\"\u001b[39;49m\u001b[43m:\u001b[49m\u001b[43m \u001b[49m\u001b[43mstream\u001b[49m\u001b[43m,\u001b[49m\n\u001b[0;32m    608\u001b[0m \u001b[43m                \u001b[49m\u001b[38;5;124;43m\"\u001b[39;49m\u001b[38;5;124;43mstream_options\u001b[39;49m\u001b[38;5;124;43m\"\u001b[39;49m\u001b[43m:\u001b[49m\u001b[43m \u001b[49m\u001b[43mstream_options\u001b[49m\u001b[43m,\u001b[49m\n\u001b[0;32m    609\u001b[0m \u001b[43m                \u001b[49m\u001b[38;5;124;43m\"\u001b[39;49m\u001b[38;5;124;43mtemperature\u001b[39;49m\u001b[38;5;124;43m\"\u001b[39;49m\u001b[43m:\u001b[49m\u001b[43m \u001b[49m\u001b[43mtemperature\u001b[49m\u001b[43m,\u001b[49m\n\u001b[0;32m    610\u001b[0m \u001b[43m                \u001b[49m\u001b[38;5;124;43m\"\u001b[39;49m\u001b[38;5;124;43mtool_choice\u001b[39;49m\u001b[38;5;124;43m\"\u001b[39;49m\u001b[43m:\u001b[49m\u001b[43m \u001b[49m\u001b[43mtool_choice\u001b[49m\u001b[43m,\u001b[49m\n\u001b[0;32m    611\u001b[0m \u001b[43m                \u001b[49m\u001b[38;5;124;43m\"\u001b[39;49m\u001b[38;5;124;43mtools\u001b[39;49m\u001b[38;5;124;43m\"\u001b[39;49m\u001b[43m:\u001b[49m\u001b[43m \u001b[49m\u001b[43mtools\u001b[49m\u001b[43m,\u001b[49m\n\u001b[0;32m    612\u001b[0m \u001b[43m                \u001b[49m\u001b[38;5;124;43m\"\u001b[39;49m\u001b[38;5;124;43mtop_logprobs\u001b[39;49m\u001b[38;5;124;43m\"\u001b[39;49m\u001b[43m:\u001b[49m\u001b[43m \u001b[49m\u001b[43mtop_logprobs\u001b[49m\u001b[43m,\u001b[49m\n\u001b[0;32m    613\u001b[0m \u001b[43m                \u001b[49m\u001b[38;5;124;43m\"\u001b[39;49m\u001b[38;5;124;43mtop_p\u001b[39;49m\u001b[38;5;124;43m\"\u001b[39;49m\u001b[43m:\u001b[49m\u001b[43m \u001b[49m\u001b[43mtop_p\u001b[49m\u001b[43m,\u001b[49m\n\u001b[0;32m    614\u001b[0m \u001b[43m                \u001b[49m\u001b[38;5;124;43m\"\u001b[39;49m\u001b[38;5;124;43muser\u001b[39;49m\u001b[38;5;124;43m\"\u001b[39;49m\u001b[43m:\u001b[49m\u001b[43m \u001b[49m\u001b[43muser\u001b[49m\u001b[43m,\u001b[49m\n\u001b[0;32m    615\u001b[0m \u001b[43m            \u001b[49m\u001b[43m}\u001b[49m\u001b[43m,\u001b[49m\n\u001b[0;32m    616\u001b[0m \u001b[43m            \u001b[49m\u001b[43mcompletion_create_params\u001b[49m\u001b[38;5;241;43m.\u001b[39;49m\u001b[43mCompletionCreateParams\u001b[49m\u001b[43m,\u001b[49m\n\u001b[0;32m    617\u001b[0m \u001b[43m        \u001b[49m\u001b[43m)\u001b[49m\u001b[43m,\u001b[49m\n\u001b[0;32m    618\u001b[0m \u001b[43m        \u001b[49m\u001b[43moptions\u001b[49m\u001b[38;5;241;43m=\u001b[39;49m\u001b[43mmake_request_options\u001b[49m\u001b[43m(\u001b[49m\n\u001b[0;32m    619\u001b[0m \u001b[43m            \u001b[49m\u001b[43mextra_headers\u001b[49m\u001b[38;5;241;43m=\u001b[39;49m\u001b[43mextra_headers\u001b[49m\u001b[43m,\u001b[49m\u001b[43m \u001b[49m\u001b[43mextra_query\u001b[49m\u001b[38;5;241;43m=\u001b[39;49m\u001b[43mextra_query\u001b[49m\u001b[43m,\u001b[49m\u001b[43m \u001b[49m\u001b[43mextra_body\u001b[49m\u001b[38;5;241;43m=\u001b[39;49m\u001b[43mextra_body\u001b[49m\u001b[43m,\u001b[49m\u001b[43m \u001b[49m\u001b[43mtimeout\u001b[49m\u001b[38;5;241;43m=\u001b[39;49m\u001b[43mtimeout\u001b[49m\n\u001b[0;32m    620\u001b[0m \u001b[43m        \u001b[49m\u001b[43m)\u001b[49m\u001b[43m,\u001b[49m\n\u001b[0;32m    621\u001b[0m \u001b[43m        \u001b[49m\u001b[43mcast_to\u001b[49m\u001b[38;5;241;43m=\u001b[39;49m\u001b[43mChatCompletion\u001b[49m\u001b[43m,\u001b[49m\n\u001b[0;32m    622\u001b[0m \u001b[43m        \u001b[49m\u001b[43mstream\u001b[49m\u001b[38;5;241;43m=\u001b[39;49m\u001b[43mstream\u001b[49m\u001b[43m \u001b[49m\u001b[38;5;129;43;01mor\u001b[39;49;00m\u001b[43m \u001b[49m\u001b[38;5;28;43;01mFalse\u001b[39;49;00m\u001b[43m,\u001b[49m\n\u001b[0;32m    623\u001b[0m \u001b[43m        \u001b[49m\u001b[43mstream_cls\u001b[49m\u001b[38;5;241;43m=\u001b[39;49m\u001b[43mStream\u001b[49m\u001b[43m[\u001b[49m\u001b[43mChatCompletionChunk\u001b[49m\u001b[43m]\u001b[49m\u001b[43m,\u001b[49m\n\u001b[0;32m    624\u001b[0m \u001b[43m    \u001b[49m\u001b[43m)\u001b[49m\n",
      "File \u001b[1;32m~\\anaconda3\\envs\\finfeed_env\\Lib\\site-packages\\openai\\_base_client.py:1240\u001b[0m, in \u001b[0;36mSyncAPIClient.post\u001b[1;34m(self, path, cast_to, body, options, files, stream, stream_cls)\u001b[0m\n\u001b[0;32m   1226\u001b[0m \u001b[38;5;28;01mdef\u001b[39;00m \u001b[38;5;21mpost\u001b[39m(\n\u001b[0;32m   1227\u001b[0m     \u001b[38;5;28mself\u001b[39m,\n\u001b[0;32m   1228\u001b[0m     path: \u001b[38;5;28mstr\u001b[39m,\n\u001b[1;32m   (...)\u001b[0m\n\u001b[0;32m   1235\u001b[0m     stream_cls: \u001b[38;5;28mtype\u001b[39m[_StreamT] \u001b[38;5;241m|\u001b[39m \u001b[38;5;28;01mNone\u001b[39;00m \u001b[38;5;241m=\u001b[39m \u001b[38;5;28;01mNone\u001b[39;00m,\n\u001b[0;32m   1236\u001b[0m ) \u001b[38;5;241m-\u001b[39m\u001b[38;5;241m>\u001b[39m ResponseT \u001b[38;5;241m|\u001b[39m _StreamT:\n\u001b[0;32m   1237\u001b[0m     opts \u001b[38;5;241m=\u001b[39m FinalRequestOptions\u001b[38;5;241m.\u001b[39mconstruct(\n\u001b[0;32m   1238\u001b[0m         method\u001b[38;5;241m=\u001b[39m\u001b[38;5;124m\"\u001b[39m\u001b[38;5;124mpost\u001b[39m\u001b[38;5;124m\"\u001b[39m, url\u001b[38;5;241m=\u001b[39mpath, json_data\u001b[38;5;241m=\u001b[39mbody, files\u001b[38;5;241m=\u001b[39mto_httpx_files(files), \u001b[38;5;241m*\u001b[39m\u001b[38;5;241m*\u001b[39moptions\n\u001b[0;32m   1239\u001b[0m     )\n\u001b[1;32m-> 1240\u001b[0m     \u001b[38;5;28;01mreturn\u001b[39;00m cast(ResponseT, \u001b[38;5;28;43mself\u001b[39;49m\u001b[38;5;241;43m.\u001b[39;49m\u001b[43mrequest\u001b[49m\u001b[43m(\u001b[49m\u001b[43mcast_to\u001b[49m\u001b[43m,\u001b[49m\u001b[43m \u001b[49m\u001b[43mopts\u001b[49m\u001b[43m,\u001b[49m\u001b[43m \u001b[49m\u001b[43mstream\u001b[49m\u001b[38;5;241;43m=\u001b[39;49m\u001b[43mstream\u001b[49m\u001b[43m,\u001b[49m\u001b[43m \u001b[49m\u001b[43mstream_cls\u001b[49m\u001b[38;5;241;43m=\u001b[39;49m\u001b[43mstream_cls\u001b[49m\u001b[43m)\u001b[49m)\n",
      "File \u001b[1;32m~\\anaconda3\\envs\\finfeed_env\\Lib\\site-packages\\openai\\_base_client.py:921\u001b[0m, in \u001b[0;36mSyncAPIClient.request\u001b[1;34m(self, cast_to, options, remaining_retries, stream, stream_cls)\u001b[0m\n\u001b[0;32m    912\u001b[0m \u001b[38;5;28;01mdef\u001b[39;00m \u001b[38;5;21mrequest\u001b[39m(\n\u001b[0;32m    913\u001b[0m     \u001b[38;5;28mself\u001b[39m,\n\u001b[0;32m    914\u001b[0m     cast_to: Type[ResponseT],\n\u001b[1;32m   (...)\u001b[0m\n\u001b[0;32m    919\u001b[0m     stream_cls: \u001b[38;5;28mtype\u001b[39m[_StreamT] \u001b[38;5;241m|\u001b[39m \u001b[38;5;28;01mNone\u001b[39;00m \u001b[38;5;241m=\u001b[39m \u001b[38;5;28;01mNone\u001b[39;00m,\n\u001b[0;32m    920\u001b[0m ) \u001b[38;5;241m-\u001b[39m\u001b[38;5;241m>\u001b[39m ResponseT \u001b[38;5;241m|\u001b[39m _StreamT:\n\u001b[1;32m--> 921\u001b[0m     \u001b[38;5;28;01mreturn\u001b[39;00m \u001b[38;5;28;43mself\u001b[39;49m\u001b[38;5;241;43m.\u001b[39;49m\u001b[43m_request\u001b[49m\u001b[43m(\u001b[49m\n\u001b[0;32m    922\u001b[0m \u001b[43m        \u001b[49m\u001b[43mcast_to\u001b[49m\u001b[38;5;241;43m=\u001b[39;49m\u001b[43mcast_to\u001b[49m\u001b[43m,\u001b[49m\n\u001b[0;32m    923\u001b[0m \u001b[43m        \u001b[49m\u001b[43moptions\u001b[49m\u001b[38;5;241;43m=\u001b[39;49m\u001b[43moptions\u001b[49m\u001b[43m,\u001b[49m\n\u001b[0;32m    924\u001b[0m \u001b[43m        \u001b[49m\u001b[43mstream\u001b[49m\u001b[38;5;241;43m=\u001b[39;49m\u001b[43mstream\u001b[49m\u001b[43m,\u001b[49m\n\u001b[0;32m    925\u001b[0m \u001b[43m        \u001b[49m\u001b[43mstream_cls\u001b[49m\u001b[38;5;241;43m=\u001b[39;49m\u001b[43mstream_cls\u001b[49m\u001b[43m,\u001b[49m\n\u001b[0;32m    926\u001b[0m \u001b[43m        \u001b[49m\u001b[43mremaining_retries\u001b[49m\u001b[38;5;241;43m=\u001b[39;49m\u001b[43mremaining_retries\u001b[49m\u001b[43m,\u001b[49m\n\u001b[0;32m    927\u001b[0m \u001b[43m    \u001b[49m\u001b[43m)\u001b[49m\n",
      "File \u001b[1;32m~\\anaconda3\\envs\\finfeed_env\\Lib\\site-packages\\openai\\_base_client.py:1020\u001b[0m, in \u001b[0;36mSyncAPIClient._request\u001b[1;34m(self, cast_to, options, remaining_retries, stream, stream_cls)\u001b[0m\n\u001b[0;32m   1017\u001b[0m         err\u001b[38;5;241m.\u001b[39mresponse\u001b[38;5;241m.\u001b[39mread()\n\u001b[0;32m   1019\u001b[0m     log\u001b[38;5;241m.\u001b[39mdebug(\u001b[38;5;124m\"\u001b[39m\u001b[38;5;124mRe-raising status error\u001b[39m\u001b[38;5;124m\"\u001b[39m)\n\u001b[1;32m-> 1020\u001b[0m     \u001b[38;5;28;01mraise\u001b[39;00m \u001b[38;5;28mself\u001b[39m\u001b[38;5;241m.\u001b[39m_make_status_error_from_response(err\u001b[38;5;241m.\u001b[39mresponse) \u001b[38;5;28;01mfrom\u001b[39;00m \u001b[38;5;28;01mNone\u001b[39;00m\n\u001b[0;32m   1022\u001b[0m \u001b[38;5;28;01mreturn\u001b[39;00m \u001b[38;5;28mself\u001b[39m\u001b[38;5;241m.\u001b[39m_process_response(\n\u001b[0;32m   1023\u001b[0m     cast_to\u001b[38;5;241m=\u001b[39mcast_to,\n\u001b[0;32m   1024\u001b[0m     options\u001b[38;5;241m=\u001b[39moptions,\n\u001b[1;32m   (...)\u001b[0m\n\u001b[0;32m   1027\u001b[0m     stream_cls\u001b[38;5;241m=\u001b[39mstream_cls,\n\u001b[0;32m   1028\u001b[0m )\n",
      "\u001b[1;31mBadRequestError\u001b[0m: Error code: 400 - {'error': {'message': \"This model's maximum context length is 16385 tokens. However, your messages resulted in 17566 tokens. Please reduce the length of the messages.\", 'type': 'invalid_request_error', 'param': 'messages', 'code': 'context_length_exceeded'}}"
     ]
    }
   ],
   "source": [
    "chain.invoke({\"context\":transcribed*10,\n",
    "             \"question\":\"what is the most important news today\"})"
   ]
  },
  {
   "cell_type": "code",
   "execution_count": 217,
   "id": "13a99fed-cf2c-4baa-ac41-0b3fc8ab6c4f",
   "metadata": {},
   "outputs": [],
   "source": [
    "from langchain_community.document_loaders import TextLoader\n",
    "\n",
    "loader = TextLoader(\"transcription1.txt\") #text instance of langchain\n"
   ]
  },
  {
   "cell_type": "code",
   "execution_count": 218,
   "id": "284744ab-3e54-4dc2-8df7-538a2753dd5c",
   "metadata": {},
   "outputs": [],
   "source": [
    "text_documents = loader.load() #get the text with metda data"
   ]
  },
  {
   "cell_type": "code",
   "execution_count": 219,
   "id": "5ec3eee4-10cd-4b3a-9cd6-92a3b21c0b18",
   "metadata": {},
   "outputs": [],
   "source": [
    "from langchain.text_splitter import RecursiveCharacterTextSplitter\n",
    "\n",
    "text_splitter = RecursiveCharacterTextSplitter(chunk_size=1000, chunk_overlap=20)\n"
   ]
  },
  {
   "cell_type": "code",
   "execution_count": 220,
   "id": "73e8948d-44f1-43e5-afe9-2433a574dc0b",
   "metadata": {
    "scrolled": true
   },
   "outputs": [
    {
     "data": {
      "text/plain": [
       "[Document(page_content=\"This news is funded by viewers like you. Please support our work at democracynow.org slash give. Welcome to democracynow.org, the Warren Peace Report. I'm Amy Goodman. In Gaza, Israeli bombs came down on the News State out refugee camp in central Gaza overnight landing on a house and an unawas school housing displaced people. At least 14 people were killed, including children. Survivors desperately searched through the rubble for signs of life. This is madness. They're targeting people, civilians. They have nothing to do with the resistance or with anything. They're children. I swear to God, they're children. She's the friend of my girl. They play together every day. This is a worker with the UN refugee agency, inner-waw. It was hit and you said, uh, it happened around 2.05 a.m. in a place sheltering displaced people. They came to the school to be safe and the schools hit without any warning. One of the school staff members was martyred and it seems that there is no safe place in the\", metadata={'source': 'transcription1.txt'}),\n",
       " Document(page_content=\"safe place in the Gaza Strip. There is no power nor strength except with God. This is enough. It's enough. We ask God for safety. People swear in the Gaza Strip, Israeli ground forces have surrounded evacuation zones and shelters in Jabalya as Israel escalates attacks in the northern region. A new human rights watch report finds Israeli forces have attacked humanitarian aid convoys and buildings at least eight times since October 7th, despite being given their coordinates and without warning. This comes as UN Secretary General Antonio Guterres on Monday called for a full investigation. After a UN aid worker was killed and another injured when their clearly marked vehicle was attacked in Rafa as they traveled to the European hospital. More than 190 UN staff had been killed in Gaza since October 7th. Meanwhile inside Rafa's European hospital, over 20 U.S. medical volunteers are now reportedly trapped and unable to return home after Israel sealed off the Rafa board acrossing last week.\", metadata={'source': 'transcription1.txt'}),\n",
       " Document(page_content=\"last week. Like many gaisons, the U.S. medical workers are now facing dehydration and other deadly health conditions. The intercepts Ryan Grim questioned State Department spokesperson Vident Patel over the fate of the U.S. doctors. What does it say about conditions more generally in Rafa and in Kanyunas if American doctors only arrive there recently are already suffering from dehydration and malnutrition? So look, we have not been unambiguous about the humanitarian situation in Gaza. It is a crisis. No amount of humanitarian aid at this moment is enough. The State Department spokesperson also criticized Israeli settlers who were seen in a video blocking a Jordanian aid convoy headed toward Gaza, throwing food into the road and setting fire to vehicles at the Takumiya checkpoint near Hebron in the occupied West Bank. As the death toll in Gaza, tops 35,000 Palestinians mourned Monday the killing of Hashem Khazel, a disability rights advocate who was known as Gaza's godfather of the\", metadata={'source': 'transcription1.txt'}),\n",
       " Document(page_content=\"godfather of the death. Hashem Khazel was killed in an Israeli air strike along with his wife. They had nine children. Seven of them were reportedly severely injured in the strike. A U.S. Army officer working at the Defense Intelligence Agency, the DIA, has resigned to protest what he called the United States unqualified support for Israel's war on Gaza. Major Harrison Mann wrote in a post online that the U.S. has, quote, enabled and empowered the killing and starvation of tens of thousands of innocent Palestinians. He went on to write, quote, as a descendant of European Jews, I was raised in a particularly unforgiving moral environment when it came to the topic of bearing responsibility for ethnic cleansing. The Israeli newspaper Aharetz is reporting at least ten Israeli officers and soldiers have died by suicide since October 7th. The total number of suicides is likely even higher, since the list does not include soldiers who died after they were discharged. Michael Cohen took the\", metadata={'source': 'transcription1.txt'}),\n",
       " Document(page_content=\"Cohen took the stand Monday and Donald Trump's criminal election interference trial and testified that Trump, his former boss, instructed him to make a $130,000 hush money payment to Stormy Daniels in order to protect his 2016 presidential run. The arrangement, which was made between Cohen Trump and then Trump Organization's CFO, Alan Weiselberg, included a plan to reimburse Cohen for the payment, which involved falsifying business documents by classifying them as legal expenses, falsely claiming they were payments to Cohen for his services as Trump's, quote, personal lawyer. Michael Cohen, Trump's former fixer, told the court, Trump said, quote, women will hate me. This is going to be a disaster for the campaign, unquote. Cohen also said, quote, he wasn't thinking about Melania. This was all about the campaign, unquote. According to Cohen, Trump also urged him to drag out negotiations with Daniels past the November election, saying, quote, if I win, it has no relevance because I'm\", metadata={'source': 'transcription1.txt'}),\n",
       " Document(page_content=\"because I'm president. And if I lose, I don't really care. Trump said. Democratic senators say it's highly likely they'll investigate the former president following reports that Trump told oil executives he would enact environmental policy rollbacks in exchange for $1 billion in campaign contributions. Trump reportedly made the offer at a dinner at Mar-a-Lago last month. Secretary of State Antony Blinkins in Ukraine on a surprise visit in his first trip to Kiev since Congress approved $61 billion in additional military aid to Ukraine. Blinkins trip comes days after Russia launched a new ground offensive targeting Ukraine's Kharkiv region. In Australia, former military lawyer and whistleblower David McBride was sentenced to over five years in prison for sharing classified material about Australian war crimes in Afghanistan. The sentencing comes seven years after ABC, the Australian Broadcasting Corporation, published the leaked information in a report called the Afghan Files. In\", metadata={'source': 'transcription1.txt'}),\n",
       " Document(page_content=\"Afghan Files. In related news, a court in London is expected to rule next Monday on whether to accept U.S. government assurances that Wiggy Leaks founder Julian Assange will receive first amendment protections, if extradited to the U.S. and put on trial for espionage, and that he won't be executed if found guilty. In Brazil, the death toll from ongoing flooding in Rio Grande de Soule has reached 147 over 100 people are missing half a million others have been displaced. Authorities warn more floods and landsides could be on their way as rain continues to plague the southern state. This is a resident in one of the stricken towns. I'll be quiet honest, I think that in the future, Muslim will become a river. This flood left a lot of soil, a lot of sand, took a lot of trees into the town. We really have to think that this is going to be very difficult for us to live here. Climate protesters disrupted the Italian open on Monday. Members of the group last generation poured white paint and\", metadata={'source': 'transcription1.txt'}),\n",
       " Document(page_content=\"white paint and threw confetti on the tennis court during a match, while other activists cemented their feet to the stands. The action comes as Italy is facing a major drought. Back in the U.S., over 5,000 workers at two Mercedes-Benz plants in Alabama are voting this week on whether to join the United Auto Workers Union. Workers say Mercedes has repeatedly engaged in union busting and Republican leaders, including Governor Kay Ivey, have also tried to stime their efforts. At UAW says its believes workers will prevail as it hopes to see its second major victory in the South since Volkswagen workers in Chattanooga, Tennessee voted overwhelmingly last month to join the union. Last night, workers of the Hyundai plant in Alabama joined Rebren William Barber's Moral Monday Mass and Montgomery to push their own union campaign. We give our all to the clock, but we have no pension, no retiree, no health care. This is just wrong, and we're going to try to make things right. And another labor\", metadata={'source': 'transcription1.txt'}),\n",
       " Document(page_content=\"And another labor news unionized workers at the University of California have begun voting to authorize a strike to protest the violent crackdown on Gaza encampments at UCLA and other UC campuses. The UAW said, quote, our members have been beaten, concussed, pepper sprayed, both by counter protesters and by police forces, unquote. And those are some of the headlines. This is Democracy Now, Democracy Now.org, the Warren Peace Report. I'm Amy Goodman in New York, joined by Democracy Now, co-hosts Wang Zan-Las in Chicago, hi-wan. Hi, Amy, and welcome to all of our Listens and Viewers across the country and around the world. Democracy Now is funded by viewers like you. Please give today at democracynow.org slash give.\", metadata={'source': 'transcription1.txt'})]"
      ]
     },
     "execution_count": 220,
     "metadata": {},
     "output_type": "execute_result"
    }
   ],
   "source": [
    "text_splitter.split_documents(text_documents)"
   ]
  },
  {
   "cell_type": "code",
   "execution_count": 221,
   "id": "d26681cf-a6ba-46c9-99f1-9b6d1eca8f1a",
   "metadata": {},
   "outputs": [],
   "source": [
    "documents = text_splitter.split_documents(text_documents)"
   ]
  },
  {
   "cell_type": "code",
   "execution_count": 222,
   "id": "b28cb802-adad-49da-b1a7-67cab7eb8880",
   "metadata": {},
   "outputs": [],
   "source": [
    "from langchain_openai.embeddings import OpenAIEmbeddings\n",
    "\n",
    "embeddings = OpenAIEmbeddings() #you can specify different models here"
   ]
  },
  {
   "cell_type": "code",
   "execution_count": null,
   "id": "bde209f0-a353-4aef-906d-f2bbef9fe73b",
   "metadata": {},
   "outputs": [],
   "source": [
    "#!pip install langchain_pinecone\n",
    "#!pip install pinecone-client"
   ]
  },
  {
   "cell_type": "code",
   "execution_count": 144,
   "id": "c2a64c7f-d34e-43e9-be27-d1e510932447",
   "metadata": {},
   "outputs": [],
   "source": [
    "from pinecone import Pinecone,  PodSpec\n",
    "from langchain_pinecone import PineconeVectorStore\n",
    "from langchain_core.runnables import RunnablePassthrough"
   ]
  },
  {
   "cell_type": "code",
   "execution_count": 132,
   "id": "81e30b74-59e4-4e58-90b4-5feea560258d",
   "metadata": {},
   "outputs": [],
   "source": [
    "from langchain_pinecone import PineconeVectorStore\n",
    "from langchain_core.runnables import RunnablePassthrough"
   ]
  },
  {
   "cell_type": "code",
   "execution_count": 192,
   "id": "059cfd0d-1f67-450f-b19b-1d71e1f69b7e",
   "metadata": {},
   "outputs": [],
   "source": [
    "pc = Pinecone(api_key=os.getenv('PINECONE_API_KEY'))\n",
    "index_name = \"youtube-index\"\n",
    "\n",
    "# connect to index\n",
    "index = pc.Index(index_name)"
   ]
  },
  {
   "cell_type": "code",
   "execution_count": 223,
   "id": "b55f12fa-d2f8-43f8-b306-d7465a437441",
   "metadata": {},
   "outputs": [
    {
     "data": {
      "text/plain": [
       "{'dimension': 1536,\n",
       " 'index_fullness': 0.0,\n",
       " 'namespaces': {'': {'vector_count': 16}},\n",
       " 'total_vector_count': 16}"
      ]
     },
     "execution_count": 223,
     "metadata": {},
     "output_type": "execute_result"
    }
   ],
   "source": [
    "index.describe_index_stats() # as the dimension increases, we would expect better similarity search but more costly"
   ]
  },
  {
   "cell_type": "code",
   "execution_count": 224,
   "id": "aa17b823-08d2-4603-8aba-c5e371bce087",
   "metadata": {
    "scrolled": true
   },
   "outputs": [
    {
     "data": {
      "text/plain": [
       "[Document(page_content=\"This news is funded by viewers like you. Please support our work at democracynow.org slash give. Welcome to democracynow.org, the Warren Peace Report. I'm Amy Goodman. In Gaza, Israeli bombs came down on the News State out refugee camp in central Gaza overnight landing on a house and an unawas school housing displaced people. At least 14 people were killed, including children. Survivors desperately searched through the rubble for signs of life. This is madness. They're targeting people, civilians. They have nothing to do with the resistance or with anything. They're children. I swear to God, they're children. She's the friend of my girl. They play together every day. This is a worker with the UN refugee agency, inner-waw. It was hit and you said, uh, it happened around 2.05 a.m. in a place sheltering displaced people. They came to the school to be safe and the schools hit without any warning. One of the school staff members was martyred and it seems that there is no safe place in the\", metadata={'source': 'transcription1.txt'}),\n",
       " Document(page_content=\"safe place in the Gaza Strip. There is no power nor strength except with God. This is enough. It's enough. We ask God for safety. People swear in the Gaza Strip, Israeli ground forces have surrounded evacuation zones and shelters in Jabalya as Israel escalates attacks in the northern region. A new human rights watch report finds Israeli forces have attacked humanitarian aid convoys and buildings at least eight times since October 7th, despite being given their coordinates and without warning. This comes as UN Secretary General Antonio Guterres on Monday called for a full investigation. After a UN aid worker was killed and another injured when their clearly marked vehicle was attacked in Rafa as they traveled to the European hospital. More than 190 UN staff had been killed in Gaza since October 7th. Meanwhile inside Rafa's European hospital, over 20 U.S. medical volunteers are now reportedly trapped and unable to return home after Israel sealed off the Rafa board acrossing last week.\", metadata={'source': 'transcription1.txt'}),\n",
       " Document(page_content=\"last week. Like many gaisons, the U.S. medical workers are now facing dehydration and other deadly health conditions. The intercepts Ryan Grim questioned State Department spokesperson Vident Patel over the fate of the U.S. doctors. What does it say about conditions more generally in Rafa and in Kanyunas if American doctors only arrive there recently are already suffering from dehydration and malnutrition? So look, we have not been unambiguous about the humanitarian situation in Gaza. It is a crisis. No amount of humanitarian aid at this moment is enough. The State Department spokesperson also criticized Israeli settlers who were seen in a video blocking a Jordanian aid convoy headed toward Gaza, throwing food into the road and setting fire to vehicles at the Takumiya checkpoint near Hebron in the occupied West Bank. As the death toll in Gaza, tops 35,000 Palestinians mourned Monday the killing of Hashem Khazel, a disability rights advocate who was known as Gaza's godfather of the\", metadata={'source': 'transcription1.txt'}),\n",
       " Document(page_content=\"godfather of the death. Hashem Khazel was killed in an Israeli air strike along with his wife. They had nine children. Seven of them were reportedly severely injured in the strike. A U.S. Army officer working at the Defense Intelligence Agency, the DIA, has resigned to protest what he called the United States unqualified support for Israel's war on Gaza. Major Harrison Mann wrote in a post online that the U.S. has, quote, enabled and empowered the killing and starvation of tens of thousands of innocent Palestinians. He went on to write, quote, as a descendant of European Jews, I was raised in a particularly unforgiving moral environment when it came to the topic of bearing responsibility for ethnic cleansing. The Israeli newspaper Aharetz is reporting at least ten Israeli officers and soldiers have died by suicide since October 7th. The total number of suicides is likely even higher, since the list does not include soldiers who died after they were discharged. Michael Cohen took the\", metadata={'source': 'transcription1.txt'}),\n",
       " Document(page_content=\"Cohen took the stand Monday and Donald Trump's criminal election interference trial and testified that Trump, his former boss, instructed him to make a $130,000 hush money payment to Stormy Daniels in order to protect his 2016 presidential run. The arrangement, which was made between Cohen Trump and then Trump Organization's CFO, Alan Weiselberg, included a plan to reimburse Cohen for the payment, which involved falsifying business documents by classifying them as legal expenses, falsely claiming they were payments to Cohen for his services as Trump's, quote, personal lawyer. Michael Cohen, Trump's former fixer, told the court, Trump said, quote, women will hate me. This is going to be a disaster for the campaign, unquote. Cohen also said, quote, he wasn't thinking about Melania. This was all about the campaign, unquote. According to Cohen, Trump also urged him to drag out negotiations with Daniels past the November election, saying, quote, if I win, it has no relevance because I'm\", metadata={'source': 'transcription1.txt'}),\n",
       " Document(page_content=\"because I'm president. And if I lose, I don't really care. Trump said. Democratic senators say it's highly likely they'll investigate the former president following reports that Trump told oil executives he would enact environmental policy rollbacks in exchange for $1 billion in campaign contributions. Trump reportedly made the offer at a dinner at Mar-a-Lago last month. Secretary of State Antony Blinkins in Ukraine on a surprise visit in his first trip to Kiev since Congress approved $61 billion in additional military aid to Ukraine. Blinkins trip comes days after Russia launched a new ground offensive targeting Ukraine's Kharkiv region. In Australia, former military lawyer and whistleblower David McBride was sentenced to over five years in prison for sharing classified material about Australian war crimes in Afghanistan. The sentencing comes seven years after ABC, the Australian Broadcasting Corporation, published the leaked information in a report called the Afghan Files. In\", metadata={'source': 'transcription1.txt'}),\n",
       " Document(page_content=\"Afghan Files. In related news, a court in London is expected to rule next Monday on whether to accept U.S. government assurances that Wiggy Leaks founder Julian Assange will receive first amendment protections, if extradited to the U.S. and put on trial for espionage, and that he won't be executed if found guilty. In Brazil, the death toll from ongoing flooding in Rio Grande de Soule has reached 147 over 100 people are missing half a million others have been displaced. Authorities warn more floods and landsides could be on their way as rain continues to plague the southern state. This is a resident in one of the stricken towns. I'll be quiet honest, I think that in the future, Muslim will become a river. This flood left a lot of soil, a lot of sand, took a lot of trees into the town. We really have to think that this is going to be very difficult for us to live here. Climate protesters disrupted the Italian open on Monday. Members of the group last generation poured white paint and\", metadata={'source': 'transcription1.txt'}),\n",
       " Document(page_content=\"white paint and threw confetti on the tennis court during a match, while other activists cemented their feet to the stands. The action comes as Italy is facing a major drought. Back in the U.S., over 5,000 workers at two Mercedes-Benz plants in Alabama are voting this week on whether to join the United Auto Workers Union. Workers say Mercedes has repeatedly engaged in union busting and Republican leaders, including Governor Kay Ivey, have also tried to stime their efforts. At UAW says its believes workers will prevail as it hopes to see its second major victory in the South since Volkswagen workers in Chattanooga, Tennessee voted overwhelmingly last month to join the union. Last night, workers of the Hyundai plant in Alabama joined Rebren William Barber's Moral Monday Mass and Montgomery to push their own union campaign. We give our all to the clock, but we have no pension, no retiree, no health care. This is just wrong, and we're going to try to make things right. And another labor\", metadata={'source': 'transcription1.txt'}),\n",
       " Document(page_content=\"And another labor news unionized workers at the University of California have begun voting to authorize a strike to protest the violent crackdown on Gaza encampments at UCLA and other UC campuses. The UAW said, quote, our members have been beaten, concussed, pepper sprayed, both by counter protesters and by police forces, unquote. And those are some of the headlines. This is Democracy Now, Democracy Now.org, the Warren Peace Report. I'm Amy Goodman in New York, joined by Democracy Now, co-hosts Wang Zan-Las in Chicago, hi-wan. Hi, Amy, and welcome to all of our Listens and Viewers across the country and around the world. Democracy Now is funded by viewers like you. Please give today at democracynow.org slash give.\", metadata={'source': 'transcription1.txt'})]"
      ]
     },
     "execution_count": 224,
     "metadata": {},
     "output_type": "execute_result"
    }
   ],
   "source": [
    "documents"
   ]
  },
  {
   "cell_type": "code",
   "execution_count": 194,
   "id": "26c0c272-5d21-456e-bd6d-bc87407ba741",
   "metadata": {},
   "outputs": [],
   "source": [
    "#For specified index, it creates a data store where document embeddings reside\n",
    "#The from_documents method accepts a list of LangChain’s Document class objects, which can be created using LangChain’s CharacterTextSplitter class\n",
    "#Both of these methods handle the embedding of the provided text data and the creation of records in your Pinecone index.\n",
    "#Once you have initialized a PineconeVectorStore object, you can add more records to the underlying Pinecone index (and thus also the linked LangChain object) using either the add_documents\n",
    "# vectorstore.add_documents(docs)\n",
    "\n",
    "#this line is to create index put documents in it\n",
    "pinecone = PineconeVectorStore.from_documents(    \n",
    "    documents, embeddings, index_name=index_name    \n",
    ")     \n"
   ]
  },
  {
   "cell_type": "code",
   "execution_count": 227,
   "id": "08692ad8-eb47-4f4a-8629-9716be010fad",
   "metadata": {},
   "outputs": [
    {
     "data": {
      "text/plain": [
       "['3e2b9a84-9c79-4477-8a8a-be3fa782cb37',\n",
       " 'ebf3350b-9427-48c1-b2fe-1624e3737b49',\n",
       " '0a81058e-2cce-49b5-96c3-bc4c497ee9c0',\n",
       " '4acb881e-e797-408b-a33e-e5f8f9984e95',\n",
       " '55916ea2-320f-46d4-9f17-1a85433c6c6d',\n",
       " '2c5c327d-4b64-4a15-af55-cadee7b68e9c',\n",
       " '04e97ac1-f5fc-4910-b5c6-2ef2e642ad7b',\n",
       " 'c383ecc5-7104-43f2-b547-c06a6a1afa07',\n",
       " '2c0f64c9-b15e-4d61-aae7-8176f58d0517']"
      ]
     },
     "execution_count": 227,
     "metadata": {},
     "output_type": "execute_result"
    }
   ],
   "source": [
    "#if you have index already, you can add documents using:\n",
    "pinecone.add_documents(documents)"
   ]
  },
  {
   "cell_type": "code",
   "execution_count": 232,
   "id": "e19ebc3b-9e16-4677-8555-ec19b2544416",
   "metadata": {
    "scrolled": true
   },
   "outputs": [
    {
     "data": {
      "text/plain": [
       "[Document(page_content=\"Afghan Files. In related news, a court in London is expected to rule next Monday on whether to accept U.S. government assurances that Wiggy Leaks founder Julian Assange will receive first amendment protections, if extradited to the U.S. and put on trial for espionage, and that he won't be executed if found guilty. In Brazil, the death toll from ongoing flooding in Rio Grande de Soule has reached 147 over 100 people are missing half a million others have been displaced. Authorities warn more floods and landsides could be on their way as rain continues to plague the southern state. This is a resident in one of the stricken towns. I'll be quiet honest, I think that in the future, Muslim will become a river. This flood left a lot of soil, a lot of sand, took a lot of trees into the town. We really have to think that this is going to be very difficult for us to live here. Climate protesters disrupted the Italian open on Monday. Members of the group last generation poured white paint and\", metadata={'source': 'transcription1.txt'}),\n",
       " Document(page_content=\"This news is funded by viewers like you. Please support our work at democracynow.org slash give. Welcome to democracynow.org, the Warren Peace Report. I'm Amy Goodman. In Gaza, Israeli bombs came down on the News State out refugee camp in central Gaza overnight landing on a house and an unawas school housing displaced people. At least 14 people were killed, including children. Survivors desperately searched through the rubble for signs of life. This is madness. They're targeting people, civilians. They have nothing to do with the resistance or with anything. They're children. I swear to God, they're children. She's the friend of my girl. They play together every day. This is a worker with the UN refugee agency, inner-waw. It was hit and you said, uh, it happened around 2.05 a.m. in a place sheltering displaced people. They came to the school to be safe and the schools hit without any warning. One of the school staff members was martyred and it seems that there is no safe place in the\", metadata={'source': 'transcription1.txt'}),\n",
       " Document(page_content=\"And another labor news unionized workers at the University of California have begun voting to authorize a strike to protest the violent crackdown on Gaza encampments at UCLA and other UC campuses. The UAW said, quote, our members have been beaten, concussed, pepper sprayed, both by counter protesters and by police forces, unquote. And those are some of the headlines. This is Democracy Now, Democracy Now.org, the Warren Peace Report. I'm Amy Goodman in New York, joined by Democracy Now, co-hosts Wang Zan-Las in Chicago, hi-wan. Hi, Amy, and welcome to all of our Listens and Viewers across the country and around the world. Democracy Now is funded by viewers like you. Please give today at democracynow.org slash give.\", metadata={'source': 'transcription1.txt'}),\n",
       " Document(page_content=\"because I'm president. And if I lose, I don't really care. Trump said. Democratic senators say it's highly likely they'll investigate the former president following reports that Trump told oil executives he would enact environmental policy rollbacks in exchange for $1 billion in campaign contributions. Trump reportedly made the offer at a dinner at Mar-a-Lago last month. Secretary of State Antony Blinkins in Ukraine on a surprise visit in his first trip to Kiev since Congress approved $61 billion in additional military aid to Ukraine. Blinkins trip comes days after Russia launched a new ground offensive targeting Ukraine's Kharkiv region. In Australia, former military lawyer and whistleblower David McBride was sentenced to over five years in prison for sharing classified material about Australian war crimes in Afghanistan. The sentencing comes seven years after ABC, the Australian Broadcasting Corporation, published the leaked information in a report called the Afghan Files. In\", metadata={'source': 'transcription1.txt'}),\n",
       " Document(page_content=\"white paint and threw confetti on the tennis court during a match, while other activists cemented their feet to the stands. The action comes as Italy is facing a major drought. Back in the U.S., over 5,000 workers at two Mercedes-Benz plants in Alabama are voting this week on whether to join the United Auto Workers Union. Workers say Mercedes has repeatedly engaged in union busting and Republican leaders, including Governor Kay Ivey, have also tried to stime their efforts. At UAW says its believes workers will prevail as it hopes to see its second major victory in the South since Volkswagen workers in Chattanooga, Tennessee voted overwhelmingly last month to join the union. Last night, workers of the Hyundai plant in Alabama joined Rebren William Barber's Moral Monday Mass and Montgomery to push their own union campaign. We give our all to the clock, but we have no pension, no retiree, no health care. This is just wrong, and we're going to try to make things right. And another labor\", metadata={'source': 'transcription1.txt'})]"
      ]
     },
     "execution_count": 232,
     "metadata": {},
     "output_type": "execute_result"
    }
   ],
   "source": [
    "pinecone.similarity_search(\"what is the most important news today\",k=5) #retrun most relevant 5"
   ]
  },
  {
   "cell_type": "code",
   "execution_count": 239,
   "id": "d34789d8-6ff6-423e-8273-09ce5899d964",
   "metadata": {},
   "outputs": [
    {
     "data": {
      "text/plain": [
       "'The most important 5 news today are:\\n1. Court ruling on Julian Assange extradition\\n2. Death toll from flooding in Rio Grande de Soule\\n3. Israeli bombings in Gaza\\n4. Labor union protest at University of California\\n5. Sentencing of whistleblower David McBride'"
      ]
     },
     "execution_count": 239,
     "metadata": {},
     "output_type": "execute_result"
    }
   ],
   "source": [
    "chain = (\n",
    "    {\"context\": pinecone.as_retriever(search_type='similarity',\n",
    "    search_kwargs={\n",
    "        'k': 4}), \n",
    "     \"question\": RunnablePassthrough()}\n",
    "    | prompt\n",
    "    | model\n",
    "    | parser\n",
    ")\n",
    "\n",
    "chain.invoke(\"what is the most important 5 news today\")"
   ]
  },
  {
   "cell_type": "code",
   "execution_count": 249,
   "id": "5cb3bd1e-bf4f-4670-86b5-bcae6ba56829",
   "metadata": {},
   "outputs": [
    {
     "data": {
      "text/plain": [
       "AIMessage(content='1. COVID-19 cases continue to rise globally, with new variants causing concern.\\n2. United Nations reports that climate change is accelerating and urgent action is needed.\\n3. Russia-Ukraine tensions escalate as Russia amasses troops near the border.\\n4. Stock markets experience volatility amid economic uncertainty.\\n5. Controversy surrounds the upcoming Winter Olympics in Beijing due to human rights concerns.', response_metadata={'token_usage': {'completion_tokens': 77, 'prompt_tokens': 16, 'total_tokens': 93}, 'model_name': 'gpt-3.5-turbo', 'system_fingerprint': None, 'finish_reason': 'stop', 'logprobs': None}, id='run-39db224f-fbf0-427d-8d78-75ab0452da0c-0')"
      ]
     },
     "execution_count": 249,
     "metadata": {},
     "output_type": "execute_result"
    }
   ],
   "source": [
    "model.invoke(\"what is the most important 5 news today\")"
   ]
  },
  {
   "cell_type": "code",
   "execution_count": 240,
   "id": "10fbf7d8-3f8c-4b0f-83da-1f78d53a7156",
   "metadata": {},
   "outputs": [
    {
     "data": {
      "text/plain": [
       "<bound method BaseModel.dict of {\n",
       "  context: VectorStoreRetriever(tags=['PineconeVectorStore', 'OpenAIEmbeddings'], vectorstore=<langchain_pinecone.vectorstores.PineconeVectorStore object at 0x0000022AEA018AD0>, search_kwargs={'k': 4}),\n",
       "  question: RunnablePassthrough()\n",
       "}\n",
       "| ChatPromptTemplate(input_variables=['context', 'question'], messages=[HumanMessagePromptTemplate(prompt=PromptTemplate(input_variables=['context', 'question'], template='\\nAnswer the question based on the context below. If you can\\'t\\nanswer the question, reply \"I don\\'t know\".\\n\\nContext: {context}\\n\\nQuestion: {question}\\n'))])\n",
       "| ChatOpenAI(client=<openai.resources.chat.completions.Completions object at 0x0000022ADBEB9400>, async_client=<openai.resources.chat.completions.AsyncCompletions object at 0x0000022ADBEBA5D0>, openai_api_key=SecretStr('**********'), openai_proxy='')\n",
       "| StrOutputParser()>"
      ]
     },
     "execution_count": 240,
     "metadata": {},
     "output_type": "execute_result"
    }
   ],
   "source": [
    "chain.dict"
   ]
  },
  {
   "cell_type": "code",
   "execution_count": null,
   "id": "ce7274ba-54b2-41de-9f8e-a86319317f8f",
   "metadata": {},
   "outputs": [],
   "source": []
  }
 ],
 "metadata": {
  "kernelspec": {
   "display_name": "Python 3 (ipykernel)",
   "language": "python",
   "name": "python3"
  },
  "language_info": {
   "codemirror_mode": {
    "name": "ipython",
    "version": 3
   },
   "file_extension": ".py",
   "mimetype": "text/x-python",
   "name": "python",
   "nbconvert_exporter": "python",
   "pygments_lexer": "ipython3",
   "version": "3.12.3"
  }
 },
 "nbformat": 4,
 "nbformat_minor": 5
}
