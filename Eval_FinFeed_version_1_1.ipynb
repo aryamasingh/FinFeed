{
 "cells": [
  {
   "cell_type": "code",
   "execution_count": 67,
   "id": "a5c43845",
   "metadata": {},
   "outputs": [],
   "source": [
    "#!pip install transformers\n",
    "#!pip install nltk\n",
    "\n",
    "\n",
    "import os\n",
    "import matplotlib.pyplot as plt\n",
    "from dotenv import load_dotenv\n",
    "from langchain_openai.chat_models import ChatOpenAI\n",
    "from langchain_core.output_parsers import StrOutputParser\n",
    "from langchain.prompts import ChatPromptTemplate\n",
    "from langchain_community.document_loaders import TextLoader\n",
    "from langchain.text_splitter import RecursiveCharacterTextSplitter\n",
    "from langchain_openai.embeddings import OpenAIEmbeddings\n",
    "from pinecone import Pinecone,  PodSpec\n",
    "from langchain_pinecone import PineconeVectorStore\n",
    "from langchain_core.runnables import RunnablePassthrough\n",
    "import re\n",
    "from collections import Counter\n",
    "import nltk\n",
    "from nltk.corpus import stopwords\n",
    "from nltk.tokenize import word_tokenize\n",
    "from transformers import pipeline\n",
    "\n",
    "#load_dotenv(\"API_KEYS\")"
   ]
  },
  {
   "cell_type": "code",
   "execution_count": 3,
   "id": "7448743f",
   "metadata": {},
   "outputs": [],
   "source": [
    "from openai import OpenAI"
   ]
  },
  {
   "cell_type": "code",
   "execution_count": 5,
   "id": "71474f23",
   "metadata": {},
   "outputs": [],
   "source": [
    "# load environment variables from .env file\n",
    "load_dotenv(\"API_KEYS.env\")\n",
    "\n",
    "# get the environment variable\n",
    "client = OpenAI(api_key=os.environ.get(\"OPENAI_API_KEY\"))"
   ]
  },
  {
   "cell_type": "code",
   "execution_count": 6,
   "id": "a73624ef",
   "metadata": {},
   "outputs": [
    {
     "data": {
      "text/plain": [
       "True"
      ]
     },
     "execution_count": 6,
     "metadata": {},
     "output_type": "execute_result"
    }
   ],
   "source": [
    "load_dotenv(\"API_KEYS.env\")"
   ]
  },
  {
   "cell_type": "code",
   "execution_count": 7,
   "id": "44b08c8f",
   "metadata": {},
   "outputs": [],
   "source": [
    "openai_api_key = os.getenv('OPENAI_API_KEY')\n",
    "pinecone_api_key = os.getenv('PINECONE_API_KEY')"
   ]
  },
  {
   "cell_type": "code",
   "execution_count": 8,
   "id": "e9cf0832-9171-4918-9e53-723b8e883481",
   "metadata": {},
   "outputs": [],
   "source": [
    "\n",
    "class FinFeedRAG:\n",
    "    def __init__(self ,pinecone_index, pine_cone_api_key= pinecone_api_key, openai_api_key= openai_api_key, embeddings_model= OpenAIEmbeddings(openai_api_key=openai_api_key),model='gpt-3.5-turbo'):\n",
    "        self.openai_api_key=openai_api_key\n",
    "        self.api_key_pinecone = pine_cone_api_key\n",
    "        self.pinecone_index = pinecone_index\n",
    "        # Initialize Pinecone connection\n",
    "        self.vector_db = None\n",
    "        self.embeddings=embeddings_model\n",
    "        self.model=model\n",
    "        self.template = \"\"\"\n",
    "                Answer the question based on the context below but pretend like you are a news reporter who just received the context as the latest news. \n",
    "                If you can't answer the question, reply \"I do not have enough information to answer this question\".\n",
    "                \n",
    "                Context: {context}\n",
    "                \n",
    "                Question: {question}\n",
    "                \"\"\"\n",
    "\n",
    "    def initialize_pinecone(self):\n",
    "        if self.vector_db is None:  # Check if it's already initialized\n",
    "            pc = Pinecone(api_key=self.api_key_pinecone)\n",
    "            self.vector_db = pc.Index(self.pinecone_index)  # Connect to the index and store the connection\n",
    "        return self.vector_db\n",
    "        \n",
    "    \n",
    "    def preprocess_youtube_text(self, text_file, chunksize,chunkoverlap):\n",
    "\n",
    "        self.preprocess_input(text_file,save_back_to_file=True)\n",
    "        \n",
    "        loader = TextLoader(text_file) #text instance of langchain\n",
    "        text_documents = loader.load() \n",
    "        # Assuming RecursiveCharacterTextSplitter is a class you have access to or have created\n",
    "        splitter = RecursiveCharacterTextSplitter(chunk_size=chunksize, chunk_overlap=chunkoverlap)\n",
    "        processed_text = splitter.split_documents(text_documents)\n",
    "        # Further processing can be done here if necessary\n",
    "        return processed_text\n",
    "\n",
    "    def upload_to_vb(self,text,embeddings,chunksize, chunkoverlap,index=None):\n",
    "        if index is None:\n",
    "            index = self.pinecone_index\n",
    "        return PineconeVectorStore.from_documents(self.preprocess_youtube_text(text,chunksize,chunkoverlap), self.embeddings, index_name=index)\n",
    "\n",
    "\n",
    "    def preprocess_input(self, text_file,save_back_to_file=True):\n",
    "        # Simple text preprocessing: lowercasing, removing punctuation need to add more preprocessing steps do research on it\n",
    "        # Read and process the content and rewrite it\n",
    "        if save_back_to_file==True:\n",
    "            with open(text_file, 'r') as file:\n",
    "                # Read the contents of the file\n",
    "                text = file.read()\n",
    "            processed_text = text.lower()\n",
    "            processed_text = re.sub(r'[^\\w\\s]', '', processed_text)\n",
    "            tokens = word_tokenize(processed_text)\n",
    "            filtered_words = [word for word in tokens if word.lower() not in stopwords.words('english')]\n",
    "            # Join words back into a single string\n",
    "            final_text = ' '.join(filtered_words)\n",
    "            # Write the processed content back, replacing the original\n",
    "            with open(text_file, 'w') as file:\n",
    "                file.write(final_text)\n",
    "        else:\n",
    "            with open(text_file, 'r') as file:\n",
    "                # Read the contents of the file\n",
    "                text = file.read()\n",
    "            processed_text = text.lower()\n",
    "            processed_text = re.sub(r'[^\\w\\s]', '', processed_text)\n",
    "            tokens = word_tokenize(processed_text)\n",
    "            filtered_words = [word for word in tokens if word.lower() not in stopwords.words('english')]\n",
    "            # Join words back into a single string\n",
    "            final_text = ' '.join(filtered_words)\n",
    "            return final_text\n",
    "        \n",
    "    def most_common(self, input_text_file,most_common=10):\n",
    "        # Preprocess the text\n",
    "        processed_text = self.preprocess_input(input_text_file,save_back_to_file=False)    \n",
    "        # Extract keywords based on frequency, assuming more frequent terms are more relevant\n",
    "        words = processed_text.split()\n",
    "        word_freq = Counter(words)\n",
    "        common_words = word_freq.most_common(most_common)  # Get the top 5 words       \n",
    "        # Form a query by joining the most common words\n",
    "        query = ' '.join(word for word, _ in common_words)\n",
    "        return query\n",
    "\n",
    "    def retrieve_embeddings(self, query, most_similar=2):\n",
    "        assert self.vector_db is not_none, \"Initialize Pinecone first\"\n",
    "        query_result = self.vector_db.query(vector=self.embeddings.embed_query(query), top_k=most_similar)\n",
    "        ids = [item['id'] for item in query_result['matches']]\n",
    "        return [self.vector_db.fetch(ids)['vectors'][id]['values'] for id in ids]\n",
    "\n",
    "    def provide_context(self, query,index=None,most_similar=2):\n",
    "        if index is None:\n",
    "            index = self.pinecone_index\n",
    "        # Provide context to LLM\n",
    "        return PineconeVectorStore.from_existing_index(index_name=index,embedding=self.embeddings).as_retriever(search_type='similarity',\n",
    "                search_kwargs={\n",
    "                'k': 10}).invoke(query)\n",
    "        \n",
    "    def prompt(self,template=None):\n",
    "        if template is None:\n",
    "            template = self.template\n",
    "        return ChatPromptTemplate.from_template(template)\n",
    "        \n",
    "    def llm(self,model=None):\n",
    "        if model is None:\n",
    "            model = self.model\n",
    "        return ChatOpenAI(openai_api_key=self.openai_api_key, model=model)\n",
    "        \n",
    "    def parser(self):\n",
    "        return StrOutputParser()\n",
    "\n",
    "    def chain(self,query):\n",
    "        #complete_query = self.prompt().format(context=self.provide_context(query),question=query)\n",
    "        #response = self.llm().invoke(complete_query)\n",
    "        #return self.parser().invoke(response)\n",
    "        chaining = (\n",
    "        {\"context\": PineconeVectorStore.from_existing_index(index_name=self.pinecone_index,embedding=self.embeddings).as_retriever(search_type='similarity',\n",
    "                search_kwargs={\n",
    "                'k': 10}), \n",
    "         \"question\": RunnablePassthrough()}\n",
    "        | self.prompt()\n",
    "        | self.llm()\n",
    "        | self.parser())\n",
    "        return chaining.invoke(query)\n",
    "    \n",
    "    def pipe(self,chunk):\n",
    "        pipe = pipeline(\"text-classification\", model=\"mrm8488/distilroberta-finetuned-financial-news-sentiment-analysis\")\n",
    "        return pipe(chunk)\n",
    "\n",
    "    def get_sentiment(self,chunks,neutrality_threshdold=0.3):\n",
    "        \"\"\"Gets the compound sentiment of the chunks based on their individual sentiment\n",
    "        Parameters\n",
    "        ----------\n",
    "        chunks : list\n",
    "            List of text chunks\n",
    "        neutrality_threshdold : float, optional\n",
    "            The hyperparameter neutrality_threshdold tunes how certain we need to be of a sentiment to classify it as positive or negative\n",
    "            (If neutrality_threshdold=1, any list of chunks will result in a neutral sentiment\n",
    "            If neutrality_threshdold=0, any list of chunks will be classified as positive or negative)\n",
    "        Returns\n",
    "        -------\n",
    "        int\n",
    "            1 for positive, 0 for neutral, and -1 for negative\n",
    "        \"\"\"\n",
    "        #Assing a numerical value to each sentiment to simplify calculations\n",
    "        sentiment_values = {'positive':1, 'neutral':0, 'negative':-1}\n",
    "        #Run each chunk through sentiment model\n",
    "        sentiments = [self.pipe(chunk.page_content)[0] for chunk in chunks]\n",
    "        #Print out model output\n",
    "        #print(sentiments)\n",
    "        #For each chunk, we compute a sentiment score by multiplying the score times the sentiment value corresponding to its label\n",
    "        sentiment_scores = [(sentiment['score'])*sentiment_values[sentiment['label']] for sentiment in sentiments]\n",
    "        #Average sentiment_scores\n",
    "        avg_sentiment_score = sum(sentiment_scores)/len(sentiment_scores)\n",
    "        if avg_sentiment_score >= neutrality_threshdold:\n",
    "            return ('positive',sentiments)\n",
    "        elif avg_sentiment_score <= -neutrality_threshdold:\n",
    "            return ('negative',sentiments)\n",
    "        else:\n",
    "            return ('neutral',sentiments)\n",
    "            \n",
    "\n",
    "     "
   ]
  },
  {
   "cell_type": "code",
   "execution_count": 9,
   "id": "5cd6e5f6",
   "metadata": {},
   "outputs": [],
   "source": [
    "bot = FinFeedRAG(pinecone_index='day1')"
   ]
  },
  {
   "cell_type": "code",
   "execution_count": 10,
   "id": "f9810625-161c-43af-988f-2324f3400c0f",
   "metadata": {},
   "outputs": [],
   "source": [
    "pine = bot.initialize_pinecone()"
   ]
  },
  {
   "cell_type": "code",
   "execution_count": 11,
   "id": "bda6785f-59af-43de-8e3e-fa56054c2c2e",
   "metadata": {},
   "outputs": [
    {
     "data": {
      "text/plain": [
       "{'dimension': 1536,\n",
       " 'index_fullness': 0.0,\n",
       " 'namespaces': {'': {'vector_count': 4367}},\n",
       " 'total_vector_count': 4367}"
      ]
     },
     "execution_count": 11,
     "metadata": {},
     "output_type": "execute_result"
    }
   ],
   "source": [
    "pine.describe_index_stats()"
   ]
  },
  {
   "cell_type": "code",
   "execution_count": 12,
   "id": "45d36734-4bb9-43ac-9ddf-390ccffdeeb3",
   "metadata": {},
   "outputs": [
    {
     "name": "stdout",
     "output_type": "stream",
     "text": [
      "data/text/xi_jinping_and_vladimir_putin_vow_to_cooperate_against_us'containment'.txt\n",
      "data/text/active_bond_investors_getting_a_taste_of_'nirvana'.txt\n"
     ]
    }
   ],
   "source": [
    "\n",
    "directory_path = \"data/text/\"\n",
    "for filename in os.listdir(directory_path)[0:2]:\n",
    "    if filename.endswith(('.txt')):\n",
    "        # Perform your desired actions here\n",
    "        print(directory_path + filename)\n"
   ]
  },
  {
   "cell_type": "code",
   "execution_count": 78,
   "id": "7b099724-9e1a-462f-99c2-38870be9cd31",
   "metadata": {},
   "outputs": [
    {
     "name": "stdout",
     "output_type": "stream",
     "text": [
      "data/text/'comfortable'_with_front_end_of_treasury_curve_allspring's_bory.txt\n",
      "data/text/11_million_immigrants_in_us_unlawfully_at_last_count_mayorkas.txt\n",
      "data/text/active_bond_investors_getting_a_taste_of_'nirvana'.txt\n",
      "data/text/a_rebound_in_box_shipments_is_unlikely_in_2024.txt\n",
      "data/text/biden_and_trump_agree_to_debate_what_to_expect_#shorts.txt\n",
      "data/text/biden_blocks_release_of_interview_tapes_on_classified_papers__balance_of_power.txt\n",
      "data/text/biggest_saudi_ipo_of_the_year_draws_$91_billion_in_orders.txt\n",
      "data/text/blackrocksrieder_federal_reserve_rate_cuts_needed_to_tame_inflation.txt\n",
      "data/text/bloomberg_brief_(05172024).txt\n",
      "data/text/bloomberg_markets_asia_05172024.txt\n",
      "data/text/bloomberg_real_yield_05172024.txt\n",
      "data/text/bloomberg_surveillance_05172024.txt\n",
      "data/text/bloomberg_the_open_05172024.txt\n",
      "data/text/bny_mellon_ceo_on_pushing_bank's_240-year_legacy_forward.txt\n",
      "data/text/booking_holdings_versus_disney_why_only_one_is_a_buy.txt\n",
      "data/text/china's_mortgage_bazooka__daybreak_europe_05172024.txt\n",
      "data/text/china's_property_crisis,_richemont_storming_ahead_and_the_gamestop_frenzy_#bloombergbrief_#shorts.txt\n",
      "data/text/china's_xi_and_russia's_putin_share_a_hug_in_beijing.txt\n",
      "data/text/china_needs_to_make_property_'desirable'_again,_bofa_says.txt\n",
      "data/text/china_regulators_discuss_property_market_aid_with_banks__bloomberg_the_china_show_5172024.txt\n",
      "data/text/china_regulators_set_to_discuss_property_aid_with_banks.txt\n",
      "data/text/china_scraps_mortgage_rate_floor_for_individual_homebuyers.txt\n",
      "data/text/china_unveils_plans_to_revitalize_its_property_market.txt\n",
      "data/text/copper_prices_rise_amid_supply_squeeze.txt\n",
      "data/text/credit_fundamentals_'strong'_amid_global_issuance_surge.txt\n",
      "data/text/dow_closes_above_40k__what_you_missed_0517.txt\n",
      "data/text/dow_notches_record_closing_high__beyond_the_bell.txt\n",
      "data/text/ecb's_approach_to_inflation_is_right,_donohoe_says.txt\n",
      "data/text/fed's_'higher_for_longer'_message_tumbles_markets__horizons_middle_east_&_africa_05162024.txt\n",
      "data/text/gas_an_extreme_hurricane_season_could_push_prices_to_$4.txt\n",
      "data/text/georgia's_eu_dream_at_risk,_china_housing_crisis_rescue_plan__bloomberg_the_pulse_051724.txt\n",
      "data/text/homebuilding_fundamentals_remain_'robust'_saint-gobain_na_ceo.txt\n",
      "data/text/how_the_tiny_nation_of_djibouti_navigates_the_red_sea_crisis.txt\n",
      "data/text/ian_bremmer_describes_the_tension_on_columbia's_campus_#israel.txt\n",
      "data/text/idc_president_on_generative_ai,_tech_outlook.txt\n",
      "data/text/inflation_fears,_richemont's_new_'bos'__bloomberg_markets_today_0517.txt\n",
      "data/text/israel-hamas_cease-fire_talks_remain_deadlocked.txt\n",
      "data/text/is_the_us_economy_experiencing_stagflation__presented_by_cme_group.txt\n",
      "data/text/markets_'priced_to_perfection,'_but_be_cautious_strategist.txt\n",
      "data/text/markets_in_2_minutes_markets_are_happy_for_very_valid_reasons.txt\n",
      "data/text/market_rally_'has_got_legs,'_could_go_5-10%_higher_strategist.txt\n",
      "data/text/microsoft's_game_pass_is_bad_news_for_gamestop_investors.txt\n",
      "data/text/microsoft_adds_amd_ai_chips_to_cloud_computing_products.txt\n",
      "data/text/microsoft_to_step_up_subscription,_ai_game_analyst.txt\n",
      "data/text/mohamed_el-erian_sees_2%_inflation_target_as_totally_arbitrary.txt\n",
      "data/text/mortgage_rates_decrease,_yet_affordability_crisis_remains.txt\n",
      "data/text/netflix-nfl_deal_the_streamer's_latest_move_into_live_sports.txt\n",
      "data/text/nvidia's_long-term_growth_is_uncertain_strategist.txt\n",
      "data/text/nvidia_one_thing_this_strategist_thinks_could_threaten_growth.txt\n",
      "data/text/outgoing_boeing_ceo_to_stay_on_board_as_safety_concerns_linger.txt\n",
      "data/text/reddit,_openai_forge_pact_to_bring_content_to_chatgpt.txt\n",
      "data/text/rep._nickel_on_crypto_vote_next_week.txt\n",
      "data/text/robinhood_gets_a_double_upgrade_from_bank_of_america.txt\n",
      "data/text/snowflake_said_to_pursue_startup_reka_ai_for_$1_billion.txt\n",
      "data/text/stocks_tread_water_with_dow_aiming_for_40,000__may_17_yahoo_finance.txt\n",
      "data/text/stock_market_today_dow_closes_above_40,000_for_first_time_to_cap_winning_week_for_stocks__may_17.txt\n",
      "data/text/stock_market_why_247_trading_may_be_inevitable.txt\n",
      "data/text/supreme_court_rejects_challenge_to_cfpb_funding.txt\n",
      "data/text/tesla_looking_to_use_china_data_center_in_self-driving_push_rpt..txt\n",
      "data/text/tesla_supercharger_network_it_makes_economic_sense_to_bring_people_back,_analyst_explains.txt\n",
      "data/text/these_stocks_do_well_in_inflationary_environments.txt\n",
      "data/text/these_two_companies_helped_the_dow_cross_40,000.txt\n",
      "data/text/tinder_swindler_how_'romance_fraud'_became_a_multi-billion_dollar_cybercrime.txt\n",
      "data/text/tony's_chocolonely_ceo_bad_practices_fueled_cocoa_surge.txt\n",
      "data/text/trump_keeps_topping_biden_in_polls_about_the_economy.txt\n",
      "data/text/tsmc's_42%_surge_leads_to_weighting_limits_for_some_funds.txt\n",
      "data/text/u.s._consumer_increasingly_essential_to_equities_strategist.txt\n",
      "data/text/us_banking_crisis_risk_if_fed_keeps_rates_higher_stanhope's_pinto.txt\n",
      "data/text/us_immigration_system_is_broken_fundamentally_sec._mayorkas.txt\n",
      "data/text/what_applied_materials'_q2_earnings_mean_for_chip_industry.txt\n",
      "data/text/what_it_takes_to_be_a_value_investor_today.txt\n",
      "data/text/what_the_dow_at_40k_means_to_investors.txt\n",
      "data/text/what_walmart's_q1_earnings_are_revealing_about_us_consumers.txt\n",
      "data/text/white_house_press_secretary_karine_jean-pierre_holds_briefing.txt\n",
      "data/text/who_could_replace_the_boeing_ceo.txt\n",
      "data/text/xi,_putin_agree_to_strengthen_coordination.txt\n",
      "data/text/xi_and_putin,_rescue_package,_trade_war__3_things_you_missed_in_#china_#politics_#shorts.txt\n",
      "data/text/xi_and_putin_drink_tea_together_to_end_day_of_talks.txt\n",
      "data/text/xi_jinping_and_vladimir_putin_vow_to_cooperate_against_us'containment'.txt\n"
     ]
    }
   ],
   "source": [
    "directory_path = \"data/text/\"\n",
    "for filename in os.listdir(directory_path):\n",
    "    if filename.endswith(('.txt')):\n",
    "        # Perform your desired actions here\n",
    "        print(directory_path + filename)\n",
    "        bot.upload_to_vb(directory_path + filename,embeddings=OpenAIEmbeddings(openai_api_key=openai_api_key),chunksize=200,chunkoverlap=20,index='day1')"
   ]
  },
  {
   "cell_type": "code",
   "execution_count": 13,
   "id": "35eed3db",
   "metadata": {},
   "outputs": [
    {
     "data": {
      "text/plain": [
       "<__main__.FinFeedRAG at 0x13d6e3290>"
      ]
     },
     "execution_count": 13,
     "metadata": {},
     "output_type": "execute_result"
    }
   ],
   "source": [
    "bot"
   ]
  },
  {
   "cell_type": "code",
   "execution_count": 14,
   "id": "1b60578b-bf8f-473b-b10f-0063526ed0f8",
   "metadata": {},
   "outputs": [
    {
     "data": {
      "text/plain": [
       "'I do not have enough information to answer this question.'"
      ]
     },
     "execution_count": 14,
     "metadata": {},
     "output_type": "execute_result"
    }
   ],
   "source": [
    "bot.chain(\"What is happening with Pakistan's economy?\")"
   ]
  },
  {
   "cell_type": "code",
   "execution_count": 15,
   "id": "dd899b9d-9022-4c39-82a4-68ef3f8a7931",
   "metadata": {},
   "outputs": [
    {
     "data": {
      "text/plain": [
       "[Document(page_content='foo lets take quick look markets right futures indicating mixed open certainly look across size scale big cap stocks looking modest gains sp futures marginally two points nasa futures one tenth one', metadata={'source': 'data/text/bloomberg_the_open_05172024.txt', 'youtube_reponse_metadata': \"{'id': {'kind': 'youtube#video', 'videoId': 'ro1faNCrBXM'}, 'snippet': {'publishedAt': '2024-05-17T16:36:56Z', 'channelId': 'UCIALMKvObZNtJ6AmdCLP7Lg', 'title': 'Bloomberg The Open 05/17/2024', 'channelTitle': 'Bloomberg Television'}}\"}),\n",
       " Document(page_content='head trying figure right market rally set broaden rest year want bring jack manley jpmorgan asset management global global market strategist jack great see desk talk us youre looking dow 40000', metadata={'source': 'data/text/stocks_tread_water_with_dow_aiming_for_40,000__may_17_yahoo_finance.txt', 'youtube_reponse_metadata': \"{'id': {'kind': 'youtube#video', 'videoId': 'jyOVRQIrIpc'}, 'snippet': {'publishedAt': '2024-05-17T16:15:14Z', 'channelId': 'UCEAZeUIeJs0IjQiqTCdVSIg', 'title': 'Stocks tread water with Dow aiming for 40,000 | May 17 Yahoo Finance', 'channelTitle': 'Yahoo Finance'}}\"}),\n",
       " Document(page_content='insightful markets coming going take look stocks watch including rich change top swiss luxury house details next bloomberg call turbulence weve got weve good healthy markets quite know kind', metadata={'source': \"data/text/inflation_fears,_richemont's_new_'bos'__bloomberg_markets_today_0517.txt\", 'youtube_reponse_metadata': \"{'id': {'kind': 'youtube#video', 'videoId': 'HY583QRI5v0'}, 'snippet': {'publishedAt': '2024-05-17T11:21:26Z', 'channelId': 'UCIALMKvObZNtJ6AmdCLP7Lg', 'title': 'Inflation Fears, Richemont&#39;s New &#39;Bos&#39; | Bloomberg Markets Today 05/17', 'channelTitle': 'Bloomberg Television'}}\"}),\n",
       " Document(page_content='dont think theres much happy talk happy talk look markets bullion markets effusive fact generally still good global growth yes cracks showing overall still pretty strong companies making good profits', metadata={'source': \"data/text/inflation_fears,_richemont's_new_'bos'__bloomberg_markets_today_0517.txt\", 'youtube_reponse_metadata': \"{'id': {'kind': 'youtube#video', 'videoId': 'HY583QRI5v0'}, 'snippet': {'publishedAt': '2024-05-17T11:21:26Z', 'channelId': 'UCIALMKvObZNtJ6AmdCLP7Lg', 'title': 'Inflation Fears, Richemont&#39;s New &#39;Bos&#39; | Bloomberg Markets Today 05/17', 'channelTitle': 'Bloomberg Television'}}\"}),\n",
       " Document(page_content='much evidence happy talk morning european stocks little bit two tenths percent stocks 600 morning looking us features well theyre flat dont look look dont know content rather happy good time game', metadata={'source': \"data/text/inflation_fears,_richemont's_new_'bos'__bloomberg_markets_today_0517.txt\", 'youtube_reponse_metadata': \"{'id': {'kind': 'youtube#video', 'videoId': 'HY583QRI5v0'}, 'snippet': {'publishedAt': '2024-05-17T11:21:26Z', 'channelId': 'UCIALMKvObZNtJ6AmdCLP7Lg', 'title': 'Inflation Fears, Richemont&#39;s New &#39;Bos&#39; | Bloomberg Markets Today 05/17', 'channelTitle': 'Bloomberg Television'}}\"}),\n",
       " Document(page_content='term investor would recommend majority exposure us stocks reasons us economy decoupled european economy result well market dynamics much better us europe short term yes european equities attractive', metadata={'source': \"data/text/georgia's_eu_dream_at_risk,_china_housing_crisis_rescue_plan__bloomberg_the_pulse_051724.txt\", 'youtube_reponse_metadata': \"{'id': {'kind': 'youtube#video', 'videoId': '9NIb2XuW8UY'}, 'snippet': {'publishedAt': '2024-05-17T13:27:14Z', 'channelId': 'UCIALMKvObZNtJ6AmdCLP7Lg', 'title': 'Georgia&#39;s EU Dream at Risk, China Housing Crisis Rescue Plan | Bloomberg The Pulse 05/17/24', 'channelTitle': 'Bloomberg Television'}}\"}),\n",
       " Document(page_content='beyond bell bloombergs comprehensive crossplatform coverage us market close starts right right two minutes away end trading day romain bostic alongside alex steele counting closing bell help take us', metadata={'source': 'data/text/dow_notches_record_closing_high__beyond_the_bell.txt', 'youtube_reponse_metadata': \"{'id': {'kind': 'youtube#video', 'videoId': 'XPCLBb7KCvw'}, 'snippet': {'publishedAt': '2024-05-17T20:56:40Z', 'channelId': 'UCIALMKvObZNtJ6AmdCLP7Lg', 'title': 'Dow Notches Record Closing High | Beyond the Bell', 'channelTitle': 'Bloomberg Television'}}\"}),\n",
       " Document(page_content='enough pull forward expectations cut european stocks cheap moment compared us fact point discount europe us highest last probably 20 years basically 35 percent discount valuation european stocks', metadata={'source': \"data/text/georgia's_eu_dream_at_risk,_china_housing_crisis_rescue_plan__bloomberg_the_pulse_051724.txt\", 'youtube_reponse_metadata': \"{'id': {'kind': 'youtube#video', 'videoId': '9NIb2XuW8UY'}, 'snippet': {'publishedAt': '2024-05-17T13:27:14Z', 'channelId': 'UCIALMKvObZNtJ6AmdCLP7Lg', 'title': 'Georgia&#39;s EU Dream at Risk, China Housing Crisis Rescue Plan | Bloomberg The Pulse 05/17/24', 'channelTitle': 'Bloomberg Television'}}\"}),\n",
       " Document(page_content='technology five tenths one percent consumer staples real estate trading little bit light well got know hard make lot hay seeing honest remain know really agree got past certain hurdles bond market', metadata={'source': 'data/text/dow_notches_record_closing_high__beyond_the_bell.txt', 'youtube_reponse_metadata': \"{'id': {'kind': 'youtube#video', 'videoId': 'XPCLBb7KCvw'}, 'snippet': {'publishedAt': '2024-05-17T20:56:40Z', 'channelId': 'UCIALMKvObZNtJ6AmdCLP7Lg', 'title': 'Dow Notches Record Closing High | Beyond the Bell', 'channelTitle': 'Bloomberg Television'}}\"}),\n",
       " Document(page_content='past week one point 7000 percent last week monday stock trading six cents earlier today trading three dollars share seeing one dollar share incredible happened stocks faraday way third mentioned', metadata={'source': 'data/text/stock_market_today_dow_closes_above_40,000_for_first_time_to_cap_winning_week_for_stocks__may_17.txt', 'youtube_reponse_metadata': \"{'id': {'kind': 'youtube#video', 'videoId': '2nO2VTkC_d0'}, 'snippet': {'publishedAt': '2024-05-17T21:14:52Z', 'channelId': 'UCEAZeUIeJs0IjQiqTCdVSIg', 'title': 'Stock market today: Dow closes above 40,000 for first time to cap winning week for stocks | May 17', 'channelTitle': 'Yahoo Finance'}}\"})]"
      ]
     },
     "execution_count": 15,
     "metadata": {},
     "output_type": "execute_result"
    }
   ],
   "source": [
    "bot.provide_context(\"Give me 10 bullet points about US stock market and worldwide\",most_similar=5)"
   ]
  },
  {
   "cell_type": "markdown",
   "id": "41be5805",
   "metadata": {},
   "source": [
    "Model evaluation"
   ]
  },
  {
   "cell_type": "code",
   "execution_count": 79,
   "id": "bab008a4",
   "metadata": {},
   "outputs": [],
   "source": [
    "#LOOK AT THIS\n",
    "\n",
    "user_prompts=['what is going on with inmigrants','what is the capital of the US?', 'has inflation gone up?']\n",
    "\n",
    "def model_evaluation(user_prompts):\n",
    "    \n",
    "    evaluations = []\n",
    "    our_answers = []\n",
    "    benchmark_answers = []\n",
    "    preferred_answers = []\n",
    "\n",
    "    #initialize our model\n",
    "    bot = FinFeedRAG(pinecone_index = 'day1') #Ask guys\n",
    "    \n",
    "    for user_prompt in user_prompts:\n",
    "\n",
    "        #Benchmark answer\n",
    "        benchmark_model = ChatOpenAI(model=\"gpt-3.5-turbo\",temperature=0)\n",
    "        benchmark_answer = benchmark_model.invoke(user_prompt).content\n",
    "\n",
    "        #Our answer\n",
    "        our_answer = bot.chain(user_prompt)\n",
    "\n",
    "        #Evaluation\n",
    "        template = ChatPromptTemplate.from_messages([\n",
    "            (\"system\", \"You are a helpful finance bot evaluator. You will be given a user prompt, and the corresponding answers of two different bots. Your job is to choose the most up to date answer. \\\n",
    "        Please provide a reason for your choice.\"),\n",
    "            (\"system\", \"User_prompt: \" + user_prompt),\n",
    "            (\"system\", \"Answer 1: \" + benchmark_answer),\n",
    "            (\"system\", \"Answer 2: \" + our_answer)])\n",
    "\n",
    "        prompt_value = template.invoke({\"user_prompt\":user_prompt,\"benchmark_answer\":benchmark_answer,\"our_answer\":our_answer})\n",
    "\n",
    "        chaining = ({} | template | benchmark_model)\n",
    "        evaluation = chaining.invoke([''])\n",
    "\n",
    "        our_answers.append(our_answer)\n",
    "        benchmark_answers.append(benchmark_answer)\n",
    "        evaluations.append(evaluation)\n",
    "\n",
    "    #Extract preffered answer as an integer \n",
    "    for evaluation in evaluations:\n",
    "\n",
    "        #Benchmark answer\n",
    "        evaluator_model = ChatOpenAI(model=\"gpt-3.5-turbo\",temperature=0)\n",
    "\n",
    "        #Evaluation\n",
    "        template = ChatPromptTemplate.from_messages([\n",
    "            (\"system\", \"Determine what is the user preferred answer. Please restrict your output to a single integer.\"),\n",
    "            (\"system\", \"User_prompt: \" + evaluation.content)])\n",
    "        \n",
    "        chaining = ({} | template | evaluator_model)\n",
    "        preferred_answer = chaining.invoke([''])\n",
    "        preferred_answers.append(int(preferred_answer.content))\n",
    "    \n",
    "    return benchmark_answers, our_answers, evaluations, preferred_answers\n",
    "    "
   ]
  },
  {
   "cell_type": "code",
   "execution_count": 86,
   "id": "d0a0fea0",
   "metadata": {},
   "outputs": [],
   "source": [
    "benchs, ours, evals, pref = model_evaluation(user_prompts)\n",
    "\n"
   ]
  },
  {
   "cell_type": "code",
   "execution_count": 87,
   "id": "4039ff0e",
   "metadata": {},
   "outputs": [
    {
     "data": {
      "text/plain": [
       "['what is going on with inmigrants',\n",
       " 'What is the capital of the US?',\n",
       " 'Has inflation gone up?']"
      ]
     },
     "execution_count": 87,
     "metadata": {},
     "output_type": "execute_result"
    }
   ],
   "source": [
    "user_prompts"
   ]
  },
  {
   "cell_type": "code",
   "execution_count": 88,
   "id": "41ffc190",
   "metadata": {},
   "outputs": [
    {
     "data": {
      "text/plain": [
       "['There are various issues and challenges facing immigrants around the world. Some of the key issues include:\\n\\n1. Immigration policies: Many countries have strict immigration policies that make it difficult for immigrants to enter and stay in the country legally. This can lead to undocumented immigration and exploitation of immigrants.\\n\\n2. Discrimination and xenophobia: Immigrants often face discrimination and xenophobia in their host countries, which can impact their ability to find employment, housing, and access to services.\\n\\n3. Economic challenges: Immigrants may struggle to find stable employment and earn a living wage, leading to economic insecurity and poverty.\\n\\n4. Legal challenges: Immigrants may face legal challenges such as deportation, detention, and lack of access to legal representation.\\n\\n5. Integration: Immigrants may struggle to integrate into their new communities due to language barriers, cultural differences, and lack of social support.\\n\\nOverall, the situation for immigrants can vary greatly depending on the country and region they are in, but many face significant challenges and barriers to achieving a better quality of life.',\n",
       " 'The capital of the United States is Washington, D.C.',\n",
       " \"Inflation rates can vary depending on the country and time period in question. It is best to check the most recent data from a reliable source, such as the government's statistical agency or central bank, to determine if inflation has gone up.\"]"
      ]
     },
     "execution_count": 88,
     "metadata": {},
     "output_type": "execute_result"
    }
   ],
   "source": [
    "benchs"
   ]
  },
  {
   "cell_type": "code",
   "execution_count": 89,
   "id": "2530abf9",
   "metadata": {},
   "outputs": [
    {
     "data": {
      "text/plain": [
       "['As per the latest news received, there is a significant discussion on the broken fundamental state of the US immigration system. The Secretary Mayorkas mentioned that the immigration system is facing challenges due to disparities in people seeking asylum, concerns about illegal immigrants entering the country, and the reduction in the number of people qualifying for asylum. Additionally, there is a growing number of displaced people in the United States, with factors such as violence, insecurity, poverty, and extreme weather events driving people to leave their home countries. Overall, the issue of immigration is a complex and pressing one that requires attention and reform.',\n",
       " 'I do not have enough information to answer this question.',\n",
       " 'I do not have enough information to answer this question.']"
      ]
     },
     "execution_count": 89,
     "metadata": {},
     "output_type": "execute_result"
    }
   ],
   "source": [
    "ours"
   ]
  },
  {
   "cell_type": "code",
   "execution_count": 90,
   "id": "76134bf8",
   "metadata": {},
   "outputs": [
    {
     "data": {
      "text/plain": [
       "[AIMessage(content='I would choose Answer 2 as the most up to date response. This answer provides specific information about the current state of the US immigration system, including recent statements from Secretary Mayorkas and the challenges faced by immigrants seeking asylum. It also mentions the growing number of displaced people in the United States due to various factors. Answer 1, on the other hand, provides a general overview of the issues and challenges facing immigrants without specific details or recent updates.', response_metadata={'token_usage': {'completion_tokens': 91, 'prompt_tokens': 409, 'total_tokens': 500}, 'model_name': 'gpt-3.5-turbo', 'system_fingerprint': None, 'finish_reason': 'stop', 'logprobs': None}, id='run-694cac36-7ad7-4b6f-bf24-adfa60246180-0'),\n",
       " AIMessage(content='I would choose Answer 1: \"The capital of the United States is Washington, D.C.\" This answer provides the correct and up-to-date information about the capital of the US. Answer 2 is not helpful as it does not provide any information.', response_metadata={'token_usage': {'completion_tokens': 51, 'prompt_tokens': 107, 'total_tokens': 158}, 'model_name': 'gpt-3.5-turbo', 'system_fingerprint': None, 'finish_reason': 'stop', 'logprobs': None}, id='run-e722134e-0e9d-46c4-ae80-55722d5d5553-0'),\n",
       " AIMessage(content='I would choose Answer 1 as the most up-to-date response. Answer 2 indicates a lack of information to provide an answer, while Answer 1 suggests checking the most recent data from a reliable source to determine if inflation has gone up. This approach is more likely to lead the user to the most current and accurate information on inflation rates.', response_metadata={'token_usage': {'completion_tokens': 69, 'prompt_tokens': 140, 'total_tokens': 209}, 'model_name': 'gpt-3.5-turbo', 'system_fingerprint': None, 'finish_reason': 'stop', 'logprobs': None}, id='run-e78afae5-5ff1-4b18-87b9-562c014f7fea-0')]"
      ]
     },
     "execution_count": 90,
     "metadata": {},
     "output_type": "execute_result"
    }
   ],
   "source": [
    "evals"
   ]
  },
  {
   "cell_type": "code",
   "execution_count": 91,
   "id": "c5fef7d7",
   "metadata": {},
   "outputs": [
    {
     "data": {
      "text/plain": [
       "[2, 1, 1]"
      ]
     },
     "execution_count": 91,
     "metadata": {},
     "output_type": "execute_result"
    }
   ],
   "source": [
    "pref"
   ]
  },
  {
   "cell_type": "code",
   "execution_count": null,
   "id": "b744b851",
   "metadata": {},
   "outputs": [],
   "source": []
  }
 ],
 "metadata": {
  "kernelspec": {
   "display_name": "Python 3 (ipykernel)",
   "language": "python",
   "name": "python3"
  },
  "language_info": {
   "codemirror_mode": {
    "name": "ipython",
    "version": 3
   },
   "file_extension": ".py",
   "mimetype": "text/x-python",
   "name": "python",
   "nbconvert_exporter": "python",
   "pygments_lexer": "ipython3",
   "version": "3.12.3"
  }
 },
 "nbformat": 4,
 "nbformat_minor": 5
}
